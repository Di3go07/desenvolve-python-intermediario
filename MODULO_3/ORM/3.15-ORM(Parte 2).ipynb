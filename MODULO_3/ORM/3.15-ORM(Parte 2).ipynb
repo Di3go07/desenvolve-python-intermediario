{
 "cells": [
  {
   "cell_type": "markdown",
   "metadata": {},
   "source": [
    "## Exercícios\n",
    "\n",
    "> Retirados de [learn-python: sqlalchemy_orm-questions](https://aviadr1.github.io/learn-advanced-python/11_db_access/exercise/sqlalchemy_orm-questions.html).\n",
    "\n",
    "#### Q1.\n",
    "\n",
    "Baixa e extraia o arquivo compactado com o banco de dados [Chinook database](https://www.sqlitetutorial.net/sqlite-sample-database/). Salve o arquivo `chinook.db` na mesma pasta deste script.\n",
    "* Link para baixar: http://www.sqlitetutorial.net/wp-content/uploads/2018/03/chinook.zip\n",
    "\n",
    "<img width=500 src=https://www.sqlitetutorial.net/wp-content/uploads/2015/11/sqlite-sample-database-color.jpg>\n"
   ]
  },
  {
   "cell_type": "markdown",
   "metadata": {},
   "source": [
    "#### Q2.\n",
    "\n",
    "Leia o código e os comentários das células a seguir para entender como acessamos os modelos ORM de um banco já existente."
   ]
  },
  {
   "cell_type": "code",
   "execution_count": 2,
   "metadata": {
    "vscode": {
     "languageId": "plaintext"
    }
   },
   "outputs": [
    {
     "name": "stdout",
     "output_type": "stream",
     "text": [
      "albums\n",
      "['AlbumId', 'Title', 'ArtistId']\n",
      "[('AlbumId', Column('AlbumId', INTEGER(), table=<albums>, primary_key=True, nullable=False)), ('Title', Column('Title', NVARCHAR(length=160), table=<albums>, nullable=False)), ('ArtistId', Column('ArtistId', INTEGER(), ForeignKey('artists.ArtistId'), table=<albums>, nullable=False))]\n",
      "-------------------------\n",
      "artists\n",
      "['ArtistId', 'Name']\n",
      "[('ArtistId', Column('ArtistId', INTEGER(), table=<artists>, primary_key=True, nullable=False)), ('Name', Column('Name', NVARCHAR(length=120), table=<artists>))]\n",
      "-------------------------\n",
      "customers\n",
      "['CustomerId', 'FirstName', 'LastName', 'Company', 'Address', 'City', 'State', 'Country', 'PostalCode', 'Phone', 'Fax', 'Email', 'SupportRepId']\n",
      "[('CustomerId', Column('CustomerId', INTEGER(), table=<customers>, primary_key=True, nullable=False)), ('FirstName', Column('FirstName', NVARCHAR(length=40), table=<customers>, nullable=False)), ('LastName', Column('LastName', NVARCHAR(length=20), table=<customers>, nullable=False)), ('Company', Column('Company', NVARCHAR(length=80), table=<customers>)), ('Address', Column('Address', NVARCHAR(length=70), table=<customers>)), ('City', Column('City', NVARCHAR(length=40), table=<customers>)), ('State', Column('State', NVARCHAR(length=40), table=<customers>)), ('Country', Column('Country', NVARCHAR(length=40), table=<customers>)), ('PostalCode', Column('PostalCode', NVARCHAR(length=10), table=<customers>)), ('Phone', Column('Phone', NVARCHAR(length=24), table=<customers>)), ('Fax', Column('Fax', NVARCHAR(length=24), table=<customers>)), ('Email', Column('Email', NVARCHAR(length=60), table=<customers>, nullable=False)), ('SupportRepId', Column('SupportRepId', INTEGER(), ForeignKey('employees.EmployeeId'), table=<customers>))]\n",
      "-------------------------\n",
      "employees\n",
      "['EmployeeId', 'LastName', 'FirstName', 'Title', 'ReportsTo', 'BirthDate', 'HireDate', 'Address', 'City', 'State', 'Country', 'PostalCode', 'Phone', 'Fax', 'Email']\n",
      "[('EmployeeId', Column('EmployeeId', INTEGER(), table=<employees>, primary_key=True, nullable=False)), ('LastName', Column('LastName', NVARCHAR(length=20), table=<employees>, nullable=False)), ('FirstName', Column('FirstName', NVARCHAR(length=20), table=<employees>, nullable=False)), ('Title', Column('Title', NVARCHAR(length=30), table=<employees>)), ('ReportsTo', Column('ReportsTo', INTEGER(), ForeignKey('employees.EmployeeId'), table=<employees>)), ('BirthDate', Column('BirthDate', DATETIME(), table=<employees>)), ('HireDate', Column('HireDate', DATETIME(), table=<employees>)), ('Address', Column('Address', NVARCHAR(length=70), table=<employees>)), ('City', Column('City', NVARCHAR(length=40), table=<employees>)), ('State', Column('State', NVARCHAR(length=40), table=<employees>)), ('Country', Column('Country', NVARCHAR(length=40), table=<employees>)), ('PostalCode', Column('PostalCode', NVARCHAR(length=10), table=<employees>)), ('Phone', Column('Phone', NVARCHAR(length=24), table=<employees>)), ('Fax', Column('Fax', NVARCHAR(length=24), table=<employees>)), ('Email', Column('Email', NVARCHAR(length=60), table=<employees>))]\n",
      "-------------------------\n",
      "genres\n",
      "['GenreId', 'Name']\n",
      "[('GenreId', Column('GenreId', INTEGER(), table=<genres>, primary_key=True, nullable=False)), ('Name', Column('Name', NVARCHAR(length=120), table=<genres>))]\n",
      "-------------------------\n",
      "invoice_items\n",
      "['InvoiceLineId', 'InvoiceId', 'TrackId', 'UnitPrice', 'Quantity']\n",
      "[('InvoiceLineId', Column('InvoiceLineId', INTEGER(), table=<invoice_items>, primary_key=True, nullable=False)), ('InvoiceId', Column('InvoiceId', INTEGER(), ForeignKey('invoices.InvoiceId'), table=<invoice_items>, nullable=False)), ('TrackId', Column('TrackId', INTEGER(), ForeignKey('tracks.TrackId'), table=<invoice_items>, nullable=False)), ('UnitPrice', Column('UnitPrice', NUMERIC(precision=10, scale=2), table=<invoice_items>, nullable=False)), ('Quantity', Column('Quantity', INTEGER(), table=<invoice_items>, nullable=False))]\n",
      "-------------------------\n",
      "tracks\n",
      "['TrackId', 'Name', 'AlbumId', 'MediaTypeId', 'GenreId', 'Composer', 'Milliseconds', 'Bytes', 'UnitPrice']\n",
      "[('TrackId', Column('TrackId', INTEGER(), table=<tracks>, primary_key=True, nullable=False)), ('Name', Column('Name', NVARCHAR(length=200), table=<tracks>, nullable=False)), ('AlbumId', Column('AlbumId', INTEGER(), ForeignKey('albums.AlbumId'), table=<tracks>)), ('MediaTypeId', Column('MediaTypeId', INTEGER(), ForeignKey('media_types.MediaTypeId'), table=<tracks>, nullable=False)), ('GenreId', Column('GenreId', INTEGER(), ForeignKey('genres.GenreId'), table=<tracks>)), ('Composer', Column('Composer', NVARCHAR(length=220), table=<tracks>)), ('Milliseconds', Column('Milliseconds', INTEGER(), table=<tracks>, nullable=False)), ('Bytes', Column('Bytes', INTEGER(), table=<tracks>)), ('UnitPrice', Column('UnitPrice', NUMERIC(precision=10, scale=2), table=<tracks>, nullable=False))]\n",
      "-------------------------\n",
      "media_types\n",
      "['MediaTypeId', 'Name']\n",
      "[('MediaTypeId', Column('MediaTypeId', INTEGER(), table=<media_types>, primary_key=True, nullable=False)), ('Name', Column('Name', NVARCHAR(length=120), table=<media_types>))]\n",
      "-------------------------\n",
      "invoices\n",
      "['InvoiceId', 'CustomerId', 'InvoiceDate', 'BillingAddress', 'BillingCity', 'BillingState', 'BillingCountry', 'BillingPostalCode', 'Total']\n",
      "[('InvoiceId', Column('InvoiceId', INTEGER(), table=<invoices>, primary_key=True, nullable=False)), ('CustomerId', Column('CustomerId', INTEGER(), ForeignKey('customers.CustomerId'), table=<invoices>, nullable=False)), ('InvoiceDate', Column('InvoiceDate', DATETIME(), table=<invoices>, nullable=False)), ('BillingAddress', Column('BillingAddress', NVARCHAR(length=70), table=<invoices>)), ('BillingCity', Column('BillingCity', NVARCHAR(length=40), table=<invoices>)), ('BillingState', Column('BillingState', NVARCHAR(length=40), table=<invoices>)), ('BillingCountry', Column('BillingCountry', NVARCHAR(length=40), table=<invoices>)), ('BillingPostalCode', Column('BillingPostalCode', NVARCHAR(length=10), table=<invoices>)), ('Total', Column('Total', NUMERIC(precision=10, scale=2), table=<invoices>, nullable=False))]\n",
      "-------------------------\n",
      "playlist_track\n",
      "['PlaylistId', 'TrackId']\n",
      "[('PlaylistId', Column('PlaylistId', INTEGER(), ForeignKey('playlists.PlaylistId'), table=<playlist_track>, primary_key=True, nullable=False)), ('TrackId', Column('TrackId', INTEGER(), ForeignKey('tracks.TrackId'), table=<playlist_track>, primary_key=True, nullable=False))]\n",
      "-------------------------\n",
      "playlists\n",
      "['PlaylistId', 'Name']\n",
      "[('PlaylistId', Column('PlaylistId', INTEGER(), table=<playlists>, primary_key=True, nullable=False)), ('Name', Column('Name', NVARCHAR(length=120), table=<playlists>))]\n",
      "-------------------------\n",
      "[('albums', <class 'sqlalchemy.ext.automap.albums'>), ('genres', <class 'sqlalchemy.ext.automap.genres'>), ('playlists', <class 'sqlalchemy.ext.automap.playlists'>), ('employees', <class 'sqlalchemy.ext.automap.employees'>), ('tracks', <class 'sqlalchemy.ext.automap.tracks'>), ('invoice_items', <class 'sqlalchemy.ext.automap.invoice_items'>), ('invoices', <class 'sqlalchemy.ext.automap.invoices'>), ('customers', <class 'sqlalchemy.ext.automap.customers'>), ('artists', <class 'sqlalchemy.ext.automap.artists'>), ('media_types', <class 'sqlalchemy.ext.automap.media_types'>)]\n"
     ]
    }
   ],
   "source": [
    "from sqlalchemy import create_engine, text, MetaData, select, func, desc\n",
    "from sqlalchemy.orm import Session\n",
    "\n",
    "engine = create_engine(\"sqlite+pysqlite:///chinook.db\", echo=False)\n",
    "\n",
    "### extrai as classes da base de dados Chinook\n",
    "metadata = MetaData()\n",
    "metadata.reflect(engine)\n",
    "\n",
    "# O metadata tem informações sobre as tabelas\n",
    "# que serão usadas para criar os modelos ORM\n",
    "for table_name, table in metadata.tables.items():\n",
    "    print(table_name)\n",
    "    print(table.columns.keys())\n",
    "    print(table.columns.items())\n",
    "    print('-'*25)\n",
    "\n",
    "### configura o objeto Base mapeando os modelos ORM das tabelas\n",
    "from sqlalchemy.ext.automap import automap_base\n",
    "Base = automap_base(metadata=metadata)\n",
    "Base.prepare()\n",
    "\n",
    "# o objeto Base tem os modelos ORM que podemos usar\n",
    "# para manipular o banco de dados\n",
    "print(Base.classes.items())"
   ]
  },
  {
   "cell_type": "code",
   "execution_count": 3,
   "metadata": {
    "vscode": {
     "languageId": "plaintext"
    }
   },
   "outputs": [
    {
     "name": "stdout",
     "output_type": "stream",
     "text": [
      "1 For Those About To Rock We Salute You\n"
     ]
    }
   ],
   "source": [
    "# A seguir um exemplo de query na tabela Albums\n",
    "# usamos o objeto Base para acessar cada modelo ORM.\n",
    "\n",
    "session = Session(engine)\n",
    "res = session.scalars(select(Base.classes.albums))\n",
    "first_album = res.first()\n",
    "print(first_album.AlbumId, first_album.Title)"
   ]
  },
  {
   "cell_type": "markdown",
   "metadata": {},
   "source": [
    "#### Q3. \n",
    "Com base nos códigos anteriores realize as operações solicitadas nas células a seguir:\n"
   ]
  },
  {
   "cell_type": "code",
   "execution_count": 4,
   "metadata": {
    "vscode": {
     "languageId": "plaintext"
    }
   },
   "outputs": [
    {
     "name": "stdout",
     "output_type": "stream",
     "text": [
      "{'TrackId': 1, 'Name': 'For Those About To Rock (We Salute You)', 'AlbumId': 1, 'MediaTypeId': 1, 'GenreId': 1, 'Composer': 'Angus Young, Malcolm Young, Brian Johnson', 'Milliseconds': 343719, 'Bytes': 11170334, 'UnitPrice': Decimal('0.99')}\n",
      "{'TrackId': 2, 'Name': 'Balls to the Wall', 'AlbumId': 2, 'MediaTypeId': 2, 'GenreId': 1, 'Composer': None, 'Milliseconds': 342562, 'Bytes': 5510424, 'UnitPrice': Decimal('0.99')}\n",
      "{'TrackId': 3, 'Name': 'Fast As a Shark', 'AlbumId': 3, 'MediaTypeId': 2, 'GenreId': 1, 'Composer': 'F. Baltes, S. Kaufman, U. Dirkscneider & W. Hoffman', 'Milliseconds': 230619, 'Bytes': 3990994, 'UnitPrice': Decimal('0.99')}\n"
     ]
    }
   ],
   "source": [
    "### Imprima os três primeiros registros da tabela tracks\n",
    "\n",
    "session = Session(engine)\n",
    "\n",
    "Tracks = Base.classes.tracks\n",
    "\n",
    "query = select(Tracks).filter(Tracks.TrackId <= 3)\n",
    "result = session.execute(query).scalars().all()\n",
    "\n",
    "for track in result: #imprime cada coluna e seus valores da linha\n",
    "    print({column: getattr(track, column) for column in Tracks.__table__.columns.keys()})\n",
    "    \n",
    "session.close()"
   ]
  },
  {
   "cell_type": "code",
   "execution_count": 5,
   "metadata": {
    "vscode": {
     "languageId": "plaintext"
    }
   },
   "outputs": [
    {
     "name": "stdout",
     "output_type": "stream",
     "text": [
      "1 -> Track: For Those About To Rock (We Salute You), Album: For Those About To Rock We Salute You\n",
      "2 -> Track: Balls to the Wall, Album: Balls to the Wall\n",
      "3 -> Track: Fast As a Shark, Album: Restless and Wild\n",
      "4 -> Track: Restless and Wild, Album: Restless and Wild\n",
      "5 -> Track: Princess of the Dawn, Album: Restless and Wild\n",
      "6 -> Track: Put The Finger On You, Album: For Those About To Rock We Salute You\n",
      "7 -> Track: Let's Get It Up, Album: For Those About To Rock We Salute You\n",
      "8 -> Track: Inject The Venom, Album: For Those About To Rock We Salute You\n",
      "9 -> Track: Snowballed, Album: For Those About To Rock We Salute You\n",
      "10 -> Track: Evil Walks, Album: For Those About To Rock We Salute You\n",
      "11 -> Track: C.O.D., Album: For Those About To Rock We Salute You\n",
      "12 -> Track: Breaking The Rules, Album: For Those About To Rock We Salute You\n",
      "13 -> Track: Night Of The Long Knives, Album: For Those About To Rock We Salute You\n",
      "14 -> Track: Spellbound, Album: For Those About To Rock We Salute You\n",
      "15 -> Track: Go Down, Album: Let There Be Rock\n",
      "16 -> Track: Dog Eat Dog, Album: Let There Be Rock\n",
      "17 -> Track: Let There Be Rock, Album: Let There Be Rock\n",
      "18 -> Track: Bad Boy Boogie, Album: Let There Be Rock\n",
      "19 -> Track: Problem Child, Album: Let There Be Rock\n",
      "20 -> Track: Overdose, Album: Let There Be Rock\n"
     ]
    }
   ],
   "source": [
    "### Imprima o nome da faixa e o título do álbum das primeiras 20 faixas na tabela tracks.\n",
    "session = Session(engine)\n",
    "\n",
    "Tracks = Base.classes.tracks\n",
    "Album = Base.classes.albums\n",
    "\n",
    "# Join usando relacionamento\n",
    "query = (\n",
    "    select(Tracks, Album)\n",
    "    .join(Album, Tracks.AlbumId == Album.AlbumId)  # Cláusula manual de join\n",
    "    .order_by(Tracks.TrackId)\n",
    "    .filter(Tracks.TrackId <= 20)\n",
    ")\n",
    "result = session.execute(query).all()\n",
    "\n",
    "for track, album in result:\n",
    "    print(f\"{track.TrackId} -> Track: {track.Name}, Album: {album.Title}\")\n"
   ]
  },
  {
   "cell_type": "code",
   "execution_count": 6,
   "metadata": {
    "vscode": {
     "languageId": "plaintext"
    }
   },
   "outputs": [
    {
     "name": "stdout",
     "output_type": "stream",
     "text": [
      "1 -> Track: For Those About To Rock (We Salute You), Quantidade: 1\n",
      "2 -> Track: Balls to the Wall, Quantidade: 1\n",
      "2 -> Track: Balls to the Wall, Quantidade: 1\n",
      "3 -> Track: Fast As a Shark, Quantidade: 1\n",
      "4 -> Track: Restless and Wild, Quantidade: 1\n",
      "5 -> Track: Princess of the Dawn, Quantidade: 1\n",
      "6 -> Track: Put The Finger On You, Quantidade: 1\n",
      "8 -> Track: Inject The Venom, Quantidade: 1\n",
      "8 -> Track: Inject The Venom, Quantidade: 1\n",
      "9 -> Track: Snowballed, Quantidade: 1\n",
      "9 -> Track: Snowballed, Quantidade: 1\n",
      "10 -> Track: Evil Walks, Quantidade: 1\n"
     ]
    }
   ],
   "source": [
    "### Imprima as 10 primeiras vendas de faixas da tabela invoice_items\n",
    "### Para essas 10 primeiras vendas, imprima os nomes das faixas vendidas e a quantidade vendida.\n",
    "session = Session(engine)\n",
    "\n",
    "Tracks = Base.classes.tracks\n",
    "Invoice_itens = Base.classes.invoice_items\n",
    "\n",
    "# Join usando relacionamento\n",
    "query = (\n",
    "    select(Tracks, Invoice_itens)\n",
    "    .join(Invoice_itens, Tracks.TrackId == Invoice_itens.TrackId)  # Cláusula manual de join\n",
    "    .order_by(Tracks.TrackId)\n",
    "    .filter(Invoice_itens.TrackId <= 10)\n",
    ")\n",
    "result = session.execute(query).all()\n",
    "\n",
    "for track, invoice in result:\n",
    "    print(f\"{track.TrackId} -> Track: {track.Name}, Quantidade: {invoice.Quantity}\")"
   ]
  },
  {
   "cell_type": "code",
   "execution_count": 7,
   "metadata": {
    "vscode": {
     "languageId": "plaintext"
    }
   },
   "outputs": [
    {
     "name": "stdout",
     "output_type": "stream",
     "text": [
      "Track: Balls to the Wall - Vendas: 2\n",
      "Track: Inject The Venom - Vendas: 2\n",
      "Track: Snowballed - Vendas: 2\n",
      "Track: Overdose - Vendas: 2\n",
      "Track: Deuces Are Wild - Vendas: 2\n",
      "Track: Not The Doctor - Vendas: 2\n",
      "Track: Por Causa De Você - Vendas: 2\n",
      "Track: Welcome Home (Sanitarium) - Vendas: 2\n",
      "Track: Snowblind - Vendas: 2\n",
      "Track: Cornucopia - Vendas: 2\n"
     ]
    }
   ],
   "source": [
    "### Imprima os nomes das 10 faixas mais vendidas e quantas vezes foram vendidas.\n",
    "session = Session(engine)\n",
    "\n",
    "Tracks = Base.classes.tracks\n",
    "Invoice_itens = Base.classes.invoice_items\n",
    "\n",
    "query = (\n",
    "    select(Tracks.Name, Invoice_itens.TrackId, func.count(Invoice_itens.Quantity).label(\"total_sales\"))\\\n",
    "    .join(Invoice_itens, Tracks.TrackId == Invoice_itens.TrackId)\\\n",
    "    .group_by(Invoice_itens.TrackId)\\\n",
    "    .order_by(desc(\"total_sales\"))\n",
    ").limit(10)\n",
    "    \n",
    "result = session.execute(query).all()\n",
    "\n",
    "for invoice in result:\n",
    "    print(f\"Track: {invoice.Name} - Vendas: {invoice.total_sales}\")"
   ]
  },
  {
   "cell_type": "code",
   "execution_count": 34,
   "metadata": {
    "scrolled": true,
    "vscode": {
     "languageId": "plaintext"
    }
   },
   "outputs": [
    {
     "name": "stdout",
     "output_type": "stream",
     "text": [
      "Artist: Iron Maiden / Vendas: 140\n",
      "Artist: U2 / Vendas: 107\n",
      "Artist: Metallica / Vendas: 91\n",
      "Artist: Led Zeppelin / Vendas: 87\n",
      "Artist: Os Paralamas Do Sucesso / Vendas: 45\n",
      "Artist: Deep Purple / Vendas: 44\n",
      "Artist: Faith No More / Vendas: 42\n",
      "Artist: Lost / Vendas: 41\n",
      "Artist: Eric Clapton / Vendas: 40\n",
      "Artist: R.E.M. / Vendas: 39\n"
     ]
    }
   ],
   "source": [
    "### Quem são os 10 artistas que mais venderam?\n",
    "### dica: você precisa juntar as tabelas invoice_items, tracks, albums e artists\n",
    "\n",
    "Tracks = Base.classes.tracks\n",
    "Invoice_items = Base.classes.invoice_items\n",
    "Albums = Base.classes.albums\n",
    "Artists = Base.classes.artists\n",
    "\n",
    "session = Session(engine)\n",
    "\n",
    "# Consulta com múltiplos JOINs\n",
    "query = (\n",
    "    select(Albums.Title, Artists.Name, func.count(Invoice_items.Quantity).label(\"total_sales\"))  # Contagem de vendas\n",
    "    .select_from(Tracks) #tabela base para a operação\n",
    "    .join(Invoice_items, Tracks.TrackId == Invoice_items.TrackId)  # Junta cada Tracks e suas vendas\n",
    "    .join(Albums, Tracks.AlbumId == Albums.AlbumId)  # Junta cada track com seu album especifico\n",
    "    .join(Artists, Albums.ArtistId == Artists.ArtistId)  # Junta o album com o artista que o produziu\n",
    "    .group_by(Artists.Name) #Agrupa cada artista \n",
    "    .order_by(desc(\"total_sales\"))\n",
    ").limit(10)\n",
    "\n",
    "result = session.execute(query).fetchall()\n",
    "\n",
    "for row in result:\n",
    "    print(f\"Artist: {row.Name} / Vendas: {row.total_sales}\")\n",
    "\n",
    "session.close()"
   ]
  }
 ],
 "metadata": {
  "kernelspec": {
   "display_name": "Python 3 (ipykernel)",
   "language": "python",
   "name": "python3"
  },
  "language_info": {
   "codemirror_mode": {
    "name": "ipython",
    "version": 3
   },
   "file_extension": ".py",
   "mimetype": "text/x-python",
   "name": "python",
   "nbconvert_exporter": "python",
   "pygments_lexer": "ipython3",
   "version": "3.12.3"
  }
 },
 "nbformat": 4,
 "nbformat_minor": 2
}
