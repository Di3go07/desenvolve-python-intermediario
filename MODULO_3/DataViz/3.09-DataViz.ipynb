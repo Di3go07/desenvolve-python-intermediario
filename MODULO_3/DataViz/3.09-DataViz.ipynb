{
 "cells": [
  {
   "cell_type": "markdown",
   "metadata": {},
   "source": [
    "> Projeto Desenvolve <br>\n",
    "Programação Intermediária com Python <br>\n",
    "Profa. Camila Laranjeira (mila@projetodesenvolve.com.br) <br>\n",
    "\n",
    "# 3.9 - Visualização de Dados"
   ]
  },
  {
   "cell_type": "markdown",
   "metadata": {
    "vscode": {
     "languageId": "plaintext"
    }
   },
   "source": [
    "## Exercícios\n",
    "Vamos trabalhar com as mesmas bases de dados do exercício de Pandas. Aqui estão os links caso você queira baixar novamente, mas recomendo trabalhar com o `wc_formatado.csv` que exportamos na questão Q2 do exercício anterior.\n",
    "\n",
    "* https://raw.githubusercontent.com/camilalaranjeira/python-intermediario/main/fifa-wc/matches_1930_2022.csv\n",
    "* https://raw.githubusercontent.com/camilalaranjeira/python-intermediario/main/fifa-wc/matches_1991_2023.csv\n",
    "\n",
    "Para relembrar, essas são as colunas do dataframe:\n",
    "```\n",
    "Data columns (total 21 columns):\n",
    " #   Column             Non-Null Count  Dtype         \n",
    "---  ------             --------------  -----         \n",
    " 0   time_1             1312 non-null   string        \n",
    " 1   time_2             1312 non-null   string        \n",
    " 2   gols_1             1312 non-null   int64         \n",
    " 3   gols_2             1312 non-null   int64         \n",
    " 4   data               1312 non-null   datetime64[ns]\n",
    " 5   ano                1312 non-null   int64         \n",
    " 6   país_sede          1312 non-null   string        \n",
    " 7   comparecimento     1312 non-null   int64         \n",
    " 8   resultado          1312 non-null   string        \n",
    " 9   rodada             1312 non-null   category      \n",
    " 10  gols_1_detalhes    970 non-null    string        \n",
    " 11  gols_2_detalhes    771 non-null    string        \n",
    " 12  gols_1_contra      57 non-null     string        \n",
    " 13  gols_2_contra      30 non-null     string        \n",
    " 14  gols_1_penalti     170 non-null    string        \n",
    " 15  gols_2_penalti     119 non-null    string        \n",
    " 16  cartao_vermelho_1  59 non-null     string        \n",
    " 17  cartao_vermelho_2  65 non-null     string        \n",
    " 18  cartao_amarelo_1   834 non-null    string        \n",
    " 19  cartao_amarelo_2   857 non-null    string        \n",
    " 20  copa               1312 non-null   string \n",
    "```"
   ]
  },
  {
   "cell_type": "code",
   "execution_count": 18,
   "metadata": {},
   "outputs": [],
   "source": [
    "### DATABASE\n",
    "import pandas as pd\n",
    "pd.set_option('display.max_columns',None)\n",
    "pd.set_option('display.max_rows',12)\n",
    "\n",
    "wcwomen_df = pd.read_csv('https://raw.githubusercontent.com/camilalaranjeira/python-intermediario/main/fifa-wc/matches_1930_2022.csv')\n",
    "wcmen_df   = pd.read_csv('https://raw.githubusercontent.com/camilalaranjeira/python-intermediario/main/fifa-wc/matches_1991_2023.csv')\n",
    "wc = pd.concat((wcwomen_df,wcmen_df)).reset_index()\n",
    "\n",
    "nomes_traduzidos = {'home_team': 'time_1', 'away_team': 'time_2', 'home_score': 'gols_1', 'away_score': 'gols_2',\n",
    "                    'Date': 'data', 'Year': 'ano', 'Host': 'país_sede', 'Attendance': 'comparecimento',\n",
    "                    'Score': 'resultado', 'Round': 'rodada', 'home_goal': 'gols_1_detalhes', 'away_goal': 'gols_2_detalhes',\n",
    "                    'home_own_goal': 'gols_1_contra', 'away_own_goal': 'gols_2_contra',\n",
    "                    'home_penalty_goal': 'gols_1_penalti', 'away_penalty_goal': 'gols_2_penalti',\n",
    "                    'home_red_card': 'cartao_vermelho_1', 'away_red_card': 'cartao_vermelho_2',\n",
    "                    'home_yellow_card_long': 'cartao_amarelo_1', 'away_yellow_card_long': 'cartao_amarelo_2'}\n",
    "\n",
    "wc = wc.loc[:, nomes_traduzidos.keys()]\n",
    "wc.columns = nomes_traduzidos.values()\n",
    "\n",
    "copa = wc['ano'].apply( lambda x: 'Masculina' if x % 2 == 0 else 'Feminina').astype('string')\n",
    "wc['copa'] = copa\n"
   ]
  },
  {
   "cell_type": "markdown",
   "metadata": {},
   "source": [
    "#### Q1.\n",
    "Realize todos os imports necessários para executar as três bibliotecas de visualização que conhecemos:\n",
    "* Matplotlib (lembre-se do comando mágico)\n",
    "* Seaborn\n",
    "* Plotly\n",
    "\n",
    "Para cada uma delas, altere o tema padrão de visualização. "
   ]
  },
  {
   "cell_type": "code",
   "execution_count": 19,
   "metadata": {
    "vscode": {
     "languageId": "plaintext"
    }
   },
   "outputs": [],
   "source": [
    "#matplotlib\n",
    "import matplotlib.pyplot as plt\n",
    "%matplotlib inline\n",
    "\n",
    "plt.style.use('ggplot')\n",
    "\n",
    "#seaborn\n",
    "import seaborn as sns\n",
    "\n",
    "sns.set_style(\"darkgrid\", rc={\"grid.linestyle\": \"dashed\"})\n",
    "\n",
    "#plotly\n",
    "import plotly.io as pio\n",
    "import plotly.express as px\n",
    "import plotly.graph_objects as go\n",
    "\n",
    "pio.templates.default = \"plotly_dark\""
   ]
  },
  {
   "cell_type": "markdown",
   "metadata": {
    "vscode": {
     "languageId": "plaintext"
    }
   },
   "source": [
    "#### Q2.\n",
    "Sobre os dados de copa do mundo, qual a distribuição de público presente nos jogos? Isso pode ser respondido com um histograma com os dados da coluna `comparecimento`.  \n",
    "\n",
    "Lembre-se que alguns jogos estavam com público 0 incorretamente, que tal remover essas ocorrências para não atrapalhar sua visualzação?\n",
    "\n",
    "Você deve implementar essa visualização nas três bibliotecas que vimos:\n",
    "* Matplotlib\n",
    "* Seaborn\n",
    "* Plotly\n",
    "\n",
    "Garanta que o gráfico tenha pelo menos os atributos de título e rótulos de dimensão."
   ]
  },
  {
   "cell_type": "code",
   "execution_count": 20,
   "metadata": {},
   "outputs": [
    {
     "name": "stdout",
     "output_type": "stream",
     "text": [
      "Num linhas anterior: 1312\n",
      "Num linhas atual: 1286\n"
     ]
    }
   ],
   "source": [
    "### Tratamentos dos dados\n",
    "print(f'Num linhas anterior: {len(wc)}')\n",
    "\n",
    "wc_comp = df_filtered = wc[wc['comparecimento'] != 0].reset_index(drop=True)\n",
    "#nova tabela sem as linhas em que o comparecimento tem valor 0\n",
    "\n",
    "print(f'Num linhas atual: {len(wc_comp)}')"
   ]
  },
  {
   "cell_type": "code",
   "execution_count": 21,
   "metadata": {
    "vscode": {
     "languageId": "plaintext"
    }
   },
   "outputs": [
    {
     "data": {
      "image/png": "[encoded data removed]",
      "text/plain": [
       "<Figure size 640x480 with 1 Axes>"
      ]
     },
     "metadata": {},
     "output_type": "display_data"
    }
   ],
   "source": [
    "#### Solução com matplotlib\n",
    "\n",
    "plt.hist(wc_comp['comparecimento'], bins=20, linewidth=0.5)\n",
    "\n",
    "plt.title(\"Distribuição de público nos jogos da Copa do Mundo\")\n",
    "plt.xlabel(\"Número de torcedores\", fontsize=12)\n",
    "plt.ylabel('Frequência', fontsize=12)\n",
    "plt.show()"
   ]
  },
  {
   "cell_type": "code",
   "execution_count": 22,
   "metadata": {
    "scrolled": false,
    "vscode": {
     "languageId": "plaintext"
    }
   },
   "outputs": [
    {
     "data": {
      "text/plain": [
       "[Text(0.5, 1.0, 'Distribuição de público nos jogos da Copa do Mundo'),\n",
       " Text(0.5, 0, 'Número de torcedores'),\n",
       " Text(0, 0.5, 'Frequência')]"
      ]
     },
     "execution_count": 22,
     "metadata": {},
     "output_type": "execute_result"
    },
    {
     "data": {
      "image/png": "[encoded data removed]",
      "text/plain": [
       "<Figure size 640x480 with 1 Axes>"
      ]
     },
     "metadata": {},
     "output_type": "display_data"
    }
   ],
   "source": [
    "#### solução com seaborn\n",
    "\n",
    "sns.histplot(data=wc_comp, x='comparecimento', hue='copa').set(\n",
    "    title= 'Distribuição de público nos jogos da Copa do Mundo',\n",
    "    xlabel = 'Número de torcedores',\n",
    "    ylabel = 'Frequência'\n",
    ")\n",
    "\n",
    "#diferença de público entre masculino e femino"
   ]
  },
  {
   "cell_type": "code",
   "execution_count": 23,
   "metadata": {
    "scrolled": false,
    "vscode": {
     "languageId": "plaintext"
    }
   },
   "outputs": [
    {
     "data": {
      "application/vnd.plotly.v1+json": {
       "config": {
        "plotlyServerURL": "https://plot.ly"
       },
       "data": [
        {
         "name": "Masculina",
         "opacity": 0.75,
         "type": "histogram",
         "x": [
          88966,
          44137,
          68294,
          88966,
          44198,
          68895,
          43893,
          88235,
          44667,
          83720,
          42523,
          43847,
          40989,
          65985,
          44846,
          45032,
          44097,
          43443,
          85986,
          41378,
          43102,
          43984,
          67054,
          44851,
          41232,
          43627,
          84985,
          44089,
          44569,
          66784,
          42127,
          44297,
          39789,
          43983,
          43649,
          88668,
          41479,
          43738,
          44374,
          68895,
          41823,
          44259,
          42860,
          88966,
          40875,
          41797,
          44833,
          68463,
          39089,
          41663,
          42662,
          88103,
          59407,
          42608,
          40013,
          40432,
          88012,
          42925,
          39369,
          40875,
          45334,
          41721,
          43418,
          67372,
          78011,
          64406,
          78011,
          64286,
          39991,
          44287,
          43319,
          42873,
          64042,
          44190,
          41970,
          41466,
          78011,
          40851,
          42873,
          44287,
          42189,
          41970,
          33973,
          37168,
          41835,
          33061,
          43319,
          44190,
          44073,
          78011,
          43472,
          64468,
          36823,
          41970,
          33973,
          41685,
          43319,
          32572,
          42873,
          44190,
          43472,
          44287,
          64468,
          40904,
          33167,
          40727,
          32789,
          43319,
          78011,
          42678,
          42718,
          40842,
          44190,
          64468,
          42300,
          43257,
          41064,
          41432,
          78011,
          43109,
          41279,
          44190,
          40502,
          31136,
          27015,
          62548,
          43866,
          78011,
          74738,
          68034,
          63267,
          58141,
          68551,
          51179,
          74240,
          60342,
          63255,
          51227,
          67882,
          43063,
          58817,
          41242,
          57714,
          73804,
          41876,
          67540,
          61397,
          39311,
          48011,
          43285,
          40322,
          73749,
          57823,
          39706,
          40340,
          59095,
          39375,
          62996,
          41212,
          69112,
          73819,
          42732,
          40123,
          57698,
          59621,
          40499,
          40285,
          51003,
          39224,
          68748,
          62575,
          39485,
          42877,
          74101,
          39982,
          56800,
          60342,
          37603,
          51081,
          39081,
          39760,
          68351,
          43012,
          74738,
          57174,
          58679,
          39800,
          40267,
          39216,
          48173,
          40275,
          62103,
          84490,
          36254,
          60960,
          62479,
          64100,
          55359,
          40186,
          84017,
          36742,
          62955,
          61962,
          54096,
          40510,
          84377,
          30597,
          34976,
          62712,
          34763,
          41958,
          28042,
          34850,
          53412,
          27967,
          63093,
          36893,
          35827,
          83391,
          37836,
          33425,
          39415,
          61874,
          38891,
          63644,
          34872,
          54386,
          26643,
          38229,
          84455,
          62010,
          34812,
          38074,
          38294,
          45573,
          64100,
          82174,
          31593,
          35370,
          32664,
          62453,
          42658,
          23871,
          37034,
          54331,
          83465,
          30620,
          62869,
          30325,
          38833,
          62660,
          31513,
          55686,
          38646,
          84490,
          64100,
          69000,
          52000,
          66000,
          65000,
          52000,
          48000,
          72000,
          50000,
          65000,
          43000,
          46000,
          45000,
          52000,
          41000,
          66000,
          43000,
          46000,
          72000,
          45000,
          43000,
          41000,
          50000,
          65000,
          52000,
          52000,
          38000,
          66000,
          48000,
          43000,
          72000,
          46000,
          45000,
          65000,
          50000,
          52000,
          41000,
          66000,
          43000,
          48000,
          45000,
          46000,
          52000,
          52000,
          43000,
          50000,
          41000,
          72000,
          43000,
          66000,
          65000,
          48000,
          52000,
          72000,
          46000,
          52000,
          43000,
          37216,
          41000,
          45000,
          48000,
          62959,
          49480,
          64950,
          52000,
          69029,
          63483,
          61058,
          65625,
          42114,
          44233,
          47436,
          37337,
          45666,
          38588,
          36380,
          40440,
          39747,
          38926,
          25176,
          40582,
          45213,
          46640,
          50239,
          26482,
          38524,
          43605,
          39291,
          65862,
          45777,
          44864,
          31024,
          30176,
          48100,
          33681,
          65320,
          47085,
          60778,
          39700,
          31000,
          45610,
          42299,
          66108,
          47226,
          36472,
          36750,
          36194,
          24000,
          35927,
          43500,
          52328,
          38070,
          30957,
          37306,
          35854,
          27217,
          55256,
          48760,
          32239,
          33842,
          31081,
          34050,
          25186,
          52721,
          28588,
          33679,
          30157,
          32218,
          62561,
          80000,
          44000,
          80000,
          60000,
          60000,
          43300,
          80000,
          49500,
          31800,
          30600,
          29800,
          33000,
          31800,
          77000,
          55000,
          45500,
          31800,
          39100,
          80000,
          42000,
          30600,
          45500,
          38500,
          35500,
          31800,
          39100,
          41275,
          33400,
          80000,
          39500,
          57000,
          36000,
          35500,
          33140,
          41275,
          45500,
          43300,
          35500,
          31800,
          55000,
          48000,
          36000,
          33500,
          80000,
          36000,
          35500,
          31800,
          38500,
          54587,
          43300,
          49000,
          33500,
          36000,
          38100,
          38000,
          39100,
          77000,
          27650,
          38100,
          55000,
          35200,
          36500,
          80000,
          29750,
          94194,
          91500,
          74110,
          91856,
          72000,
          83500,
          53400,
          63500,
          54367,
          71030,
          61355,
          84147,
          60277,
          90469,
          60246,
          53121,
          53001,
          63998,
          60578,
          52959,
          52535,
          72404,
          74914,
          77217,
          63998,
          63089,
          63160,
          93869,
          83401,
          62387,
          76322,
          54453,
          60790,
          83401,
          71528,
          74624,
          54453,
          61428,
          93869,
          54456,
          63113,
          44132,
          81061,
          50535,
          61219,
          52395,
          93194,
          73425,
          75338,
          91856,
          63117,
          56247,
          73603,
          51426,
          62628,
          59978,
          73347,
          55205,
          38971,
          73303,
          35500,
          34520,
          31818,
          73303,
          61381,
          74559,
          50026,
          47673,
          35950,
          29039,
          33288,
          34959,
          30223,
          62502,
          72510,
          27833,
          34857,
          73303,
          52733,
          37307,
          33288,
          33759,
          32733,
          58007,
          35267,
          31823,
          38962,
          71169,
          32257,
          38687,
          73423,
          35713,
          55759,
          32790,
          33288,
          30867,
          35238,
          33266,
          74765,
          62628,
          30791,
          42907,
          73303,
          73780,
          114600,
          21000,
          45000,
          114500,
          114580,
          45000,
          65000,
          41700,
          98728,
          38500,
          70000,
          19800,
          45000,
          26000,
          114580,
          32277,
          20000,
          36000,
          23980,
          51000,
          16000,
          103763,
          22700,
          28000,
          65000,
          20000,
          14200,
          31420,
          30000,
          20000,
          26500,
          114600,
          28000,
          19915,
          48000,
          13800,
          20200,
          32000,
          36540,
          45000,
          24000,
          30500,
          18000,
          110000,
          22000,
          23000,
          16500,
          60000,
          19900,
          35748,
          65500,
          96000,
          90000,
          28000,
          50000,
          70000,
          44000,
          75000,
          37000,
          65000,
          44000,
          90089,
          20000,
          45000,
          43000,
          75000,
          37000,
          65000,
          39700,
          41000,
          49562,
          28000,
          16000,
          25000,
          20000,
          32500,
          43000,
          25000,
          37000,
          45000,
          22000,
          30043,
          15000,
          42000,
          41123,
          48000,
          19000,
          19000,
          15000,
          25000,
          47379,
          32093,
          22500,
          25000,
          25000,
          44172,
          42000,
          49562,
          11000,
          23000,
          36000,
          33000,
          68000,
          95000,
          71483,
          69659,
          67433,
          38318,
          39586,
          37315,
          35288,
          40750,
          66695,
          37326,
          25050,
          67547,
          31278,
          37091,
          35221,
          42132,
          21262,
          35130,
          23127,
          22651,
          30667,
          71712,
          41424,
          34771,
          28125,
          7938,
          26533,
          35258,
          9624,
          71666,
          32569,
          40841,
          37927,
          33431,
          42373,
          17396,
          71615,
          67579,
          78200,
          77100,
          62000,
          53700,
          54254,
          41300,
          58000,
          39400,
          68348,
          67800,
          67385,
          59863,
          44955,
          56548,
          53300,
          70100,
          28300,
          25900,
          56000,
          17400,
          36200,
          60200,
          25300,
          13400,
          53700,
          70100,
          53300,
          31700,
          28300,
          62000,
          55100,
          23800,
          53000,
          32700,
          81100,
          17000,
          27000,
          62000,
          107412,
          104403,
          102444,
          51261,
          54233,
          26851,
          26085,
          23357,
          108192,
          9890,
          12299,
          49292,
          17875,
          50804,
          18163,
          89979,
          103058,
          66843,
          12710,
          9624,
          56818,
          29968,
          95261,
          13537,
          92205,
          52897,
          13433,
          12942,
          50560,
          13765,
          20654,
          107160,
          96924,
          87696,
          94493,
          38273,
          40248,
          90584,
          26844,
          40007,
          98270,
          24129,
          42187,
          16027,
          61112,
          32127,
          58479,
          17829,
          46587,
          27793,
          25438,
          92570,
          32028,
          45662,
          51387,
          13792,
          42738,
          69237,
          27199,
          29886,
          47308,
          23006,
          36127,
          87148,
          68679,
          66697,
          76594,
          5890,
          17268,
          17736,
          11690,
          63324,
          5700,
          10648,
          59828,
          7167,
          67224,
          9973,
          7945,
          18715,
          11875,
          8040,
          7442,
          64922,
          66057,
          14903,
          9794,
          8829,
          65440,
          7938,
          12700,
          9622,
          65006,
          7908,
          10484,
          7134,
          49737,
          32483,
          49471,
          27100,
          11800,
          20055,
          25923,
          31900,
          6196,
          2823,
          23182,
          30287,
          13103,
          21990,
          16418,
          15872,
          50928,
          13300,
          13554,
          38850,
          21239,
          25000,
          14174,
          12217,
          11665,
          40895,
          15150,
          34107,
          10647,
          15343,
          9591,
          17788,
          49348,
          16518,
          31156,
          62500,
          32000,
          45000,
          58000,
          17000,
          40000,
          28000,
          35000,
          17000,
          30000,
          56000,
          4000,
          24000,
          43500,
          34000,
          24637,
          26000,
          19000,
          43000,
          13000,
          28000,
          14000,
          20500,
          16000,
          13470,
          25000,
          11227,
          173850,
          152772,
          7987,
          138886,
          44802,
          8501,
          25811,
          5284,
          74462,
          3580,
          142429,
          19790,
          10151,
          7903,
          42032,
          11078,
          36502,
          29703,
          9511,
          7336,
          81649,
          12000,
          45000,
          20000,
          33000,
          18141,
          7000,
          22021,
          15000,
          58455,
          20025,
          8000,
          19000,
          7000,
          9000,
          30454,
          13452,
          11000,
          27152,
          55000,
          7000,
          15000,
          35000,
          43000,
          23000,
          12000,
          35000,
          3000,
          9000,
          9000,
          16000,
          33000,
          14000,
          21000,
          8000,
          25000,
          68346,
          79867,
          72886,
          41459,
          70022,
          25466,
          12000,
          2000,
          42100,
          57735,
          18306,
          18306,
          9249,
          23409,
          24059,
          2549,
          18346,
          4444
         ]
        },
        {
         "name": "Feminina",
         "opacity": 0.75,
         "type": "histogram",
         "x": [
          75784,
          49461,
          75784,
          43217,
          49461,
          75784,
          32021,
          43217,
          27706,
          13557,
          49461,
          75784,
          40233,
          27706,
          43217,
          33042,
          17342,
          38945,
          14967,
          17907,
          27638,
          40498,
          8215,
          40958,
          17897,
          13497,
          20957,
          8117,
          24884,
          27706,
          12886,
          25947,
          34697,
          40499,
          29143,
          49378,
          15987,
          8834,
          40439,
          12675,
          27312,
          6645,
          49156,
          6992,
          20983,
          17065,
          24323,
          32357,
          10769,
          30889,
          27256,
          13142,
          18317,
          11991,
          39045,
          41107,
          16111,
          44369,
          16989,
          21410,
          13711,
          22966,
          42137,
          75784,
          57900,
          20316,
          48452,
          53512,
          22600,
          25301,
          45595,
          21111,
          17492,
          21076,
          19633,
          38078,
          20148,
          17988,
          19277,
          8009,
          22418,
          13567,
          14319,
          28205,
          21669,
          17402,
          15502,
          11814,
          13034,
          28267,
          9354,
          45594,
          22423,
          14856,
          13201,
          12016,
          20294,
          17032,
          20011,
          11252,
          20761,
          34872,
          10654,
          15875,
          18591,
          25055,
          10710,
          15380,
          17668,
          13188,
          15283,
          12044,
          11058,
          45261,
          53341,
          21483,
          31467,
          51176,
          19814,
          54027,
          24859,
          24141,
          28717,
          19829,
          19412,
          12054,
          53855,
          15518,
          22486,
          15958,
          9543,
          13862,
          21562,
          21562,
          10177,
          14522,
          52193,
          10177,
          26191,
          7147,
          26191,
          45420,
          13138,
          28623,
          13138,
          28623,
          32716,
          31441,
          31441,
          32716,
          35544,
          18967,
          18987,
          35544,
          11686,
          10175,
          11686,
          10175,
          31148,
          25942,
          31148,
          25942,
          20953,
          20953,
          53058,
          53058,
          48817,
          25515,
          25676,
          45434,
          24605,
          25598,
          26395,
          26067,
          32068,
          31000,
          47818,
          53819,
          52000,
          35061,
          37200,
          29586,
          43817,
          29300,
          43817,
          56208,
          33196,
          26100,
          39817,
          30730,
          33835,
          54000,
          54000,
          33835,
          35600,
          27730,
          27730,
          35600,
          33500,
          25952,
          30752,
          50800,
          35100,
          27146,
          21740,
          28098,
          26137,
          25253,
          27623,
          27623,
          20021,
          20021,
          25103,
          25103,
          22828,
          22828,
          19132,
          19132,
          17618,
          14356,
          14356,
          17618,
          13929,
          31553,
          31553,
          13929,
          15490,
          15490,
          16316,
          15529,
          35000,
          34144,
          8500,
          10027,
          13486,
          24347,
          16340,
          16404,
          90185,
          90185,
          73123,
          28986,
          54642,
          54642,
          21411,
          21411,
          22109,
          22109,
          50484,
          50484,
          29401,
          29401,
          34256,
          34256,
          65080,
          20129,
          65080,
          20129,
          16448,
          17668,
          17668,
          16448,
          17100,
          14873,
          14867,
          17100,
          78972,
          78972,
          23298,
          23298,
          17158,
          4335,
          2893,
          3693,
          3756,
          4655,
          2317,
          7537,
          2715,
          1843,
          1619,
          1150,
          7811,
          3203,
          2740,
          5520,
          1500,
          250,
          5855,
          2286,
          4635,
          655,
          4344,
          1500,
          14500,
          3824,
          63000,
          20000,
          16000,
          20000,
          12000,
          12000,
          13000,
          55000,
          14000,
          12000,
          14000,
          14000,
          15500,
          12000,
          12000,
          12000,
          10000,
          15500,
          14000,
          27000,
          14000,
          14000,
          11000,
          14000,
          14000,
          65000
         ]
        }
       ],
       "layout": {
        "barmode": "overlay",
        "template": {
         "data": {
          "bar": [
           {
            "error_x": {
             "color": "#f2f5fa"
            },
            "error_y": {
             "color": "#f2f5fa"
            },
            "marker": {
             "line": {
              "color": "rgb(17,17,17)",
              "width": 0.5
             },
             "pattern": {
              "fillmode": "overlay",
              "size": 10,
              "solidity": 0.2
             }
            },
            "type": "bar"
           }
          ],
          "barpolar": [
           {
            "marker": {
             "line": {
              "color": "rgb(17,17,17)",
              "width": 0.5
             },
             "pattern": {
              "fillmode": "overlay",
              "size": 10,
              "solidity": 0.2
             }
            },
            "type": "barpolar"
           }
          ],
          "carpet": [
           {
            "aaxis": {
             "endlinecolor": "#A2B1C6",
             "gridcolor": "#506784",
             "linecolor": "#506784",
             "minorgridcolor": "#506784",
             "startlinecolor": "#A2B1C6"
            },
            "baxis": {
             "endlinecolor": "#A2B1C6",
             "gridcolor": "#506784",
             "linecolor": "#506784",
             "minorgridcolor": "#506784",
             "startlinecolor": "#A2B1C6"
            },
            "type": "carpet"
           }
          ],
          "choropleth": [
           {
            "colorbar": {
             "outlinewidth": 0,
             "ticks": ""
            },
            "type": "choropleth"
           }
          ],
          "contour": [
           {
            "colorbar": {
             "outlinewidth": 0,
             "ticks": ""
            },
            "colorscale": [
             [
              0,
              "#0d0887"
             ],
             [
              0.1111111111111111,
              "#46039f"
             ],
             [
              0.2222222222222222,
              "#7201a8"
             ],
             [
              0.3333333333333333,
              "#9c179e"
             ],
             [
              0.4444444444444444,
              "#bd3786"
             ],
             [
              0.5555555555555556,
              "#d8576b"
             ],
             [
              0.6666666666666666,
              "#ed7953"
             ],
             [
              0.7777777777777778,
              "#fb9f3a"
             ],
             [
              0.8888888888888888,
              "#fdca26"
             ],
             [
              1,
              "#f0f921"
             ]
            ],
            "type": "contour"
           }
          ],
          "contourcarpet": [
           {
            "colorbar": {
             "outlinewidth": 0,
             "ticks": ""
            },
            "type": "contourcarpet"
           }
          ],
          "heatmap": [
           {
            "colorbar": {
             "outlinewidth": 0,
             "ticks": ""
            },
            "colorscale": [
             [
              0,
              "#0d0887"
             ],
             [
              0.1111111111111111,
              "#46039f"
             ],
             [
              0.2222222222222222,
              "#7201a8"
             ],
             [
              0.3333333333333333,
              "#9c179e"
             ],
             [
              0.4444444444444444,
              "#bd3786"
             ],
             [
              0.5555555555555556,
              "#d8576b"
             ],
             [
              0.6666666666666666,
              "#ed7953"
             ],
             [
              0.7777777777777778,
              "#fb9f3a"
             ],
             [
              0.8888888888888888,
              "#fdca26"
             ],
             [
              1,
              "#f0f921"
             ]
            ],
            "type": "heatmap"
           }
          ],
          "heatmapgl": [
           {
            "colorbar": {
             "outlinewidth": 0,
             "ticks": ""
            },
            "colorscale": [
             [
              0,
              "#0d0887"
             ],
             [
              0.1111111111111111,
              "#46039f"
             ],
             [
              0.2222222222222222,
              "#7201a8"
             ],
             [
              0.3333333333333333,
              "#9c179e"
             ],
             [
              0.4444444444444444,
              "#bd3786"
             ],
             [
              0.5555555555555556,
              "#d8576b"
             ],
             [
              0.6666666666666666,
              "#ed7953"
             ],
             [
              0.7777777777777778,
              "#fb9f3a"
             ],
             [
              0.8888888888888888,
              "#fdca26"
             ],
             [
              1,
              "#f0f921"
             ]
            ],
            "type": "heatmapgl"
           }
          ],
          "histogram": [
           {
            "marker": {
             "pattern": {
              "fillmode": "overlay",
              "size": 10,
              "solidity": 0.2
             }
            },
            "type": "histogram"
           }
          ],
          "histogram2d": [
           {
            "colorbar": {
             "outlinewidth": 0,
             "ticks": ""
            },
            "colorscale": [
             [
              0,
              "#0d0887"
             ],
             [
              0.1111111111111111,
              "#46039f"
             ],
             [
              0.2222222222222222,
              "#7201a8"
             ],
             [
              0.3333333333333333,
              "#9c179e"
             ],
             [
              0.4444444444444444,
              "#bd3786"
             ],
             [
              0.5555555555555556,
              "#d8576b"
             ],
             [
              0.6666666666666666,
              "#ed7953"
             ],
             [
              0.7777777777777778,
              "#fb9f3a"
             ],
             [
              0.8888888888888888,
              "#fdca26"
             ],
             [
              1,
              "#f0f921"
             ]
            ],
            "type": "histogram2d"
           }
          ],
          "histogram2dcontour": [
           {
            "colorbar": {
             "outlinewidth": 0,
             "ticks": ""
            },
            "colorscale": [
             [
              0,
              "#0d0887"
             ],
             [
              0.1111111111111111,
              "#46039f"
             ],
             [
              0.2222222222222222,
              "#7201a8"
             ],
             [
              0.3333333333333333,
              "#9c179e"
             ],
             [
              0.4444444444444444,
              "#bd3786"
             ],
             [
              0.5555555555555556,
              "#d8576b"
             ],
             [
              0.6666666666666666,
              "#ed7953"
             ],
             [
              0.7777777777777778,
              "#fb9f3a"
             ],
             [
              0.8888888888888888,
              "#fdca26"
             ],
             [
              1,
              "#f0f921"
             ]
            ],
            "type": "histogram2dcontour"
           }
          ],
          "mesh3d": [
           {
            "colorbar": {
             "outlinewidth": 0,
             "ticks": ""
            },
            "type": "mesh3d"
           }
          ],
          "parcoords": [
           {
            "line": {
             "colorbar": {
              "outlinewidth": 0,
              "ticks": ""
             }
            },
            "type": "parcoords"
           }
          ],
          "pie": [
           {
            "automargin": true,
            "type": "pie"
           }
          ],
          "scatter": [
           {
            "marker": {
             "line": {
              "color": "#283442"
             }
            },
            "type": "scatter"
           }
          ],
          "scatter3d": [
           {
            "line": {
             "colorbar": {
              "outlinewidth": 0,
              "ticks": ""
             }
            },
            "marker": {
             "colorbar": {
              "outlinewidth": 0,
              "ticks": ""
             }
            },
            "type": "scatter3d"
           }
          ],
          "scattercarpet": [
           {
            "marker": {
             "colorbar": {
              "outlinewidth": 0,
              "ticks": ""
             }
            },
            "type": "scattercarpet"
           }
          ],
          "scattergeo": [
           {
            "marker": {
             "colorbar": {
              "outlinewidth": 0,
              "ticks": ""
             }
            },
            "type": "scattergeo"
           }
          ],
          "scattergl": [
           {
            "marker": {
             "line": {
              "color": "#283442"
             }
            },
            "type": "scattergl"
           }
          ],
          "scattermapbox": [
           {
            "marker": {
             "colorbar": {
              "outlinewidth": 0,
              "ticks": ""
             }
            },
            "type": "scattermapbox"
           }
          ],
          "scatterpolar": [
           {
            "marker": {
             "colorbar": {
              "outlinewidth": 0,
              "ticks": ""
             }
            },
            "type": "scatterpolar"
           }
          ],
          "scatterpolargl": [
           {
            "marker": {
             "colorbar": {
              "outlinewidth": 0,
              "ticks": ""
             }
            },
            "type": "scatterpolargl"
           }
          ],
          "scatterternary": [
           {
            "marker": {
             "colorbar": {
              "outlinewidth": 0,
              "ticks": ""
             }
            },
            "type": "scatterternary"
           }
          ],
          "surface": [
           {
            "colorbar": {
             "outlinewidth": 0,
             "ticks": ""
            },
            "colorscale": [
             [
              0,
              "#0d0887"
             ],
             [
              0.1111111111111111,
              "#46039f"
             ],
             [
              0.2222222222222222,
              "#7201a8"
             ],
             [
              0.3333333333333333,
              "#9c179e"
             ],
             [
              0.4444444444444444,
              "#bd3786"
             ],
             [
              0.5555555555555556,
              "#d8576b"
             ],
             [
              0.6666666666666666,
              "#ed7953"
             ],
             [
              0.7777777777777778,
              "#fb9f3a"
             ],
             [
              0.8888888888888888,
              "#fdca26"
             ],
             [
              1,
              "#f0f921"
             ]
            ],
            "type": "surface"
           }
          ],
          "table": [
           {
            "cells": {
             "fill": {
              "color": "#506784"
             },
             "line": {
              "color": "rgb(17,17,17)"
             }
            },
            "header": {
             "fill": {
              "color": "#2a3f5f"
             },
             "line": {
              "color": "rgb(17,17,17)"
             }
            },
            "type": "table"
           }
          ]
         },
         "layout": {
          "annotationdefaults": {
           "arrowcolor": "#f2f5fa",
           "arrowhead": 0,
           "arrowwidth": 1
          },
          "autotypenumbers": "strict",
          "coloraxis": {
           "colorbar": {
            "outlinewidth": 0,
            "ticks": ""
           }
          },
          "colorscale": {
           "diverging": [
            [
             0,
             "#8e0152"
            ],
            [
             0.1,
             "#c51b7d"
            ],
            [
             0.2,
             "#de77ae"
            ],
            [
             0.3,
             "#f1b6da"
            ],
            [
             0.4,
             "#fde0ef"
            ],
            [
             0.5,
             "#f7f7f7"
            ],
            [
             0.6,
             "#e6f5d0"
            ],
            [
             0.7,
             "#b8e186"
            ],
            [
             0.8,
             "#7fbc41"
            ],
            [
             0.9,
             "#4d9221"
            ],
            [
             1,
             "#276419"
            ]
           ],
           "sequential": [
            [
             0,
             "#0d0887"
            ],
            [
             0.1111111111111111,
             "#46039f"
            ],
            [
             0.2222222222222222,
             "#7201a8"
            ],
            [
             0.3333333333333333,
             "#9c179e"
            ],
            [
             0.4444444444444444,
             "#bd3786"
            ],
            [
             0.5555555555555556,
             "#d8576b"
            ],
            [
             0.6666666666666666,
             "#ed7953"
            ],
            [
             0.7777777777777778,
             "#fb9f3a"
            ],
            [
             0.8888888888888888,
             "#fdca26"
            ],
            [
             1,
             "#f0f921"
            ]
           ],
           "sequentialminus": [
            [
             0,
             "#0d0887"
            ],
            [
             0.1111111111111111,
             "#46039f"
            ],
            [
             0.2222222222222222,
             "#7201a8"
            ],
            [
             0.3333333333333333,
             "#9c179e"
            ],
            [
             0.4444444444444444,
             "#bd3786"
            ],
            [
             0.5555555555555556,
             "#d8576b"
            ],
            [
             0.6666666666666666,
             "#ed7953"
            ],
            [
             0.7777777777777778,
             "#fb9f3a"
            ],
            [
             0.8888888888888888,
             "#fdca26"
            ],
            [
             1,
             "#f0f921"
            ]
           ]
          },
          "colorway": [
           "#636efa",
           "#EF553B",
           "#00cc96",
           "#ab63fa",
           "#FFA15A",
           "#19d3f3",
           "#FF6692",
           "#B6E880",
           "#FF97FF",
           "#FECB52"
          ],
          "font": {
           "color": "#f2f5fa"
          },
          "geo": {
           "bgcolor": "rgb(17,17,17)",
           "lakecolor": "rgb(17,17,17)",
           "landcolor": "rgb(17,17,17)",
           "showlakes": true,
           "showland": true,
           "subunitcolor": "#506784"
          },
          "hoverlabel": {
           "align": "left"
          },
          "hovermode": "closest",
          "mapbox": {
           "style": "dark"
          },
          "paper_bgcolor": "rgb(17,17,17)",
          "plot_bgcolor": "rgb(17,17,17)",
          "polar": {
           "angularaxis": {
            "gridcolor": "#506784",
            "linecolor": "#506784",
            "ticks": ""
           },
           "bgcolor": "rgb(17,17,17)",
           "radialaxis": {
            "gridcolor": "#506784",
            "linecolor": "#506784",
            "ticks": ""
           }
          },
          "scene": {
           "xaxis": {
            "backgroundcolor": "rgb(17,17,17)",
            "gridcolor": "#506784",
            "gridwidth": 2,
            "linecolor": "#506784",
            "showbackground": true,
            "ticks": "",
            "zerolinecolor": "#C8D4E3"
           },
           "yaxis": {
            "backgroundcolor": "rgb(17,17,17)",
            "gridcolor": "#506784",
            "gridwidth": 2,
            "linecolor": "#506784",
            "showbackground": true,
            "ticks": "",
            "zerolinecolor": "#C8D4E3"
           },
           "zaxis": {
            "backgroundcolor": "rgb(17,17,17)",
            "gridcolor": "#506784",
            "gridwidth": 2,
            "linecolor": "#506784",
            "showbackground": true,
            "ticks": "",
            "zerolinecolor": "#C8D4E3"
           }
          },
          "shapedefaults": {
           "line": {
            "color": "#f2f5fa"
           }
          },
          "sliderdefaults": {
           "bgcolor": "#C8D4E3",
           "bordercolor": "rgb(17,17,17)",
           "borderwidth": 1,
           "tickwidth": 0
          },
          "ternary": {
           "aaxis": {
            "gridcolor": "#506784",
            "linecolor": "#506784",
            "ticks": ""
           },
           "baxis": {
            "gridcolor": "#506784",
            "linecolor": "#506784",
            "ticks": ""
           },
           "bgcolor": "rgb(17,17,17)",
           "caxis": {
            "gridcolor": "#506784",
            "linecolor": "#506784",
            "ticks": ""
           }
          },
          "title": {
           "x": 0.05
          },
          "updatemenudefaults": {
           "bgcolor": "#506784",
           "borderwidth": 0
          },
          "xaxis": {
           "automargin": true,
           "gridcolor": "#283442",
           "linecolor": "#506784",
           "ticks": "",
           "title": {
            "standoff": 15
           },
           "zerolinecolor": "#283442",
           "zerolinewidth": 2
          },
          "yaxis": {
           "automargin": true,
           "gridcolor": "#283442",
           "linecolor": "#506784",
           "ticks": "",
           "title": {
            "standoff": 15
           },
           "zerolinecolor": "#283442",
           "zerolinewidth": 2
          }
         }
        }
       }
      },
      "text/html": [
       "<div>                            <div id=\"a983de3c-bd6f-45fd-a48b-18d06db7fc04\" class=\"plotly-graph-div\" style=\"height:525px; width:100%;\"></div>            <script type=\"text/javascript\">                require([\"plotly\"], function(Plotly) {                    window.PLOTLYENV=window.PLOTLYENV || {};                                    if (document.getElementById(\"a983de3c-bd6f-45fd-a48b-18d06db7fc04\")) {                    Plotly.newPlot(                        \"a983de3c-bd6f-45fd-a48b-18d06db7fc04\",                        [{\"name\":\"Masculina\",\"x\":[88966,44137,68294,88966,44198,68895,43893,88235,44667,83720,42523,43847,40989,65985,44846,45032,44097,43443,85986,41378,43102,43984,67054,44851,41232,43627,84985,44089,44569,66784,42127,44297,39789,43983,43649,88668,41479,43738,44374,68895,41823,44259,42860,88966,40875,41797,44833,68463,39089,41663,42662,88103,59407,42608,40013,40432,88012,42925,39369,40875,45334,41721,43418,67372,78011,64406,78011,64286,39991,44287,43319,42873,64042,44190,41970,41466,78011,40851,42873,44287,42189,41970,33973,37168,41835,33061,43319,44190,44073,78011,43472,64468,36823,41970,33973,41685,43319,32572,42873,44190,43472,44287,64468,40904,33167,40727,32789,43319,78011,42678,42718,40842,44190,64468,42300,43257,41064,41432,78011,43109,41279,44190,40502,31136,27015,62548,43866,78011,74738,68034,63267,58141,68551,51179,74240,60342,63255,51227,67882,43063,58817,41242,57714,73804,41876,67540,61397,39311,48011,43285,40322,73749,57823,39706,40340,59095,39375,62996,41212,69112,73819,42732,40123,57698,59621,40499,40285,51003,39224,68748,62575,39485,42877,74101,39982,56800,60342,37603,51081,39081,39760,68351,43012,74738,57174,58679,39800,40267,39216,48173,40275,62103,84490,36254,60960,62479,64100,55359,40186,84017,36742,62955,61962,54096,40510,84377,30597,34976,62712,34763,41958,28042,34850,53412,27967,63093,36893,35827,83391,37836,33425,39415,61874,38891,63644,34872,54386,26643,38229,84455,62010,34812,38074,38294,45573,64100,82174,31593,35370,32664,62453,42658,23871,37034,54331,83465,30620,62869,30325,38833,62660,31513,55686,38646,84490,64100,69000,52000,66000,65000,52000,48000,72000,50000,65000,43000,46000,45000,52000,41000,66000,43000,46000,72000,45000,43000,41000,50000,65000,52000,52000,38000,66000,48000,43000,72000,46000,45000,65000,50000,52000,41000,66000,43000,48000,45000,46000,52000,52000,43000,50000,41000,72000,43000,66000,65000,48000,52000,72000,46000,52000,43000,37216,41000,45000,48000,62959,49480,64950,52000,69029,63483,61058,65625,42114,44233,47436,37337,45666,38588,36380,40440,39747,38926,25176,40582,45213,46640,50239,26482,38524,43605,39291,65862,45777,44864,31024,30176,48100,33681,65320,47085,60778,39700,31000,45610,42299,66108,47226,36472,36750,36194,24000,35927,43500,52328,38070,30957,37306,35854,27217,55256,48760,32239,33842,31081,34050,25186,52721,28588,33679,30157,32218,62561,80000,44000,80000,60000,60000,43300,80000,49500,31800,30600,29800,33000,31800,77000,55000,45500,31800,39100,80000,42000,30600,45500,38500,35500,31800,39100,41275,33400,80000,39500,57000,36000,35500,33140,41275,45500,43300,35500,31800,55000,48000,36000,33500,80000,36000,35500,31800,38500,54587,43300,49000,33500,36000,38100,38000,39100,77000,27650,38100,55000,35200,36500,80000,29750,94194,91500,74110,91856,72000,83500,53400,63500,54367,71030,61355,84147,60277,90469,60246,53121,53001,63998,60578,52959,52535,72404,74914,77217,63998,63089,63160,93869,83401,62387,76322,54453,60790,83401,71528,74624,54453,61428,93869,54456,63113,44132,81061,50535,61219,52395,93194,73425,75338,91856,63117,56247,73603,51426,62628,59978,73347,55205,38971,73303,35500,34520,31818,73303,61381,74559,50026,47673,35950,29039,33288,34959,30223,62502,72510,27833,34857,73303,52733,37307,33288,33759,32733,58007,35267,31823,38962,71169,32257,38687,73423,35713,55759,32790,33288,30867,35238,33266,74765,62628,30791,42907,73303,73780,114600,21000,45000,114500,114580,45000,65000,41700,98728,38500,70000,19800,45000,26000,114580,32277,20000,36000,23980,51000,16000,103763,22700,28000,65000,20000,14200,31420,30000,20000,26500,114600,28000,19915,48000,13800,20200,32000,36540,45000,24000,30500,18000,110000,22000,23000,16500,60000,19900,35748,65500,96000,90000,28000,50000,70000,44000,75000,37000,65000,44000,90089,20000,45000,43000,75000,37000,65000,39700,41000,49562,28000,16000,25000,20000,32500,43000,25000,37000,45000,22000,30043,15000,42000,41123,48000,19000,19000,15000,25000,47379,32093,22500,25000,25000,44172,42000,49562,11000,23000,36000,33000,68000,95000,71483,69659,67433,38318,39586,37315,35288,40750,66695,37326,25050,67547,31278,37091,35221,42132,21262,35130,23127,22651,30667,71712,41424,34771,28125,7938,26533,35258,9624,71666,32569,40841,37927,33431,42373,17396,71615,67579,78200,77100,62000,53700,54254,41300,58000,39400,68348,67800,67385,59863,44955,56548,53300,70100,28300,25900,56000,17400,36200,60200,25300,13400,53700,70100,53300,31700,28300,62000,55100,23800,53000,32700,81100,17000,27000,62000,107412,104403,102444,51261,54233,26851,26085,23357,108192,9890,12299,49292,17875,50804,18163,89979,103058,66843,12710,9624,56818,29968,95261,13537,92205,52897,13433,12942,50560,13765,20654,107160,96924,87696,94493,38273,40248,90584,26844,40007,98270,24129,42187,16027,61112,32127,58479,17829,46587,27793,25438,92570,32028,45662,51387,13792,42738,69237,27199,29886,47308,23006,36127,87148,68679,66697,76594,5890,17268,17736,11690,63324,5700,10648,59828,7167,67224,9973,7945,18715,11875,8040,7442,64922,66057,14903,9794,8829,65440,7938,12700,9622,65006,7908,10484,7134,49737,32483,49471,27100,11800,20055,25923,31900,6196,2823,23182,30287,13103,21990,16418,15872,50928,13300,13554,38850,21239,25000,14174,12217,11665,40895,15150,34107,10647,15343,9591,17788,49348,16518,31156,62500,32000,45000,58000,17000,40000,28000,35000,17000,30000,56000,4000,24000,43500,34000,24637,26000,19000,43000,13000,28000,14000,20500,16000,13470,25000,11227,173850,152772,7987,138886,44802,8501,25811,5284,74462,3580,142429,19790,10151,7903,42032,11078,36502,29703,9511,7336,81649,12000,45000,20000,33000,18141,7000,22021,15000,58455,20025,8000,19000,7000,9000,30454,13452,11000,27152,55000,7000,15000,35000,43000,23000,12000,35000,3000,9000,9000,16000,33000,14000,21000,8000,25000,68346,79867,72886,41459,70022,25466,12000,2000,42100,57735,18306,18306,9249,23409,24059,2549,18346,4444],\"type\":\"histogram\",\"opacity\":0.75},{\"name\":\"Feminina\",\"x\":[75784,49461,75784,43217,49461,75784,32021,43217,27706,13557,49461,75784,40233,27706,43217,33042,17342,38945,14967,17907,27638,40498,8215,40958,17897,13497,20957,8117,24884,27706,12886,25947,34697,40499,29143,49378,15987,8834,40439,12675,27312,6645,49156,6992,20983,17065,24323,32357,10769,30889,27256,13142,18317,11991,39045,41107,16111,44369,16989,21410,13711,22966,42137,75784,57900,20316,48452,53512,22600,25301,45595,21111,17492,21076,19633,38078,20148,17988,19277,8009,22418,13567,14319,28205,21669,17402,15502,11814,13034,28267,9354,45594,22423,14856,13201,12016,20294,17032,20011,11252,20761,34872,10654,15875,18591,25055,10710,15380,17668,13188,15283,12044,11058,45261,53341,21483,31467,51176,19814,54027,24859,24141,28717,19829,19412,12054,53855,15518,22486,15958,9543,13862,21562,21562,10177,14522,52193,10177,26191,7147,26191,45420,13138,28623,13138,28623,32716,31441,31441,32716,35544,18967,18987,35544,11686,10175,11686,10175,31148,25942,31148,25942,20953,20953,53058,53058,48817,25515,25676,45434,24605,25598,26395,26067,32068,31000,47818,53819,52000,35061,37200,29586,43817,29300,43817,56208,33196,26100,39817,30730,33835,54000,54000,33835,35600,27730,27730,35600,33500,25952,30752,50800,35100,27146,21740,28098,26137,25253,27623,27623,20021,20021,25103,25103,22828,22828,19132,19132,17618,14356,14356,17618,13929,31553,31553,13929,15490,15490,16316,15529,35000,34144,8500,10027,13486,24347,16340,16404,90185,90185,73123,28986,54642,54642,21411,21411,22109,22109,50484,50484,29401,29401,34256,34256,65080,20129,65080,20129,16448,17668,17668,16448,17100,14873,14867,17100,78972,78972,23298,23298,17158,4335,2893,3693,3756,4655,2317,7537,2715,1843,1619,1150,7811,3203,2740,5520,1500,250,5855,2286,4635,655,4344,1500,14500,3824,63000,20000,16000,20000,12000,12000,13000,55000,14000,12000,14000,14000,15500,12000,12000,12000,10000,15500,14000,27000,14000,14000,11000,14000,14000,65000],\"type\":\"histogram\",\"opacity\":0.75}],                        {\"template\":{\"data\":{\"histogram2dcontour\":[{\"type\":\"histogram2dcontour\",\"colorbar\":{\"outlinewidth\":0,\"ticks\":\"\"},\"colorscale\":[[0.0,\"#0d0887\"],[0.1111111111111111,\"#46039f\"],[0.2222222222222222,\"#7201a8\"],[0.3333333333333333,\"#9c179e\"],[0.4444444444444444,\"#bd3786\"],[0.5555555555555556,\"#d8576b\"],[0.6666666666666666,\"#ed7953\"],[0.7777777777777778,\"#fb9f3a\"],[0.8888888888888888,\"#fdca26\"],[1.0,\"#f0f921\"]]}],\"choropleth\":[{\"type\":\"choropleth\",\"colorbar\":{\"outlinewidth\":0,\"ticks\":\"\"}}],\"histogram2d\":[{\"type\":\"histogram2d\",\"colorbar\":{\"outlinewidth\":0,\"ticks\":\"\"},\"colorscale\":[[0.0,\"#0d0887\"],[0.1111111111111111,\"#46039f\"],[0.2222222222222222,\"#7201a8\"],[0.3333333333333333,\"#9c179e\"],[0.4444444444444444,\"#bd3786\"],[0.5555555555555556,\"#d8576b\"],[0.6666666666666666,\"#ed7953\"],[0.7777777777777778,\"#fb9f3a\"],[0.8888888888888888,\"#fdca26\"],[1.0,\"#f0f921\"]]}],\"heatmap\":[{\"type\":\"heatmap\",\"colorbar\":{\"outlinewidth\":0,\"ticks\":\"\"},\"colorscale\":[[0.0,\"#0d0887\"],[0.1111111111111111,\"#46039f\"],[0.2222222222222222,\"#7201a8\"],[0.3333333333333333,\"#9c179e\"],[0.4444444444444444,\"#bd3786\"],[0.5555555555555556,\"#d8576b\"],[0.6666666666666666,\"#ed7953\"],[0.7777777777777778,\"#fb9f3a\"],[0.8888888888888888,\"#fdca26\"],[1.0,\"#f0f921\"]]}],\"heatmapgl\":[{\"type\":\"heatmapgl\",\"colorbar\":{\"outlinewidth\":0,\"ticks\":\"\"},\"colorscale\":[[0.0,\"#0d0887\"],[0.1111111111111111,\"#46039f\"],[0.2222222222222222,\"#7201a8\"],[0.3333333333333333,\"#9c179e\"],[0.4444444444444444,\"#bd3786\"],[0.5555555555555556,\"#d8576b\"],[0.6666666666666666,\"#ed7953\"],[0.7777777777777778,\"#fb9f3a\"],[0.8888888888888888,\"#fdca26\"],[1.0,\"#f0f921\"]]}],\"contourcarpet\":[{\"type\":\"contourcarpet\",\"colorbar\":{\"outlinewidth\":0,\"ticks\":\"\"}}],\"contour\":[{\"type\":\"contour\",\"colorbar\":{\"outlinewidth\":0,\"ticks\":\"\"},\"colorscale\":[[0.0,\"#0d0887\"],[0.1111111111111111,\"#46039f\"],[0.2222222222222222,\"#7201a8\"],[0.3333333333333333,\"#9c179e\"],[0.4444444444444444,\"#bd3786\"],[0.5555555555555556,\"#d8576b\"],[0.6666666666666666,\"#ed7953\"],[0.7777777777777778,\"#fb9f3a\"],[0.8888888888888888,\"#fdca26\"],[1.0,\"#f0f921\"]]}],\"surface\":[{\"type\":\"surface\",\"colorbar\":{\"outlinewidth\":0,\"ticks\":\"\"},\"colorscale\":[[0.0,\"#0d0887\"],[0.1111111111111111,\"#46039f\"],[0.2222222222222222,\"#7201a8\"],[0.3333333333333333,\"#9c179e\"],[0.4444444444444444,\"#bd3786\"],[0.5555555555555556,\"#d8576b\"],[0.6666666666666666,\"#ed7953\"],[0.7777777777777778,\"#fb9f3a\"],[0.8888888888888888,\"#fdca26\"],[1.0,\"#f0f921\"]]}],\"mesh3d\":[{\"type\":\"mesh3d\",\"colorbar\":{\"outlinewidth\":0,\"ticks\":\"\"}}],\"scatter\":[{\"marker\":{\"line\":{\"color\":\"#283442\"}},\"type\":\"scatter\"}],\"parcoords\":[{\"type\":\"parcoords\",\"line\":{\"colorbar\":{\"outlinewidth\":0,\"ticks\":\"\"}}}],\"scatterpolargl\":[{\"type\":\"scatterpolargl\",\"marker\":{\"colorbar\":{\"outlinewidth\":0,\"ticks\":\"\"}}}],\"bar\":[{\"error_x\":{\"color\":\"#f2f5fa\"},\"error_y\":{\"color\":\"#f2f5fa\"},\"marker\":{\"line\":{\"color\":\"rgb(17,17,17)\",\"width\":0.5},\"pattern\":{\"fillmode\":\"overlay\",\"size\":10,\"solidity\":0.2}},\"type\":\"bar\"}],\"scattergeo\":[{\"type\":\"scattergeo\",\"marker\":{\"colorbar\":{\"outlinewidth\":0,\"ticks\":\"\"}}}],\"scatterpolar\":[{\"type\":\"scatterpolar\",\"marker\":{\"colorbar\":{\"outlinewidth\":0,\"ticks\":\"\"}}}],\"histogram\":[{\"marker\":{\"pattern\":{\"fillmode\":\"overlay\",\"size\":10,\"solidity\":0.2}},\"type\":\"histogram\"}],\"scattergl\":[{\"marker\":{\"line\":{\"color\":\"#283442\"}},\"type\":\"scattergl\"}],\"scatter3d\":[{\"type\":\"scatter3d\",\"line\":{\"colorbar\":{\"outlinewidth\":0,\"ticks\":\"\"}},\"marker\":{\"colorbar\":{\"outlinewidth\":0,\"ticks\":\"\"}}}],\"scattermapbox\":[{\"type\":\"scattermapbox\",\"marker\":{\"colorbar\":{\"outlinewidth\":0,\"ticks\":\"\"}}}],\"scatterternary\":[{\"type\":\"scatterternary\",\"marker\":{\"colorbar\":{\"outlinewidth\":0,\"ticks\":\"\"}}}],\"scattercarpet\":[{\"type\":\"scattercarpet\",\"marker\":{\"colorbar\":{\"outlinewidth\":0,\"ticks\":\"\"}}}],\"carpet\":[{\"aaxis\":{\"endlinecolor\":\"#A2B1C6\",\"gridcolor\":\"#506784\",\"linecolor\":\"#506784\",\"minorgridcolor\":\"#506784\",\"startlinecolor\":\"#A2B1C6\"},\"baxis\":{\"endlinecolor\":\"#A2B1C6\",\"gridcolor\":\"#506784\",\"linecolor\":\"#506784\",\"minorgridcolor\":\"#506784\",\"startlinecolor\":\"#A2B1C6\"},\"type\":\"carpet\"}],\"table\":[{\"cells\":{\"fill\":{\"color\":\"#506784\"},\"line\":{\"color\":\"rgb(17,17,17)\"}},\"header\":{\"fill\":{\"color\":\"#2a3f5f\"},\"line\":{\"color\":\"rgb(17,17,17)\"}},\"type\":\"table\"}],\"barpolar\":[{\"marker\":{\"line\":{\"color\":\"rgb(17,17,17)\",\"width\":0.5},\"pattern\":{\"fillmode\":\"overlay\",\"size\":10,\"solidity\":0.2}},\"type\":\"barpolar\"}],\"pie\":[{\"automargin\":true,\"type\":\"pie\"}]},\"layout\":{\"autotypenumbers\":\"strict\",\"colorway\":[\"#636efa\",\"#EF553B\",\"#00cc96\",\"#ab63fa\",\"#FFA15A\",\"#19d3f3\",\"#FF6692\",\"#B6E880\",\"#FF97FF\",\"#FECB52\"],\"font\":{\"color\":\"#f2f5fa\"},\"hovermode\":\"closest\",\"hoverlabel\":{\"align\":\"left\"},\"paper_bgcolor\":\"rgb(17,17,17)\",\"plot_bgcolor\":\"rgb(17,17,17)\",\"polar\":{\"bgcolor\":\"rgb(17,17,17)\",\"angularaxis\":{\"gridcolor\":\"#506784\",\"linecolor\":\"#506784\",\"ticks\":\"\"},\"radialaxis\":{\"gridcolor\":\"#506784\",\"linecolor\":\"#506784\",\"ticks\":\"\"}},\"ternary\":{\"bgcolor\":\"rgb(17,17,17)\",\"aaxis\":{\"gridcolor\":\"#506784\",\"linecolor\":\"#506784\",\"ticks\":\"\"},\"baxis\":{\"gridcolor\":\"#506784\",\"linecolor\":\"#506784\",\"ticks\":\"\"},\"caxis\":{\"gridcolor\":\"#506784\",\"linecolor\":\"#506784\",\"ticks\":\"\"}},\"coloraxis\":{\"colorbar\":{\"outlinewidth\":0,\"ticks\":\"\"}},\"colorscale\":{\"sequential\":[[0.0,\"#0d0887\"],[0.1111111111111111,\"#46039f\"],[0.2222222222222222,\"#7201a8\"],[0.3333333333333333,\"#9c179e\"],[0.4444444444444444,\"#bd3786\"],[0.5555555555555556,\"#d8576b\"],[0.6666666666666666,\"#ed7953\"],[0.7777777777777778,\"#fb9f3a\"],[0.8888888888888888,\"#fdca26\"],[1.0,\"#f0f921\"]],\"sequentialminus\":[[0.0,\"#0d0887\"],[0.1111111111111111,\"#46039f\"],[0.2222222222222222,\"#7201a8\"],[0.3333333333333333,\"#9c179e\"],[0.4444444444444444,\"#bd3786\"],[0.5555555555555556,\"#d8576b\"],[0.6666666666666666,\"#ed7953\"],[0.7777777777777778,\"#fb9f3a\"],[0.8888888888888888,\"#fdca26\"],[1.0,\"#f0f921\"]],\"diverging\":[[0,\"#8e0152\"],[0.1,\"#c51b7d\"],[0.2,\"#de77ae\"],[0.3,\"#f1b6da\"],[0.4,\"#fde0ef\"],[0.5,\"#f7f7f7\"],[0.6,\"#e6f5d0\"],[0.7,\"#b8e186\"],[0.8,\"#7fbc41\"],[0.9,\"#4d9221\"],[1,\"#276419\"]]},\"xaxis\":{\"gridcolor\":\"#283442\",\"linecolor\":\"#506784\",\"ticks\":\"\",\"title\":{\"standoff\":15},\"zerolinecolor\":\"#283442\",\"automargin\":true,\"zerolinewidth\":2},\"yaxis\":{\"gridcolor\":\"#283442\",\"linecolor\":\"#506784\",\"ticks\":\"\",\"title\":{\"standoff\":15},\"zerolinecolor\":\"#283442\",\"automargin\":true,\"zerolinewidth\":2},\"scene\":{\"xaxis\":{\"backgroundcolor\":\"rgb(17,17,17)\",\"gridcolor\":\"#506784\",\"linecolor\":\"#506784\",\"showbackground\":true,\"ticks\":\"\",\"zerolinecolor\":\"#C8D4E3\",\"gridwidth\":2},\"yaxis\":{\"backgroundcolor\":\"rgb(17,17,17)\",\"gridcolor\":\"#506784\",\"linecolor\":\"#506784\",\"showbackground\":true,\"ticks\":\"\",\"zerolinecolor\":\"#C8D4E3\",\"gridwidth\":2},\"zaxis\":{\"backgroundcolor\":\"rgb(17,17,17)\",\"gridcolor\":\"#506784\",\"linecolor\":\"#506784\",\"showbackground\":true,\"ticks\":\"\",\"zerolinecolor\":\"#C8D4E3\",\"gridwidth\":2}},\"shapedefaults\":{\"line\":{\"color\":\"#f2f5fa\"}},\"annotationdefaults\":{\"arrowcolor\":\"#f2f5fa\",\"arrowhead\":0,\"arrowwidth\":1},\"geo\":{\"bgcolor\":\"rgb(17,17,17)\",\"landcolor\":\"rgb(17,17,17)\",\"subunitcolor\":\"#506784\",\"showland\":true,\"showlakes\":true,\"lakecolor\":\"rgb(17,17,17)\"},\"title\":{\"x\":0.05},\"updatemenudefaults\":{\"bgcolor\":\"#506784\",\"borderwidth\":0},\"sliderdefaults\":{\"bgcolor\":\"#C8D4E3\",\"borderwidth\":1,\"bordercolor\":\"rgb(17,17,17)\",\"tickwidth\":0},\"mapbox\":{\"style\":\"dark\"}}},\"barmode\":\"overlay\"},                        {\"responsive\": true}                    ).then(function(){\n",
       "                            \n",
       "var gd = document.getElementById('a983de3c-bd6f-45fd-a48b-18d06db7fc04');\n",
       "var x = new MutationObserver(function (mutations, observer) {{\n",
       "        var display = window.getComputedStyle(gd).display;\n",
       "        if (!display || display === 'none') {{\n",
       "            console.log([gd, 'removed!']);\n",
       "            Plotly.purge(gd);\n",
       "            observer.disconnect();\n",
       "        }}\n",
       "}});\n",
       "\n",
       "// Listen for the removal of the full notebook cells\n",
       "var notebookContainer = gd.closest('#notebook-container');\n",
       "if (notebookContainer) {{\n",
       "    x.observe(notebookContainer, {childList: true});\n",
       "}}\n",
       "\n",
       "// Listen for the clearing of the current output cell\n",
       "var outputEl = gd.closest('.output');\n",
       "if (outputEl) {{\n",
       "    x.observe(outputEl, {childList: true});\n",
       "}}\n",
       "\n",
       "                        })                };                });            </script>        </div>"
      ]
     },
     "metadata": {},
     "output_type": "display_data"
    }
   ],
   "source": [
    "#### solução com plotly\n",
    "\n",
    "col1 = wc_comp[(wc_comp[\"copa\"] == 'Masculina')]\n",
    "col2 = wc_comp[(wc_comp[\"copa\"] == 'Feminina')]\n",
    "               \n",
    "fig = go.Figure()\n",
    "fig.add_trace(go.Histogram(x=col1['comparecimento'], name='Masculina'))\n",
    "fig.add_trace(go.Histogram(x=col2['comparecimento'], name='Feminina'))\n",
    "               \n",
    "fig.update_layout(barmode='overlay')\n",
    "\n",
    "fig.update_traces(opacity=0.75)\n",
    "fig.show()\n"
   ]
  },
  {
   "cell_type": "markdown",
   "metadata": {},
   "source": [
    "#### Q3.\n",
    "\n",
    "Apresente um gráfico de dispersão (scatter) dos atributos `gols_1` e `gols_2`. Isso representa a relação entre gols feitos e gols tomados por jogo. Há alguma relação interessante entre esses atributos?\n",
    "\n",
    "Para facilitar a visualização dos dados (já que tem muitos placares repetidos), aplique uma leve distorção aos dados para que cada ponto esteja deslocado aleatoriamente de seu valor original. Código apresentado a seguir\n",
    "```python\n",
    "gols = wc[['gols_1', 'gols_2']] * np.random.random((len(wc),2))\n",
    "```\n",
    "\n",
    "Você deve implementar essa visualização nas três bibliotecas que vimos:\n",
    "* Matplotlib\n",
    "* Seaborn\n",
    "* Plotly\n",
    "\n",
    "Garanta que o gráfico tenha pelo menos os atributos de título e rótulos de dimensão."
   ]
  },
  {
   "cell_type": "code",
   "execution_count": 25,
   "metadata": {
    "scrolled": true
   },
   "outputs": [],
   "source": [
    "import numpy as np\n",
    "\n",
    "# Tratamento de dados\n",
    "gols = wc[['gols_1', 'gols_2']] * np.random.random((len(wc),2))"
   ]
  },
  {
   "cell_type": "code",
   "execution_count": 26,
   "metadata": {
    "vscode": {
     "languageId": "plaintext"
    }
   },
   "outputs": [
    {
     "data": {
      "image/png": "[encoded data removed]",
      "text/plain": [
       "<Figure size 640x480 with 1 Axes>"
      ]
     },
     "metadata": {},
     "output_type": "display_data"
    }
   ],
   "source": [
    "#### solução com matplotlib\n",
    "gols1 = wc['gols_1']\n",
    "gols2 = wc['gols_2']\n",
    "\n",
    "plt.scatter(gols1, gols2, color='blue', marker='x')\n",
    "plt.xlabel('Gols Feitos (home_team)')\n",
    "plt.ylabel('Gols Tomados (away_team)')\n",
    "plt.grid(True)\n",
    "plt.show()"
   ]
  },
  {
   "cell_type": "code",
   "execution_count": 27,
   "metadata": {
    "vscode": {
     "languageId": "plaintext"
    }
   },
   "outputs": [
    {
     "data": {
      "image/png": "[encoded data removed]",
      "text/plain": [
       "<Figure size 640x480 with 1 Axes>"
      ]
     },
     "metadata": {},
     "output_type": "display_data"
    }
   ],
   "source": [
    "#### solução com seaborn\n",
    "sns.scatterplot(data=gols, x='gols_1', y='gols_2').set(\n",
    "    title= 'Gols feitos e levados pelo time de casa',\n",
    "    xlabel = 'Gols Feitos',\n",
    "    ylabel = 'Gols Levados'\n",
    ")\n",
    "\n",
    "plt.autoscale()\n",
    "\n",
    "plt.show()"
   ]
  },
  {
   "cell_type": "code",
   "execution_count": 28,
   "metadata": {
    "vscode": {
     "languageId": "plaintext"
    }
   },
   "outputs": [
    {
     "data": {
      "application/vnd.plotly.v1+json": {
       "config": {
        "plotlyServerURL": "https://plot.ly"
       },
       "data": [
        {
         "hovertemplate": "gols_1=%{x}<br>gols_2=%{y}<extra></extra>",
         "legendgroup": "",
         "marker": {
          "color": "#636efa",
          "symbol": "circle"
         },
         "mode": "markers",
         "name": "",
         "showlegend": false,
         "type": "scattergl",
         "x": [
          0.16079495877784056,
          0.7371847793485451,
          0.37257794351754114,
          0.5872790704741901,
          0.3399491176062661,
          0.601316215696078,
          0.5053019287969792,
          1.5179882257571429,
          0,
          2.3775979007879084,
          0.3605736592641987,
          3.74617791846246,
          2.9879712910578293,
          2.0869039735020247,
          2.1712197189799087,
          0.9757817527095483,
          0.8612106328302649,
          0,
          0.8367878612992978,
          1.280919998132757,
          0.8189471946178475,
          0,
          0.5326068846128953,
          1.9874852701635333,
          0.8222087980697838,
          0.8159256090860305,
          0.12850050806182667,
          0,
          0.7466881467237908,
          1.7947248441317945,
          0,
          0,
          2.7702154458003525,
          1.2980808522687404,
          0.9474512834606416,
          0.3442932142077859,
          0,
          0,
          3.8913342888253797,
          0.8982581115889334,
          0,
          1.5394789420223292,
          0.12368894143127318,
          1.1315079142517035,
          0,
          0.527081975291222,
          0.3304782484902644,
          0,
          0.3861587495107561,
          0,
          0.05136247707048813,
          0.793651971240515,
          0,
          0.8586436870517978,
          3.381524162138166,
          0.2903339926228,
          0.4135113204080436,
          0,
          0,
          1.0723695531755073,
          4.847509813637173,
          0,
          0.12489496493327079,
          0,
          3.7318066800340515,
          0.7803920847422836,
          1.0606101203809608,
          0.6518600878559434,
          0,
          1.6265596890122667,
          0,
          0.7343416054685022,
          0.34883356050630754,
          0.2171358208569829,
          1.1458271847015735,
          0.5289111042662425,
          0.5024592907187204,
          0.6702001557219666,
          2.3330622836843724,
          1.8357472192884883,
          0,
          0,
          0,
          0.7924267587564974,
          1.5465931494364586,
          0,
          0.6293757656782502,
          0,
          0,
          0,
          0.518076694528902,
          0.07108577250836168,
          0.5465183830664788,
          0.17888976808601886,
          0.6475975984602318,
          0.8539436649952513,
          5.3009915604068585,
          0.6431467855047643,
          0,
          1.749825611130738,
          0.25032009171961045,
          1.8758096883103652,
          0.7968391276343529,
          1.5076509908413218,
          0.9453123523827787,
          0.326274556321014,
          0.5816984328780558,
          0,
          0.8520123598652979,
          0.4400475337125712,
          0,
          0.35338485778117246,
          0.5007297863793096,
          0.4621140710703616,
          0.7390337902847294,
          0.3008915563547978,
          0.043671357175670944,
          0,
          0,
          0.36341317352067926,
          0.9997854763996228,
          0.02557891079696273,
          0,
          0.30946491550919153,
          0,
          0,
          2.5051154336815546,
          0.8001414984005867,
          0.536167668901991,
          0,
          0,
          0.7376516798803515,
          0.13590354303131813,
          0,
          0,
          0.7228212635328455,
          0.9747003799504174,
          1.1369341618320232,
          0.6294030662442176,
          0.6332194298347846,
          0.7931557859241847,
          0.7133425576580723,
          0.9943787957443404,
          0.5274005366102972,
          0,
          0.4283814344245209,
          0,
          0.7636093238230175,
          2.922775748080141,
          1.7070047080820083,
          0,
          0,
          0,
          0,
          0.4007252866982668,
          1.8071664804561511,
          0,
          1.965500482419397,
          0.5054422683239083,
          0.6648008219837107,
          0.7203793052996174,
          0.8220832032633303,
          1.4887590508802575,
          0.35406568219941403,
          1.3928216299320462,
          0.41650374277153723,
          0,
          0.32844288931870946,
          0.5091159211105871,
          0.3454851685670548,
          1.7907405767995417,
          0,
          0.9096492340701947,
          0,
          0,
          0.01803050866538025,
          0,
          0.7188273824857181,
          3.857244149862649,
          0,
          0.9090346169639716,
          0.6291887144623087,
          0.3712240376093714,
          1.821325820919578,
          1.2455826085984258,
          0.8989823580928815,
          0.8090724526726403,
          1.4392372900835075,
          0.07925447092798887,
          0.5612101627354881,
          0.22842641549128584,
          0.9019606962218648,
          0,
          0.0821330660347972,
          0,
          1.5416503799162498,
          0,
          0,
          1.2825758576331951,
          0.0008264437466748431,
          0,
          0.004586918176234578,
          0.6781892976395185,
          1.0382659089993465,
          0.5820285240313234,
          2.492962624532169,
          1.7010223050973474,
          0.9273889182673722,
          0,
          0,
          0.5762397880593438,
          0,
          0,
          2.2583588236087304,
          0.8000999419084256,
          0.9542067878769102,
          0,
          0.9362439343431862,
          0,
          1.3790227802945654,
          0,
          0.8820070051664065,
          1.3593341770656162,
          0,
          1.9911082839503282,
          0.8988465712132073,
          0.2194427393108762,
          0,
          0.9527698265368221,
          1.574955744057963,
          0.25872341538865884,
          0.9536814562891158,
          0.3611362337956038,
          0,
          0.9972763192487315,
          0,
          0.8862834677874716,
          0.9485723526189676,
          0,
          0,
          0,
          0,
          0.9671771627370547,
          0,
          0.76588883038246,
          1.93724012023227,
          0.6136985871960857,
          0.2518180705824946,
          0,
          0,
          0.5131695341786995,
          1.2289592082837275,
          0.41112547082190765,
          0.7812501537994885,
          0.47721660511162256,
          0,
          0.4965298951960071,
          0.18661555447417577,
          0,
          0,
          0,
          0,
          0.32305233162700364,
          0.7824077719765734,
          0.8094954810145213,
          0.23908378985681422,
          0.49742131817843305,
          0,
          0.95542236783474,
          0.45364343577550437,
          0.8656674179820454,
          0.8998270220031206,
          0,
          0.07340093216099808,
          0,
          1.8404735524219655,
          1.7926710663522893,
          0,
          0.6656793527902949,
          0.8605725579229937,
          0.5786283231438547,
          0.7209059529107769,
          2.849147746436196,
          0,
          0.300486289778645,
          0,
          1.4358494601972862,
          1.3077982737259315,
          0,
          0,
          1.804252695398906,
          0,
          0.5364763169103148,
          0.8178156275510094,
          1.0682697104597052,
          0,
          0.26249419107526406,
          1.7944239314996508,
          1.1041530181287638,
          0,
          0.01754972260600529,
          1.0232500131236841,
          0.3157957124027718,
          0.5279448169339296,
          1.4312448120089567,
          0.7549023464205599,
          1.1981976168471848,
          0,
          0.07718200797108732,
          1.2473532609620113,
          0,
          0.20169441488120543,
          0,
          1.4983633305397666,
          0,
          0.9400805359295001,
          0,
          0.04625146838145189,
          0.12009323637698266,
          0,
          0,
          0.6534852852490058,
          0.7712495300991125,
          0.3064130112898542,
          0,
          0,
          0.541371738474554,
          0.04205494092484874,
          0,
          1.2821523046060308,
          0,
          0.8345533619108247,
          0.6544577635959223,
          0.7192440228364243,
          0.7047781459815242,
          0,
          0,
          1.5053351180918746,
          0,
          1.6929037477297189,
          1.5314495381169964,
          0.353594903139118,
          0.18097308687833358,
          0.5624249462481473,
          0.9879710268811597,
          0,
          1.868724355381786,
          0.12365659840817966,
          1.2273552308878204,
          1.1322963171544094,
          0,
          0,
          0.37646204167803343,
          0.45061124525210783,
          2.664232836899577,
          1.5537921400748411,
          0.43232424245547973,
          0.6512590830617486,
          0.11779687520749027,
          0.5457354013769242,
          2.832238237897261,
          0.6261799506612649,
          0.7673634397608646,
          0,
          0.7340540048488368,
          0.6856626590313258,
          0,
          0.481313043952168,
          0.26146664250168294,
          0.16611265014175502,
          0,
          1.5617573170793562,
          0.2927026960457002,
          0,
          0.6580852923357663,
          1.2068721831580433,
          0.9765432446424661,
          0.21478284034207507,
          0.9837067588468861,
          0.7310698683719641,
          0.3022495417070221,
          0.5228939619769326,
          1.8599460556767342,
          0,
          0,
          0.7846632018531928,
          1.1622489279676094,
          0.5373073030922149,
          1.42841766320933,
          0,
          0,
          2.2309660710742616,
          0,
          1.1867036124239978,
          0.07956637652847909,
          1.915704810828751,
          0.23040998207772456,
          0.083674848297289,
          0.6477585309849221,
          0.021539736883917637,
          0.9126933552845579,
          0.38502561878236274,
          0.01769285236506868,
          0,
          0.8724277552467452,
          0.32446219893898154,
          0,
          1.5053083802581149,
          1.7701767910851196,
          1.2601954865130829,
          2.884036781025716,
          0.1896072436985271,
          1.7549287031196457,
          0.9524713356995317,
          0.9924794841098917,
          0,
          0.5073388870977001,
          1.656692106812193,
          0.7643213335955559,
          4.342520894554742,
          0.19553114851098996,
          0,
          1.6638453211428321,
          2.41985127264528,
          0.7172743075578071,
          0,
          0.06829452188770035,
          2.085132426445025,
          0.4763297184116605,
          0.8520557816130817,
          0.7156667072210093,
          0.3016369243443042,
          0.14237888083057393,
          0.9298002589718576,
          1.6196468685863845,
          0.11779609927285672,
          0.3065415363657894,
          0.8214329675221645,
          1.8620083981976296,
          0.9061565155666984,
          0,
          0,
          0,
          0.8413678479850262,
          0.0338351325438333,
          0.04567065008335913,
          1.752112710458306,
          0.8332429126512513,
          0,
          0.9687315861101746,
          0.6253745153170753,
          0,
          1.283128311914581,
          1.8327459847328065,
          1.7115936643600067,
          0.06837774968997112,
          0.47035171274138965,
          0.8233503257734912,
          0.7900575506932241,
          0.6668364652768463,
          0.47996901159096417,
          2.8138807386192335,
          2.504572898498474,
          2.3895964362140485,
          0,
          0,
          0.5299104334707947,
          0,
          0.4515120088288924,
          0,
          5.919766460123572,
          0.5594173977693373,
          1.5044872670338476,
          0.9088543559660953,
          1.5986511157251817,
          0,
          0,
          0.9024072003026455,
          0.2125022135636594,
          0.7105998008952612,
          1.5167982815121455,
          0.27404225148738626,
          1.6091624584633712,
          0.5467968118430195,
          0,
          0.6571677598450654,
          0.2206355198641481,
          3.1500552251730527,
          0.2114597962153144,
          1.7998225878481091,
          1.2871515485211171,
          0.292021088039774,
          0.04942024874086148,
          0.7757327762037177,
          1.4041659972253915,
          0.20644145148752902,
          0,
          0.5051838148721559,
          0.23633366158496283,
          0.019763984109318455,
          0.6670402644126822,
          0.8044457940698433,
          0.08675895474746964,
          0.22111245088568166,
          0.2176351893602939,
          1.8362708278346265,
          0,
          0.36317951376200175,
          0.27571927011795616,
          0.7132023853633354,
          0,
          1.8780891070288515,
          0,
          1.8883148347665006,
          1.308066900369302,
          0.44304401370694846,
          0.498114535548557,
          0,
          0.9635933398484688,
          0.28870336302282595,
          0.23492554361632834,
          0.9370570516772823,
          0.9200318752822071,
          2.088119173253649,
          0.5360954588280191,
          0.8448648609702512,
          0.38145549178326177,
          0,
          0,
          2.7966761399733793,
          0.6139328913261277,
          0.6811172591209015,
          0,
          0.6073880762223214,
          0,
          3.039611557856925,
          0.6040568648258875,
          0.4508879161599231,
          0.09391165366239451,
          0,
          0.415708204719613,
          1.8844867663239782,
          0.6247554956311008,
          0.6160468889024721,
          0.9493928069865819,
          0.8451483040800707,
          0.6127048479240838,
          0.9750412996779168,
          0,
          0,
          0.9028539360343165,
          0,
          0.8816688408319291,
          2.556923065737436,
          0,
          1.675093004818551,
          0.4425962638560188,
          0.8905222722508974,
          0.08710704798728564,
          0,
          1.8485160912993508,
          0.13985436246981153,
          0,
          0,
          0.1777761487175087,
          0.3385773111182089,
          0.1734886434956875,
          1.7587691893722006,
          0,
          1.5555541661293466,
          0,
          0,
          0.8941664399470908,
          0,
          2.951081167138698,
          0.17389527014543704,
          1.7491923715188256,
          0.9626524096426441,
          1.2686245346074876,
          0,
          1.3705274778122432,
          0.9018659226994388,
          2.6439413464970256,
          0.24191577562582378,
          0.9753135689137007,
          0.07032709587899377,
          0.0835130061054643,
          1.5579406058912812,
          0,
          0.6802736786106454,
          0.5480598352294487,
          0.3991508734740141,
          0.9730530103999223,
          0.734242559440259,
          0,
          0.7088164662147818,
          0.1167100438166585,
          0.43664323571514674,
          1.7421407630682395,
          1.4245980093421124,
          0,
          0,
          0,
          0.7183078574748075,
          1.1475937804239873,
          2.4009622015496186,
          0,
          2.23095009621033,
          0.637099188096912,
          0,
          2.2929850208331404,
          0,
          0.35843720131916357,
          0.8660086881670581,
          0.2706570794910519,
          0,
          0.9474902984337856,
          0,
          0,
          0.44470925095982217,
          0.8760463365121122,
          0.24251647427805434,
          0.004359017798882592,
          0.04260986607631034,
          1.8227485318924945,
          0,
          0.4969011358434846,
          1.4484293742892662,
          1.4712381724424604,
          1.281126167124389,
          0.41446166335221934,
          0.25921485315793014,
          0,
          1.4448772762865834,
          0.14598626973482376,
          2.0883110200269317,
          0.013801102293433454,
          0.10761063422831296,
          0,
          2.5647533660602746,
          0.778834733173836,
          0.25875306475377136,
          2.7862267319650593,
          3.2920275902217413,
          0,
          0.49412623490850827,
          0,
          2.2818456126442057,
          0.7653463722598846,
          0.9390784300160667,
          0,
          3.136669270337882,
          1.6337854153221483,
          0,
          1.570917624855649,
          0,
          1.6962171778347166,
          1.194164451676687,
          1.1408538003199353,
          0.5792380447129288,
          1.8515518099977406,
          5.7619327373423355,
          0.2830061192935631,
          1.3895270735183511,
          0.7082512201346471,
          0,
          2.492206162328949,
          0,
          0.13912964241379688,
          0.7969582828414457,
          0.3074748500640324,
          0.6817314325876308,
          1.0633336711155112,
          2.805136182400183,
          2.3711385019166453,
          0.7735575257425136,
          0,
          0.8729805995113898,
          0.6576395424880349,
          0,
          0,
          0.24323606220450866,
          2.8843790331176304,
          1.3708019333030919,
          0.04415403716584965,
          0.22133744708551406,
          0.15556599152833228,
          1.9483049290433272,
          0.47320285997201705,
          1.7306554669714722,
          1.0068654920527218,
          2.6699102280978053,
          1.129595123552396,
          0,
          0.42800994943166115,
          0,
          0,
          0.3278083370659972,
          0.9878048457266808,
          1.6886059440747803,
          1.372690959577894,
          0.4974909794562441,
          0,
          3.4318059899378817,
          0,
          0.2892721939611984,
          0,
          1.9934464453246514,
          0.9700896681394245,
          0.4107398455053972,
          1.3688171978861743,
          2.0142568487444596,
          0.01772872314183327,
          0,
          0,
          0.9410525991358624,
          0,
          0.3016044846371958,
          0,
          0.08953364582461187,
          0,
          7.939609499460688,
          0.5741325671710945,
          0,
          0,
          0,
          2.636749838466543,
          2.0105639063534992,
          0.1746535170322009,
          1.2317496065469953,
          0,
          0,
          3.1824585259804525,
          0.7715202256601698,
          3.920120246840243,
          1.8014028602614331,
          0.8001688086483534,
          3.29001263245945,
          0.719986762342935,
          1.8791950105482673,
          0.03708375758476545,
          0,
          0.24502145123683494,
          0.8991253471611995,
          1.4830966650745754,
          0.800487162672637,
          0.12939467032901752,
          1.8358133771139875,
          1.6023856382383532,
          0.9952861239395071,
          4.1625910447366765,
          0.13539200474096336,
          1.3911194469929085,
          0,
          3.96287415948936,
          1.747152743464484,
          2.3901671156279924,
          3.502691152025346,
          0.4473849515507923,
          1.305866110257206,
          0.14237709762718476,
          1.53607696169799,
          1.8483559343079805,
          0,
          0.6361069093217839,
          1.8210683619604098,
          1.6812680680062255,
          1.4841588107977401,
          4.532742052035187,
          0.16238418228845974,
          0.09069138226872764,
          3.794013473698219,
          1.017528192736577,
          1.8349959469862616,
          0.45531042200864036,
          0.8273784804113857,
          0,
          1.167310781815551,
          2.251206145332515,
          0.06587598006400286,
          0,
          0.17401586316167217,
          2.5719425251609223,
          1.4517357585693262,
          0.8362631042197421,
          1.2763093595503052,
          0.8602247481031989,
          0.26292564416059805,
          0.6680381732156844,
          0.9079188210995327,
          0.42692892186475406,
          2.2825266045234995,
          1.860783748936228,
          2.917947357225455,
          0.012501962171564407,
          0,
          1.1954990513083934,
          0.23627646473593966,
          0.19073783765425167,
          2.0242206732931827,
          0.2977312049126142,
          0.9839791821276785,
          0.7942948766196207,
          0.4209701376038312,
          0,
          0.9865580649925514,
          2.6840670161058426,
          2.5119427390574236,
          1.8548586485285792,
          0.2183915356360735,
          0,
          1.0400064170230778,
          0.9133003810498396,
          0.9862032943854318,
          2.05381462951622,
          1.4965627774622665,
          1.4280379751271506,
          0,
          0.18301263820339198,
          1.2340163081543223,
          0,
          1.3886577911591047,
          0.6969647003943655,
          1.2695432337324701,
          1.8291557692454319,
          0.9932292682524275,
          1.7997335827925587,
          0.03194275445605954,
          1.785340265431069,
          0.48905939403215326,
          2.6325477822760277,
          1.1880788436815193,
          2.0090556975577316,
          0.29295972929140357,
          0.43904266250272495,
          1.2234427509317365,
          1.9638001175949087,
          1.3692350419284216,
          0.1470875459763903,
          0,
          1.5885310401581032,
          0.7402889695591859,
          4.045894616796056,
          1.615383829662471,
          1.3890881056525421,
          1.6043592251213763,
          0.6193202294674502,
          1.8728691844268262,
          0.1836670796026394,
          0.27633531823629887,
          2.1113653221698905,
          2.8150418017499788,
          1.7938647493931845,
          0,
          0.24031758446183338,
          1.028187476363314,
          0.43305578346482154,
          0.3293466382691107,
          0.2165209105020195,
          2.4295620425315247,
          1.7083161461553575,
          1.52767719546415,
          0.524470879324092,
          1.9095503608973605,
          0.24555137110444392,
          0.7418619119500938,
          3.0068262716857848,
          0.6927869037215826,
          3.457088250111936,
          1.362542925874064,
          0.05367002200873938,
          1.1984414301282453,
          2.128885532702959,
          2.5630576911214824,
          2.5149229051175253,
          1.017100947192219,
          0,
          3.608040469737291,
          0.6857062446454076,
          0.0004704278573869347,
          1.9604192785977868,
          1.2939652592320119,
          4.434407706188054,
          0.36257827212691884,
          2.1034209321619715,
          1.8418818246246513,
          0.64212598541288,
          3.4570108026613693,
          0.5216251949371792,
          0.4009244720200945,
          1.3355528033475987,
          1.210080207372042,
          1.7078174399575645,
          1.1229201008638738,
          1.1912975964441757,
          3.3069852731059672,
          1.5694765913649211,
          3.257551957560696,
          0.504425706865196,
          0.4943595060180437,
          0.9228458134257509,
          1.9711383828987425,
          0.9109333479147319,
          1.6909226691807793,
          0.690685930218019,
          0.2615746376230712,
          1.106242399493376,
          1.4841818557683701,
          2.618818932770833,
          1.9106754714548835,
          0.6121635887857186,
          0.613850850761986,
          0.6840334330472833,
          2.772471263692063,
          1.1533175564461198,
          1.6292375099156668,
          1.1879629458577137,
          0.10414991883776814,
          0.4287902390812228,
          0.4048105599375391,
          0.9660232220254823,
          0.16927832004247856,
          1.903653002798097,
          0.5472090724038459,
          4.402233673120239,
          2.8720538845888988,
          4.594347023360057,
          0.27653234609403077,
          0.7578851513865479,
          1.3702497441433283,
          1.552315693460089,
          0.45497356209602213,
          0.8487741150353634,
          0.3770321219148328,
          0.9127710572087688,
          1.3184844127649051,
          0.4901384977682026,
          0.37496372345158724,
          0.9375224777909148,
          1.174386400666577,
          1.7966603981753426,
          1.3266172854939313,
          1.8364735867171382,
          0.9282736956166515,
          2.5509467063197953,
          4.9105735560689405,
          3.7798031740096265,
          3.7873241383946956,
          1.0566316848280028,
          2.6872433977674524,
          2.5506387082089472,
          3.450014932067401,
          0.2612907195431421,
          0.4486009218317345,
          1.9653365306421,
          0.5094541027796534,
          2.4489396668960355,
          2.12045006556382,
          0.32094552706945967,
          0.8795527049503787,
          1.7560252031788055,
          0.808969699020892,
          2.1947318926563844,
          1.808845716070226,
          0.9579584280008753,
          1.1183129133587584,
          0.3824228307646753,
          0.10076815045192955,
          0,
          0.9621421258985929,
          1.9773724622162934,
          0.9784603489616659,
          0.20773809013472855,
          1.5474829999363147,
          0,
          0.6672560932118319,
          1.42888370804039,
          0,
          0.8306163005286858,
          2.6781261676266688,
          0.7908888697751674,
          0.6779659237418414,
          2.881033913469051,
          0,
          0,
          0.854548612358196,
          0,
          0,
          0,
          0.47610443773522493,
          3.0076681609350775,
          0.2780774523902083,
          0,
          0,
          0,
          0,
          1.455236748875066,
          0.9821906844547579,
          0.8213664481974126,
          1.9466342612019056,
          0,
          0.9691298333847689,
          0.9378626038825925,
          0.6205424007982445,
          0.3729746979353049,
          1.4769671290941664,
          0.6137523590638143,
          0.04321941145150987,
          4.900676755124701,
          1.78559877438632,
          1.6542444512517824,
          0,
          0,
          0.9437974413619993,
          4.914224318274593,
          0.9289285421776166,
          1.0377530158482198,
          0.49229656460447646,
          0,
          2.222183775772999,
          0,
          0.1066499218937309,
          0.55050178191402,
          0,
          0,
          1.2008683153041644,
          0.9747979674913645,
          0.39175503137910694,
          0.11523158194345506,
          0.45885008025672513,
          0.5974414008758084,
          0.348596086975671,
          0,
          0.057697109530603696,
          0.6184542799210427,
          0,
          0.7740704411600416,
          0.13144364173995093,
          0.13771706329933264,
          0.985708634556769,
          1.8725223397781823,
          1.590844781873023,
          0.12748032011120836,
          0.3011656604729399,
          0.3980294599179035,
          1.8233701980461292,
          0,
          0,
          0,
          2.776811577426849,
          0,
          0.4844666730333145,
          0,
          0,
          0.2372354502566998,
          0,
          0.6118692599191083,
          1.8498016303157778,
          0.6092740230315026,
          0.34215739071020823,
          0.8517904142869976,
          0,
          0.45686908620668065,
          0.4961351060022695,
          0,
          1.1922609895654857,
          0.3969693224765025,
          1.1933037947761913,
          0,
          0,
          12.690571036079714,
          0,
          0.5038258932647185,
          0.6107807314895695,
          1.3991014243606816,
          0.8973992792517962,
          0.829474147687665,
          1.2757758138662898,
          2.474833867881828,
          3.8008563248781795,
          1.7187139018260422,
          0,
          1.4558848568857963,
          0.254354828516836,
          0,
          0.35189679730926304,
          0.13189433267851103,
          0,
          1.2018215456143784,
          0.4346299848055909,
          1.783748989393258,
          0,
          0.2671224760060926,
          1.3546113392397345,
          1.3567423853172191,
          0.6661378805367943,
          0,
          0.26499814024397006,
          0,
          1.5230665523510192,
          0.9046018558674731,
          0,
          0,
          0.42544794108654993,
          0,
          0.8282775239823204,
          1.8670707536190505,
          0.46088060467712166,
          0,
          0.47297018583433936,
          1.129673506746978,
          1.712773361652304,
          1.6769672193069296,
          7.7795405822253265,
          0.420472066577795,
          0,
          0.18131287489121883,
          0.8495012910425904,
          1.720025887199397,
          0,
          0.3275086198018662,
          0.28685478379937934,
          0.6692732272331675,
          0.06797471217852902,
          2.4511053464355,
          4.8408693623983154,
          2.384828932538908,
          0.5216774883338009,
          0.11758296583659389,
          2.8075101554896262,
          0.35998373669649175,
          0,
          1.2543574253981096,
          1.3821759249831505,
          0.9594135680435115,
          1.7228591267522644,
          1.5754705829763198,
          0.3768789470646805,
          0.7436140044751244,
          0,
          0.4989937291052584,
          0,
          0,
          1.773791476693434,
          0.5011771202908841,
          0.8894539967491879,
          1.0863779481357674,
          0,
          1.8080138397976886,
          0.8788067880412685,
          0,
          1.484928505534259,
          1.4890414903731477,
          0.5364119240615288,
          0,
          0.9425706440662674,
          0.46958340428280076,
          0.7447014906324828,
          0,
          1.367780422823948,
          0.2508756671444443,
          0.38093749195231563,
          0,
          1.740037727156203,
          0.4941990703986715,
          0.15732963885331186,
          0,
          0.6460486751194149,
          0.09232687610270884,
          0.060896250458952306,
          0.27663497610127374,
          0.6113564364514944,
          3.4616989239978624,
          0.6969970524980262,
          0.5906881302156295,
          1.1271273816214094,
          0.3248374377771023,
          0,
          0,
          0.12754754269709478,
          1.7164125304386273,
          1.1451410445166263,
          0,
          0.27309288751073857,
          0.23187992612146613,
          0,
          0,
          1.38619000138199,
          0.8450620112244539,
          1.4187072620525436,
          0.6726739556346941,
          0.675358788079483,
          0.6553574398259967,
          1.2320528832348014,
          0.9156616775229413,
          1.6789383742272672,
          0.39447045704304506,
          1.67098714816533,
          1.916510647013742,
          0.4609099948659653,
          6.998837388876438,
          0,
          0.23292179702660665,
          0.8678472870637205,
          2.1094173242008707,
          0,
          0.1531753457785654,
          0.43337444730445174,
          0.07147889289308329,
          0.024423610347662272,
          0.9416028089470838,
          0.8957817488303265,
          0,
          0.4509489595673558,
          1.393449440263132,
          0.7572015594410458,
          0.5742732525359934,
          2.604362424391806,
          0.7083687364721497,
          2.1650664301663616,
          0.20953636860241787,
          1.3710963308306006,
          0.9229122039818521,
          0.4107599791008857,
          1.9704496730057812,
          0,
          3.585147122477763,
          4.064028493444925,
          0,
          0,
          0.9804512655122468,
          0,
          2.4100185433121672,
          0.3674648690247584,
          0.6072481669110619,
          0.15475395629035393,
          2.8789692716072093,
          0.23854542162655945,
          0,
          1.011822681090103,
          0.7964517748090694,
          1.7704659298073484,
          0,
          2.269278788280337,
          1.2094616423603586,
          1.367730261021673,
          3.633552593276617,
          1.8564434981519617,
          5.874133061372078,
          0,
          2.038158070962213,
          0.8830299127529947,
          0.07780564366910825,
          0.8418971474983763,
          0.8838322384487425,
          0.6740095918540464,
          0,
          3.742851364585154,
          0.9985091816368833,
          0.29821354202191774,
          0,
          0,
          0,
          0.552846519253427,
          3.7176311480195214,
          2.958930858983374,
          1.7155963764360145,
          0.3882719634983727,
          5.198697192853512,
          0.13315416566595362,
          0.03933726307898644,
          0.17059741819398067,
          1.1071055151262124,
          0.8290675860092132,
          0.764364154976525,
          1.1878967434465975,
          3.6616234684767064,
          0.2595843014745811,
          0.27067345134530785,
          0.4884173890218775,
          1.7903601236402258,
          1.851195186206261,
          5.289212958495601,
          2.1245872687895466,
          0,
          0.19417409505021277,
          1.938353158521823,
          0.3584718377089269,
          0.06000171004445232,
          0.9647432200679495,
          0.25447419206792943,
          3.6227474231352725,
          2.9578166129657486,
          0,
          0,
          0,
          1.7506768619580582,
          0.32673184969050273,
          1.825254635309729,
          0,
          0.17635010291550168,
          0.3884507639705177,
          0,
          0,
          0,
          0.2825381822379245,
          3.919244328590405,
          0,
          0,
          1.9836225665515437,
          0.41304155764127237,
          0.3649534238582852
         ],
         "xaxis": "x",
         "y": [
          0.015097043026629509,
          0.2864034302181274,
          0,
          0,
          0,
          1.928815003105708,
          0.10945676546479344,
          1.8561337586958395,
          0,
          0.3137902586187017,
          0.6359393775559411,
          0.16171896966126587,
          0.3092454434988329,
          0,
          0.056647465072501624,
          0.5626865397409883,
          0.7387080817672026,
          0.6736640404510787,
          0,
          2.26205383812057,
          0.18982522217137232,
          0,
          0.8716467692703453,
          0.4797805434453182,
          0,
          0,
          0.6581497313847191,
          1.1591471144486476,
          0.9251677329851966,
          0,
          0.34938120613959067,
          2.6887328793444114,
          0.13520958731968657,
          0.40434136258608633,
          0,
          0,
          0.33444277514389875,
          0.07043603385774722,
          0.7255808939074311,
          0.3548128012884566,
          0.22430160553524747,
          0,
          0.11123892795060797,
          0,
          0.3155551616376573,
          1.6297680984465885,
          0.4755966791253824,
          0,
          0,
          0,
          1.1945482727848216,
          0,
          0,
          1.5161953639076302,
          0,
          0,
          1.3201699170648886,
          0,
          0,
          0.4740414631428752,
          1.7175514315144493,
          1.0123280746952956,
          0.26475039061523076,
          1.3657503930963513,
          0.4150506019653455,
          0,
          0.17957599464024987,
          0,
          1.5071142104666055,
          0.3534611468830675,
          0.4373606412718025,
          1.1441346552137936,
          0,
          0.2102707684392191,
          0,
          0.7984637416832119,
          0.21891764937025393,
          0.07332941775182344,
          1.814773221151854,
          0.3880359123820516,
          0.7194880548053967,
          0.6431588302305977,
          0.9270375124677812,
          1.3008893969792783,
          0,
          2.649960362846202,
          1.22302989586526,
          1.3134216008510988,
          0.31842319572677047,
          0,
          0.8548943953393984,
          1.0281734901802402,
          0.9462490845954474,
          0,
          1.5905282019938731,
          0.47391059159531557,
          0.35332609222610734,
          1.5356953402059579,
          2.0149007845882547,
          0.19745141613999984,
          0.23674869412986888,
          0.9461730638885251,
          0,
          0,
          1.118142750999323,
          0.8416918734150476,
          0,
          0.886720896550312,
          0,
          0,
          0.8646370427338458,
          1.3116537811866809,
          1.9922172562334821,
          0.627882691325947,
          0,
          0,
          0.9189066411404603,
          0.10661129764201671,
          0.7384011247216058,
          0.14346047762955483,
          0.3675105760490104,
          0.4641061026900073,
          0.5240310646663273,
          0,
          0.8359017119736875,
          0.4302744130777669,
          0.35051186767231557,
          0,
          0,
          1.2308935209811467,
          0,
          2.0018344451612418,
          0,
          0,
          0.34273029701531665,
          0.49312169453416543,
          0,
          0.8505237161684784,
          0,
          0.7597372576016536,
          0.9468082734266633,
          0.45303428840322735,
          0.4950526742733441,
          0,
          0.266836710821163,
          0.27794263681437426,
          0.2309246686987092,
          0.16139438066147738,
          0.32125305300089513,
          1.1889180248095568,
          1.1518046971912117,
          0,
          0,
          0.038724457719601646,
          1.2183369352340412,
          0.8512449312071748,
          0.1289610161126582,
          0,
          2.468674458757596,
          1.3219383225383283,
          0,
          0.1620964056349692,
          1.9683138486535698,
          0,
          0.23932244121886126,
          0,
          0.41321656721595157,
          4.615713886101622,
          0.8777754101557362,
          0.02541546357409541,
          0.6425959709716988,
          0,
          2.1138341693558815,
          1.8763044046134723,
          2.4914553777996504,
          0.6306364328948278,
          0,
          0.1013479797050042,
          0,
          0,
          1.155795365698915,
          0.9999319994358827,
          0,
          0.07130193202994584,
          0,
          1.5436659944979088,
          1.5133707455452377,
          0.5355461308883397,
          0,
          4.694283466719456,
          0.370744044699604,
          0.7078635572718536,
          0.8016109680072757,
          2.600835929501451,
          0.7554420834411784,
          0.5680061323374779,
          2.378588184357385,
          0.15401347265509624,
          0.3993027021535017,
          0.9124410460473257,
          0,
          0,
          0.8554444368804057,
          0,
          0.21643912971869994,
          0.26879915898346196,
          0.049994053951346484,
          0.8860102677084496,
          0,
          2.512122437621235,
          1.868320836560709,
          0,
          0,
          1.8272997302579193,
          1.6604998718063597,
          1.0279152827682465,
          0.3595693129012164,
          0,
          0.6358876495064703,
          0.16860817792348914,
          0.8712731489984771,
          1.200052315304593,
          1.8563178233821565,
          1.6575642808754987,
          0,
          0,
          0,
          1.2271145534356078,
          0.7100862510399171,
          0.031267850111168394,
          0,
          0.22099334917715252,
          0.6746184415741434,
          0.1992569932563124,
          0.802757492132834,
          0,
          0.24246431966645798,
          0.7708791167078193,
          0.14592693443852323,
          0.1533740990664968,
          0.6831984892312599,
          1.7714502641501064,
          0.8907310363667152,
          0,
          0.4081230963518905,
          0,
          0,
          0.4958075281045067,
          0.6435140216713949,
          0.9632866275288313,
          0,
          0,
          0,
          0.9078694903028859,
          0.9996636126657893,
          0,
          0.16021467469024198,
          0.6113741994743226,
          0.799046181129152,
          0.9777548965878717,
          0,
          0.6888311699099215,
          0.7156712255867506,
          0,
          0,
          0.6810640054953584,
          0,
          0,
          0,
          0,
          0,
          0.560202226545555,
          0.8990197536747092,
          0,
          1.9644091989779147,
          0,
          0.5579463270529049,
          1.25237266184811,
          2.588375248086862,
          0.15516906791990315,
          0.10048535626284294,
          0.544386454996249,
          0.5955009727683209,
          0,
          1.767091706046951,
          0.42463969625364806,
          0,
          1.131118919411521,
          0.7451666044759109,
          0.7736667945418505,
          0.547325261494502,
          0,
          0,
          0.8107409014357274,
          0,
          0.44404911827419036,
          0.22881774792885234,
          0,
          0.498380067361615,
          0,
          0,
          0,
          0,
          0,
          1.5494713055403824,
          0,
          0.05386499647180665,
          0,
          0,
          0.7652410696301022,
          1.0935517751123078,
          0,
          0.14333313483894317,
          0.25283126846603265,
          0.5548198152886397,
          0,
          0,
          0.7882093660761127,
          1.7383154131729366,
          0.8008488768403379,
          0.46944703406278787,
          1.0462450300272776,
          0,
          0,
          0,
          0.25648118430139044,
          1.9667904706388322,
          0,
          0.3397627257008362,
          0.2090919129509955,
          0.43099462050753345,
          0,
          1.256880126800459,
          0.7338147701108685,
          0,
          0.8920674628611208,
          1.4704518972174576,
          0.3815332818686201,
          0.41829297861487924,
          0.37975406358255703,
          0.581422171365778,
          0,
          0.14302363856879852,
          0,
          0.007732023443926761,
          0,
          0.6536790181476028,
          2.4327712528722607,
          0,
          0.8083371276822365,
          1.6343734490223252,
          0.10400895786324948,
          0.8080933260901894,
          0.5217556631569173,
          0,
          0.40132556978301837,
          0.3346651977612157,
          0,
          0,
          1.7367743464616767,
          0,
          0.37066771825678635,
          0.26638425181390357,
          0.2774742383521267,
          0.43317666809048083,
          0,
          0,
          0,
          0.40795977776406356,
          0.32101076481327706,
          0.39421214710670904,
          1.0318707505103195,
          0,
          0.8008198470592542,
          0.7554719500523266,
          0,
          0,
          0.8222873366210146,
          0.02128729246379435,
          0.5031056232580899,
          0.14986038914614708,
          0.43986401923964324,
          0,
          0.17888915611913114,
          1.2155266466145251,
          1.1998514130640379,
          0.15519583600013553,
          0.5986254346448174,
          0.07311033864597449,
          0.8745799379888736,
          0,
          1.4338970762943108,
          0.6032632532953349,
          1.3506369894383863,
          0.6641512987408288,
          0.37511142910047746,
          0,
          2.5052845686689147,
          0,
          0.4319979043337975,
          0,
          1.3820883843888292,
          0.5507492037092893,
          0.22158788518306816,
          0.10312476232534085,
          0.2536394453571592,
          0.4223884379599202,
          0,
          0.7192925680119151,
          0.6009146332979807,
          0.5372356304318167,
          1.6784364986837894,
          0.7551174260432202,
          0.9245741524883111,
          1.1513119556230125,
          1.4780101584334484,
          0,
          0.3782689383603274,
          0.3159622800931192,
          0,
          0.3075344264545621,
          0.4530979793176596,
          0.045228329087867,
          0,
          0,
          0,
          0.9188925163345323,
          0,
          0.5757428620121626,
          0,
          0.5151537946988787,
          0,
          0,
          0,
          0,
          0,
          0,
          0.4482418586939446,
          2.4779842283007647,
          2.728744366158149,
          0,
          0,
          0.2017710814454402,
          0,
          1.1261409319906404,
          0.573288957071259,
          0.44329836391030264,
          0.9729494660285385,
          0,
          0,
          1.4306447723265092,
          0.6994925314455928,
          0.11401801912684251,
          0.9641752005431201,
          0.13746413172983063,
          0.948833179559831,
          1.4759548318417683,
          0.5937324156162476,
          0,
          0,
          1.180639939463731,
          1.2712849519324252,
          0.9253414996409812,
          0,
          0.3877808248881176,
          0.8700473532041109,
          0.0771417578899507,
          0.8356641557217743,
          0.990407842189544,
          0,
          0.9562473580317316,
          0.6543491413509821,
          0.08436453948793599,
          1.8472640891136574,
          0,
          0.5654914772969376,
          0.9384144041256257,
          0,
          0.605912677987313,
          0.8734469925693893,
          0.5716343376726556,
          0,
          0.5325629408999225,
          0,
          0,
          2.4198509278115936,
          0.547563620379167,
          0,
          0.9308824440206185,
          0,
          0,
          0.9486882844652449,
          0,
          0,
          0.24280133118807146,
          0.951772640121431,
          0.45010460458846613,
          2.928061216378883,
          0,
          1.5239203221306583,
          0,
          0.23244549610051068,
          0.418694711246669,
          0.48446425900742696,
          0,
          0.43981007580610076,
          0,
          0,
          0.5036583248970774,
          0,
          0,
          0,
          0.9670013282568323,
          0.5901285966898625,
          0.5194922364578375,
          0.8482170300129875,
          0.5540008269000893,
          0.3816024980899404,
          0.0459926688507869,
          0,
          0.09758670080875209,
          0,
          0.6638418757082029,
          0.7785857506017119,
          0.9958930972570763,
          0,
          0.8229645978574861,
          1.739787822974019,
          0,
          0.9991683576624534,
          1.1209127383730517,
          0,
          0,
          0.7377145184227758,
          0.9723375485261117,
          0.5514106140073143,
          0,
          0.7237730050491563,
          0,
          0,
          0,
          0,
          0.7741827400308778,
          0,
          0.4535903110552054,
          4.7852273088928206,
          0.7071594611462588,
          0.7795901481924202,
          1.285377373066038,
          1.6077131514445309,
          0,
          0.5251057620715393,
          1.95702575387309,
          1.0537509736022352,
          0.8799329882181619,
          0,
          0.11767937771980652,
          0.2877345375523368,
          0.5423647091361561,
          0,
          0,
          3.542941021058283,
          1.7009723217637096,
          0.5182059321610515,
          0,
          0,
          0,
          1.4324553259811381,
          0,
          0,
          1.5183812489870916,
          0.6361278072375575,
          0.5893178923240325,
          0.5471289643551708,
          0,
          2.126798168408675,
          0,
          1.984896565565207,
          0,
          2.5444486527298853,
          0.4354976676692196,
          1.2513482016706954,
          0.7403105558018693,
          0.7245234230685755,
          0.3687986631325888,
          0,
          0,
          0,
          0,
          0.8316696693125504,
          0.6399726676171833,
          0.7411291009456071,
          0,
          0.2161315746294432,
          0.9158237153420367,
          1.1820911062979533,
          0.42236812988354,
          0,
          0,
          0.9016788278541651,
          0,
          0.35913579034376764,
          0.31211022883363493,
          0.7997734593968271,
          0.9582333823711127,
          0.9551255257786624,
          0.3246062126069402,
          1.5229142933118782,
          1.9544627286598582,
          0,
          0.155550279615146,
          0,
          2.4449921433876254,
          0.9727294083216785,
          0.06340586244348212,
          0.7362355746714776,
          0.6538605591796115,
          0,
          0.2826856584336025,
          0,
          0,
          0,
          0,
          0.44868580489640497,
          1.0591727306180942,
          0.5299712381106543,
          0.8485612480913595,
          0,
          0,
          0.23341534264386177,
          0.6085357268515291,
          0.13556408196466196,
          0.4701286293377729,
          0.3757857846707324,
          0.37986117755671267,
          0.3989261503963403,
          0,
          0.1818249481177634,
          0,
          0,
          0,
          0.1945157165995084,
          0.7784717637045984,
          0.2809775523113375,
          0.26949326585277367,
          0.1866085147540565,
          0,
          0.6601940845971368,
          0.23544583014140197,
          0.20726333941256214,
          0,
          0.6651733465990844,
          0.35995000947474143,
          0,
          0.10951873178636373,
          0.46637259043909096,
          0.8532714327344337,
          0.07802270936529221,
          0.3006089680350561,
          1.2464090458863244,
          0.9358028675601278,
          0,
          0,
          0.3207223478188834,
          0,
          0,
          0.9228110822422916,
          0,
          0,
          0,
          0,
          0,
          0.1716245052181372,
          1.8228060377018278,
          0.8092622493483025,
          0.4207402520425392,
          0,
          0,
          0,
          0,
          0,
          0.5525796019039441,
          0.017950334362187848,
          0,
          0,
          0.6627913511780559,
          0.041344530574278116,
          0.23979748906084075,
          0.6546942671553602,
          0,
          0.42058931907746,
          0.18850303459809792,
          0.8419501137477593,
          0,
          1.7504743688900437,
          0.5828995699980557,
          0.4961556006213548,
          0,
          0.899508641020352,
          0.3608488432587552,
          0.5346712680701512,
          1.5224729648143442,
          0.3079228371881362,
          0.04194677413172676,
          0.44335761423218956,
          0,
          0.8008793666327302,
          0,
          0.8623193191310525,
          0.49107410646270155,
          0,
          0.9850574171412134,
          0.7792126208835527,
          0,
          0.1542131705583859,
          0,
          6.12071630008237,
          0.034353072589691225,
          0,
          0.5058702309946911,
          2.5461616912152123,
          0,
          0.6898448305005166,
          0,
          0.3848006429855504,
          0,
          0.304742654020448,
          1.579022729152135,
          0,
          0,
          0.8894946756313811,
          0,
          0.36083920788411983,
          0,
          1.8226748042804024,
          0.005420428561481283,
          0.5643585021868474,
          0.5948315649577097,
          0,
          0.20243319484669886,
          0,
          0,
          0.21510292770547268,
          0,
          0.004184406884981562,
          0.4091923290531765,
          0,
          0,
          0,
          0,
          0.786544810625811,
          0.4645638212984796,
          0.2897891125982808,
          0,
          0.09884825288871324,
          0,
          0,
          0.39534201621539,
          0,
          0.19572464914571952,
          0,
          1.9245013660031318,
          0,
          0,
          1.6015873070431939,
          0.02111718535424867,
          0.4429693389393512,
          0.31676291254631506,
          2.1438351740884176,
          0,
          0.6979984639337019,
          0,
          0,
          0.6372310338527185,
          0.4937614314228761,
          0.06418589065468594,
          0,
          0,
          0.32442897488586087,
          0,
          0,
          0,
          0,
          0,
          0.5864918260808988,
          0.13903796620808306,
          0.7361282018715529,
          0.7403386587485817,
          0.41901838150858584,
          0.08395283032393763,
          0,
          0.5659232013299558,
          0,
          0,
          0,
          0,
          0.6379809226543444,
          0,
          0.5556789114712264,
          0.6190652613123858,
          0.08974247205792374,
          0.43143963462791257,
          0,
          0,
          0,
          0.3015373324419047,
          0,
          0,
          0,
          0.39438852633979116,
          0,
          0.04483006566096104,
          0,
          2.03342549532582,
          0.7399651966681796,
          0.6099729794368466,
          0,
          0,
          0.8866595188689528,
          0.06954419545210566,
          0,
          0.32166197886595527,
          0,
          0,
          0.48887970529054803,
          0.4239079446994781,
          0,
          0,
          0.8700926012867596,
          0.4017313630008198,
          0.5439340404149452,
          0.1989701952684495,
          0,
          0,
          0,
          0,
          0.8947237526950008,
          0.13673322489464745,
          0,
          0,
          2.0837830961822936,
          1.800029209567866,
          0.9828233910020711,
          0.9907910963473594,
          0,
          0,
          0.4086054565383469,
          0.5185209041673304,
          0,
          0.010628435146213366,
          0.5928327683552244,
          1.8091805325478378,
          0.2212189901555799,
          0,
          0.6875464763932897,
          0,
          0,
          0.599029323372107,
          0.6399502497856577,
          0,
          1.7003927503399512,
          0.6846994474579394,
          1.3555708259989496,
          0.16565826108716153,
          0.43717046358590017,
          0.9562711243718416,
          0.6948520913355968,
          0,
          0.8593386379276671,
          0.5661663827538608,
          4.926672128947797,
          1.7745123243387597,
          0.15784405777356436,
          2.4563149983449497,
          0,
          0.6938594671592908,
          0.7013113836742391,
          0,
          0.5083417683354877,
          0,
          0.6445471534100631,
          0.17680940386835087,
          0,
          0.17579388427197373,
          1.8890329444253973,
          0,
          0,
          0,
          0,
          0.08377483359050031,
          0.9217017745834098,
          0.9910328935879427,
          1.348539340184838,
          0.3922092208658794,
          1.7137802898879195,
          0.15985479328819263,
          0,
          0,
          0,
          0.8625059836378275,
          0,
          0,
          0,
          0.7231068501739775,
          0.49319342601246685,
          0.7598333597377168,
          0.8156612043351328,
          0,
          0.6567166447909589,
          0,
          0,
          1.4955286753000296,
          1.8525842671353938,
          0.8572163195560415,
          0.12136850467052629,
          0.38319369714317875,
          0,
          0.9890634149090932,
          0,
          0.6351040074430923,
          0.6501772197508935,
          0.009185232382923347,
          0.35671956480263023,
          0.286672994288128,
          0,
          0.9511945818636367,
          2.7516242939284616,
          0,
          0.6553934828677088,
          0.08918047404111618,
          0.2434170324483842,
          0.00827898045732478,
          0,
          0,
          0.8300591188471512,
          1.3747907940949218,
          0.1984173540108809,
          0.5859319160979691,
          0.9005284937456136,
          1.1925357558194078,
          0.4867945320948768,
          1.4702737090757343,
          1.6217359639076798,
          0.5878605109945721,
          1.3442668470810168,
          0.9730277087913266,
          0.6122925357161799,
          0.30307167508243926,
          0.2788806708922351,
          0.27141603057104513,
          0,
          0,
          0,
          0,
          2.256791825720243,
          0,
          0,
          0,
          0,
          0,
          0.7605318701967274,
          0.19493610775998738,
          0,
          0.4710022306178596,
          0,
          0,
          0.4589389912228282,
          0.5751698669794127,
          0,
          0.9629983609461437,
          0.0965145853824465,
          1.6674468423633995,
          0,
          0,
          0,
          0,
          0,
          0,
          2.929934963925731,
          0.8695564510077315,
          0,
          0.6995213150015657,
          0.6112749716139234,
          1.788611298532761,
          0,
          5.87653235325873,
          2.0530171631953325,
          0,
          1.9127621904410446,
          0.20896263525364933,
          0,
          2.516666842150322,
          0,
          2.8216579144631977,
          0.7248162656892714,
          0,
          0,
          0.34426245430077596,
          0,
          0.15428866989018553,
          0.5678000234119621,
          0.3718778756791308,
          0,
          0,
          0.5148559475135833,
          0,
          0.4568145232065084,
          0,
          0,
          0.5172152677281865,
          0,
          0.5190170272206192,
          0,
          0,
          0,
          0,
          0.7129302001940991,
          0,
          0,
          0,
          3.945954588834329,
          0,
          0,
          0,
          0.5638724458467586,
          0,
          0,
          0,
          0,
          1.0777704310614744,
          0,
          1.9824568998542582,
          0.4344523303909993,
          1.3753700784008724,
          0.50513399889847,
          2.3487213136923413,
          0,
          0.7088176148079215,
          1.9999810337994877,
          0,
          0,
          0.5769395864729889,
          0,
          0.2199542533550507,
          0.8507712412411433,
          0.3015664061100054,
          1.2679318581322785,
          1.5953125664714805,
          1.8039134514738895,
          0.9014598684680847,
          0.09572049842304475,
          1.83114246345911,
          2.396001455414773,
          0,
          1.8677225102787722,
          0.5155767901191435,
          0.007466419785976619,
          0,
          0.7416850747169246,
          0,
          0.7535655244700035,
          3.2726058557393936,
          0,
          0.30478210439086295,
          0.8045664217328448,
          0,
          0,
          0.4064372234458786,
          0.026626483108564747,
          1.1627994901179008,
          0,
          0,
          0,
          1.547580437628687,
          0,
          0.8154305753581399,
          0,
          0.4035760627155166,
          0,
          0,
          0.3050354742976009,
          0.9430174322725386,
          0.4644087382474147,
          0,
          0.6853048610456877,
          0.2776210266190444,
          0.5732380132259366,
          0.3169934983288888,
          0.48280598366552396,
          1.117795242140406,
          0,
          0.9195243509026951,
          0,
          0,
          0.7583077635383272,
          0,
          0.0007297824399095099,
          0.6943308048867509,
          3.8026649164224198,
          0.12841095315924855,
          1.424329774326631,
          0.37533426008183113,
          0.43477044212109095,
          0.9115772742892009,
          3.711967205304378,
          0.9854675674699535,
          0.22852439529584045,
          0.7887174237726011,
          1.3240792471985372,
          0,
          0.9893068018642727,
          0.699197341127916,
          0,
          0.352384125749194,
          0.9557865942943687,
          0,
          0,
          0.8963966302346972,
          0.878027750069727,
          0,
          0,
          0.7219861049085498,
          0.27856087597918744,
          0,
          1.9473290872853217,
          0,
          0.9504386561312747,
          0,
          0,
          0,
          0,
          0.23503569059437457,
          0.413142786829525,
          0.03246775904928356,
          0.026969339890522415,
          0.05043007612808781,
          0.6934885326141164,
          0.27682605578916464,
          0.9965886212864699,
          0.15067716555528488,
          0.20483215924017706,
          0.09836538119770466,
          0,
          0.21064853706694564,
          0,
          1.639961809583178,
          2.5487628481546585,
          0.46929245784867235,
          0.7651201109998047,
          0,
          0.9770234926416225,
          0,
          0,
          1.31337559193698,
          2.2630880418107426,
          0,
          0,
          0,
          0.2169927177262606,
          0,
          0.3046363263589379,
          0.6219129219767137,
          0.9603100575728114,
          0.45130524024404606,
          1.5105463485081176,
          0,
          2.6091274802422975,
          0,
          0,
          0.6490418191670935,
          0,
          0,
          1.722414539367299,
          1.8015440207275977,
          0,
          0,
          0.2681212697293709,
          0.6149321249028235,
          0.05312236425184902,
          4.831173483608241,
          0,
          0,
          3.550880444454266,
          0.6391010882133441,
          0,
          0.31422477503166935,
          0,
          0,
          0,
          0.43918240399848707,
          0.9115080648497775,
          1.0317919008410352,
          1.2535507424771852,
          1.204893338121346,
          0.11735529969309955,
          0,
          0.9524212047487108,
          0.9119357525974432,
          0,
          1.1487263900764286,
          0,
          0.6724632334974989,
          0.26887240271241875,
          0,
          0,
          0.8028685162464057,
          0.011424479562188727,
          0,
          0.49264567454076735,
          6.063304708651707,
          0.8730673887781039,
          3.913542491798,
          2.1129799209879465,
          0,
          0,
          0.10332675969994964,
          1.1938794707529992,
          0,
          0,
          0,
          0.15955490041333797,
          0,
          0.4168257956766801,
          0,
          0,
          2.11270218458628,
          0.8907791653707214,
          0,
          0,
          0,
          0,
          0.7102598318147604,
          1.5640139610321644,
          1.2533285298644534,
          0,
          0.6822111625860684,
          0.08721950452290617,
          0,
          0.9719688838445921,
          0,
          1.6247469576791334,
          0.7676418677825976,
          1.2107752574001216,
          0,
          0,
          0.557700401728329,
          0.3856075437615374,
          0,
          0.4642257104955566,
          3.6536044993068586,
          0,
          0.15653218397834512,
          0.7639226411615617,
          0.32008734934368044,
          0.18591279672260907,
          1.5313512942974958,
          2.9797693724586045,
          0.5125260988588778,
          0.9842709257085467,
          0.8232491083276395,
          0.4582087392369387,
          0.8199908838189729,
          0.35481401286076786,
          0,
          0,
          0.38856695621508974,
          0,
          0.6122278046656111,
          0,
          2.7656226759064015,
          0.015863619891324565,
          0.6419446738986245,
          0,
          4.496860835019968,
          0,
          0,
          0.017765017922093396,
          2.6798397061037766,
          0.5267279606503479,
          0.9720733257486758,
          2.3839226194534877,
          0.6696941475564002,
          0,
          0,
          0.5784241143471504,
          0,
          0.6500542591323158,
          0,
          1.563271708160268,
          1.1435670394972095,
          0.5970115951986947,
          0,
          1.6918217191940452,
          0.7055373166702292,
          0.9950084075589873,
          1.4354334213841502,
          0.39659231567723086,
          0,
          0.6444877131854847,
          0.6503141778970407,
          0,
          0,
          2.5741746935250376,
          1.2525892073052542,
          5.752595597709084,
          0.6169615467972334,
          0,
          0.281645554427577,
          1.3408446486868302,
          1.386209626169184,
          0,
          0
         ],
         "yaxis": "y"
        }
       ],
       "layout": {
        "legend": {
         "tracegroupgap": 0
        },
        "margin": {
         "t": 60
        },
        "template": {
         "data": {
          "bar": [
           {
            "error_x": {
             "color": "#f2f5fa"
            },
            "error_y": {
             "color": "#f2f5fa"
            },
            "marker": {
             "line": {
              "color": "rgb(17,17,17)",
              "width": 0.5
             },
             "pattern": {
              "fillmode": "overlay",
              "size": 10,
              "solidity": 0.2
             }
            },
            "type": "bar"
           }
          ],
          "barpolar": [
           {
            "marker": {
             "line": {
              "color": "rgb(17,17,17)",
              "width": 0.5
             },
             "pattern": {
              "fillmode": "overlay",
              "size": 10,
              "solidity": 0.2
             }
            },
            "type": "barpolar"
           }
          ],
          "carpet": [
           {
            "aaxis": {
             "endlinecolor": "#A2B1C6",
             "gridcolor": "#506784",
             "linecolor": "#506784",
             "minorgridcolor": "#506784",
             "startlinecolor": "#A2B1C6"
            },
            "baxis": {
             "endlinecolor": "#A2B1C6",
             "gridcolor": "#506784",
             "linecolor": "#506784",
             "minorgridcolor": "#506784",
             "startlinecolor": "#A2B1C6"
            },
            "type": "carpet"
           }
          ],
          "choropleth": [
           {
            "colorbar": {
             "outlinewidth": 0,
             "ticks": ""
            },
            "type": "choropleth"
           }
          ],
          "contour": [
           {
            "colorbar": {
             "outlinewidth": 0,
             "ticks": ""
            },
            "colorscale": [
             [
              0,
              "#0d0887"
             ],
             [
              0.1111111111111111,
              "#46039f"
             ],
             [
              0.2222222222222222,
              "#7201a8"
             ],
             [
              0.3333333333333333,
              "#9c179e"
             ],
             [
              0.4444444444444444,
              "#bd3786"
             ],
             [
              0.5555555555555556,
              "#d8576b"
             ],
             [
              0.6666666666666666,
              "#ed7953"
             ],
             [
              0.7777777777777778,
              "#fb9f3a"
             ],
             [
              0.8888888888888888,
              "#fdca26"
             ],
             [
              1,
              "#f0f921"
             ]
            ],
            "type": "contour"
           }
          ],
          "contourcarpet": [
           {
            "colorbar": {
             "outlinewidth": 0,
             "ticks": ""
            },
            "type": "contourcarpet"
           }
          ],
          "heatmap": [
           {
            "colorbar": {
             "outlinewidth": 0,
             "ticks": ""
            },
            "colorscale": [
             [
              0,
              "#0d0887"
             ],
             [
              0.1111111111111111,
              "#46039f"
             ],
             [
              0.2222222222222222,
              "#7201a8"
             ],
             [
              0.3333333333333333,
              "#9c179e"
             ],
             [
              0.4444444444444444,
              "#bd3786"
             ],
             [
              0.5555555555555556,
              "#d8576b"
             ],
             [
              0.6666666666666666,
              "#ed7953"
             ],
             [
              0.7777777777777778,
              "#fb9f3a"
             ],
             [
              0.8888888888888888,
              "#fdca26"
             ],
             [
              1,
              "#f0f921"
             ]
            ],
            "type": "heatmap"
           }
          ],
          "heatmapgl": [
           {
            "colorbar": {
             "outlinewidth": 0,
             "ticks": ""
            },
            "colorscale": [
             [
              0,
              "#0d0887"
             ],
             [
              0.1111111111111111,
              "#46039f"
             ],
             [
              0.2222222222222222,
              "#7201a8"
             ],
             [
              0.3333333333333333,
              "#9c179e"
             ],
             [
              0.4444444444444444,
              "#bd3786"
             ],
             [
              0.5555555555555556,
              "#d8576b"
             ],
             [
              0.6666666666666666,
              "#ed7953"
             ],
             [
              0.7777777777777778,
              "#fb9f3a"
             ],
             [
              0.8888888888888888,
              "#fdca26"
             ],
             [
              1,
              "#f0f921"
             ]
            ],
            "type": "heatmapgl"
           }
          ],
          "histogram": [
           {
            "marker": {
             "pattern": {
              "fillmode": "overlay",
              "size": 10,
              "solidity": 0.2
             }
            },
            "type": "histogram"
           }
          ],
          "histogram2d": [
           {
            "colorbar": {
             "outlinewidth": 0,
             "ticks": ""
            },
            "colorscale": [
             [
              0,
              "#0d0887"
             ],
             [
              0.1111111111111111,
              "#46039f"
             ],
             [
              0.2222222222222222,
              "#7201a8"
             ],
             [
              0.3333333333333333,
              "#9c179e"
             ],
             [
              0.4444444444444444,
              "#bd3786"
             ],
             [
              0.5555555555555556,
              "#d8576b"
             ],
             [
              0.6666666666666666,
              "#ed7953"
             ],
             [
              0.7777777777777778,
              "#fb9f3a"
             ],
             [
              0.8888888888888888,
              "#fdca26"
             ],
             [
              1,
              "#f0f921"
             ]
            ],
            "type": "histogram2d"
           }
          ],
          "histogram2dcontour": [
           {
            "colorbar": {
             "outlinewidth": 0,
             "ticks": ""
            },
            "colorscale": [
             [
              0,
              "#0d0887"
             ],
             [
              0.1111111111111111,
              "#46039f"
             ],
             [
              0.2222222222222222,
              "#7201a8"
             ],
             [
              0.3333333333333333,
              "#9c179e"
             ],
             [
              0.4444444444444444,
              "#bd3786"
             ],
             [
              0.5555555555555556,
              "#d8576b"
             ],
             [
              0.6666666666666666,
              "#ed7953"
             ],
             [
              0.7777777777777778,
              "#fb9f3a"
             ],
             [
              0.8888888888888888,
              "#fdca26"
             ],
             [
              1,
              "#f0f921"
             ]
            ],
            "type": "histogram2dcontour"
           }
          ],
          "mesh3d": [
           {
            "colorbar": {
             "outlinewidth": 0,
             "ticks": ""
            },
            "type": "mesh3d"
           }
          ],
          "parcoords": [
           {
            "line": {
             "colorbar": {
              "outlinewidth": 0,
              "ticks": ""
             }
            },
            "type": "parcoords"
           }
          ],
          "pie": [
           {
            "automargin": true,
            "type": "pie"
           }
          ],
          "scatter": [
           {
            "marker": {
             "line": {
              "color": "#283442"
             }
            },
            "type": "scatter"
           }
          ],
          "scatter3d": [
           {
            "line": {
             "colorbar": {
              "outlinewidth": 0,
              "ticks": ""
             }
            },
            "marker": {
             "colorbar": {
              "outlinewidth": 0,
              "ticks": ""
             }
            },
            "type": "scatter3d"
           }
          ],
          "scattercarpet": [
           {
            "marker": {
             "colorbar": {
              "outlinewidth": 0,
              "ticks": ""
             }
            },
            "type": "scattercarpet"
           }
          ],
          "scattergeo": [
           {
            "marker": {
             "colorbar": {
              "outlinewidth": 0,
              "ticks": ""
             }
            },
            "type": "scattergeo"
           }
          ],
          "scattergl": [
           {
            "marker": {
             "line": {
              "color": "#283442"
             }
            },
            "type": "scattergl"
           }
          ],
          "scattermapbox": [
           {
            "marker": {
             "colorbar": {
              "outlinewidth": 0,
              "ticks": ""
             }
            },
            "type": "scattermapbox"
           }
          ],
          "scatterpolar": [
           {
            "marker": {
             "colorbar": {
              "outlinewidth": 0,
              "ticks": ""
             }
            },
            "type": "scatterpolar"
           }
          ],
          "scatterpolargl": [
           {
            "marker": {
             "colorbar": {
              "outlinewidth": 0,
              "ticks": ""
             }
            },
            "type": "scatterpolargl"
           }
          ],
          "scatterternary": [
           {
            "marker": {
             "colorbar": {
              "outlinewidth": 0,
              "ticks": ""
             }
            },
            "type": "scatterternary"
           }
          ],
          "surface": [
           {
            "colorbar": {
             "outlinewidth": 0,
             "ticks": ""
            },
            "colorscale": [
             [
              0,
              "#0d0887"
             ],
             [
              0.1111111111111111,
              "#46039f"
             ],
             [
              0.2222222222222222,
              "#7201a8"
             ],
             [
              0.3333333333333333,
              "#9c179e"
             ],
             [
              0.4444444444444444,
              "#bd3786"
             ],
             [
              0.5555555555555556,
              "#d8576b"
             ],
             [
              0.6666666666666666,
              "#ed7953"
             ],
             [
              0.7777777777777778,
              "#fb9f3a"
             ],
             [
              0.8888888888888888,
              "#fdca26"
             ],
             [
              1,
              "#f0f921"
             ]
            ],
            "type": "surface"
           }
          ],
          "table": [
           {
            "cells": {
             "fill": {
              "color": "#506784"
             },
             "line": {
              "color": "rgb(17,17,17)"
             }
            },
            "header": {
             "fill": {
              "color": "#2a3f5f"
             },
             "line": {
              "color": "rgb(17,17,17)"
             }
            },
            "type": "table"
           }
          ]
         },
         "layout": {
          "annotationdefaults": {
           "arrowcolor": "#f2f5fa",
           "arrowhead": 0,
           "arrowwidth": 1
          },
          "autotypenumbers": "strict",
          "coloraxis": {
           "colorbar": {
            "outlinewidth": 0,
            "ticks": ""
           }
          },
          "colorscale": {
           "diverging": [
            [
             0,
             "#8e0152"
            ],
            [
             0.1,
             "#c51b7d"
            ],
            [
             0.2,
             "#de77ae"
            ],
            [
             0.3,
             "#f1b6da"
            ],
            [
             0.4,
             "#fde0ef"
            ],
            [
             0.5,
             "#f7f7f7"
            ],
            [
             0.6,
             "#e6f5d0"
            ],
            [
             0.7,
             "#b8e186"
            ],
            [
             0.8,
             "#7fbc41"
            ],
            [
             0.9,
             "#4d9221"
            ],
            [
             1,
             "#276419"
            ]
           ],
           "sequential": [
            [
             0,
             "#0d0887"
            ],
            [
             0.1111111111111111,
             "#46039f"
            ],
            [
             0.2222222222222222,
             "#7201a8"
            ],
            [
             0.3333333333333333,
             "#9c179e"
            ],
            [
             0.4444444444444444,
             "#bd3786"
            ],
            [
             0.5555555555555556,
             "#d8576b"
            ],
            [
             0.6666666666666666,
             "#ed7953"
            ],
            [
             0.7777777777777778,
             "#fb9f3a"
            ],
            [
             0.8888888888888888,
             "#fdca26"
            ],
            [
             1,
             "#f0f921"
            ]
           ],
           "sequentialminus": [
            [
             0,
             "#0d0887"
            ],
            [
             0.1111111111111111,
             "#46039f"
            ],
            [
             0.2222222222222222,
             "#7201a8"
            ],
            [
             0.3333333333333333,
             "#9c179e"
            ],
            [
             0.4444444444444444,
             "#bd3786"
            ],
            [
             0.5555555555555556,
             "#d8576b"
            ],
            [
             0.6666666666666666,
             "#ed7953"
            ],
            [
             0.7777777777777778,
             "#fb9f3a"
            ],
            [
             0.8888888888888888,
             "#fdca26"
            ],
            [
             1,
             "#f0f921"
            ]
           ]
          },
          "colorway": [
           "#636efa",
           "#EF553B",
           "#00cc96",
           "#ab63fa",
           "#FFA15A",
           "#19d3f3",
           "#FF6692",
           "#B6E880",
           "#FF97FF",
           "#FECB52"
          ],
          "font": {
           "color": "#f2f5fa"
          },
          "geo": {
           "bgcolor": "rgb(17,17,17)",
           "lakecolor": "rgb(17,17,17)",
           "landcolor": "rgb(17,17,17)",
           "showlakes": true,
           "showland": true,
           "subunitcolor": "#506784"
          },
          "hoverlabel": {
           "align": "left"
          },
          "hovermode": "closest",
          "mapbox": {
           "style": "dark"
          },
          "paper_bgcolor": "rgb(17,17,17)",
          "plot_bgcolor": "rgb(17,17,17)",
          "polar": {
           "angularaxis": {
            "gridcolor": "#506784",
            "linecolor": "#506784",
            "ticks": ""
           },
           "bgcolor": "rgb(17,17,17)",
           "radialaxis": {
            "gridcolor": "#506784",
            "linecolor": "#506784",
            "ticks": ""
           }
          },
          "scene": {
           "xaxis": {
            "backgroundcolor": "rgb(17,17,17)",
            "gridcolor": "#506784",
            "gridwidth": 2,
            "linecolor": "#506784",
            "showbackground": true,
            "ticks": "",
            "zerolinecolor": "#C8D4E3"
           },
           "yaxis": {
            "backgroundcolor": "rgb(17,17,17)",
            "gridcolor": "#506784",
            "gridwidth": 2,
            "linecolor": "#506784",
            "showbackground": true,
            "ticks": "",
            "zerolinecolor": "#C8D4E3"
           },
           "zaxis": {
            "backgroundcolor": "rgb(17,17,17)",
            "gridcolor": "#506784",
            "gridwidth": 2,
            "linecolor": "#506784",
            "showbackground": true,
            "ticks": "",
            "zerolinecolor": "#C8D4E3"
           }
          },
          "shapedefaults": {
           "line": {
            "color": "#f2f5fa"
           }
          },
          "sliderdefaults": {
           "bgcolor": "#C8D4E3",
           "bordercolor": "rgb(17,17,17)",
           "borderwidth": 1,
           "tickwidth": 0
          },
          "ternary": {
           "aaxis": {
            "gridcolor": "#506784",
            "linecolor": "#506784",
            "ticks": ""
           },
           "baxis": {
            "gridcolor": "#506784",
            "linecolor": "#506784",
            "ticks": ""
           },
           "bgcolor": "rgb(17,17,17)",
           "caxis": {
            "gridcolor": "#506784",
            "linecolor": "#506784",
            "ticks": ""
           }
          },
          "title": {
           "x": 0.05
          },
          "updatemenudefaults": {
           "bgcolor": "#506784",
           "borderwidth": 0
          },
          "xaxis": {
           "automargin": true,
           "gridcolor": "#283442",
           "linecolor": "#506784",
           "ticks": "",
           "title": {
            "standoff": 15
           },
           "zerolinecolor": "#283442",
           "zerolinewidth": 2
          },
          "yaxis": {
           "automargin": true,
           "gridcolor": "#283442",
           "linecolor": "#506784",
           "ticks": "",
           "title": {
            "standoff": 15
           },
           "zerolinecolor": "#283442",
           "zerolinewidth": 2
          }
         }
        },
        "xaxis": {
         "anchor": "y",
         "domain": [
          0,
          1
         ],
         "title": {
          "text": "gols_1"
         }
        },
        "yaxis": {
         "anchor": "x",
         "domain": [
          0,
          1
         ],
         "title": {
          "text": "gols_2"
         }
        }
       }
      },
      "text/html": [
       "<div>                            <div id=\"b8f468b7-f26d-4f20-9af3-01a0c66a10f7\" class=\"plotly-graph-div\" style=\"height:525px; width:100%;\"></div>            <script type=\"text/javascript\">                require([\"plotly\"], function(Plotly) {                    window.PLOTLYENV=window.PLOTLYENV || {};                                    if (document.getElementById(\"b8f468b7-f26d-4f20-9af3-01a0c66a10f7\")) {                    Plotly.newPlot(                        \"b8f468b7-f26d-4f20-9af3-01a0c66a10f7\",                        [{\"hovertemplate\":\"gols_1=%{x}\\u003cbr\\u003egols_2=%{y}\\u003cextra\\u003e\\u003c\\u002fextra\\u003e\",\"legendgroup\":\"\",\"marker\":{\"color\":\"#636efa\",\"symbol\":\"circle\"},\"mode\":\"markers\",\"name\":\"\",\"showlegend\":false,\"x\":[0.16079495877784056,0.7371847793485451,0.37257794351754114,0.5872790704741901,0.3399491176062661,0.601316215696078,0.5053019287969792,1.5179882257571429,0.0,2.3775979007879084,0.3605736592641987,3.74617791846246,2.9879712910578293,2.0869039735020247,2.1712197189799087,0.9757817527095483,0.8612106328302649,0.0,0.8367878612992978,1.280919998132757,0.8189471946178475,0.0,0.5326068846128953,1.9874852701635333,0.8222087980697838,0.8159256090860305,0.12850050806182667,0.0,0.7466881467237908,1.7947248441317945,0.0,0.0,2.7702154458003525,1.2980808522687404,0.9474512834606416,0.3442932142077859,0.0,0.0,3.8913342888253797,0.8982581115889334,0.0,1.5394789420223292,0.12368894143127318,1.1315079142517035,0.0,0.527081975291222,0.3304782484902644,0.0,0.3861587495107561,0.0,0.05136247707048813,0.793651971240515,0.0,0.8586436870517978,3.381524162138166,0.2903339926228,0.4135113204080436,0.0,0.0,1.0723695531755073,4.847509813637173,0.0,0.12489496493327079,0.0,3.7318066800340515,0.7803920847422836,1.0606101203809608,0.6518600878559434,0.0,1.6265596890122667,0.0,0.7343416054685022,0.34883356050630754,0.2171358208569829,1.1458271847015735,0.5289111042662425,0.5024592907187204,0.6702001557219666,2.3330622836843724,1.8357472192884883,0.0,0.0,0.0,0.7924267587564974,1.5465931494364586,0.0,0.6293757656782502,0.0,0.0,0.0,0.518076694528902,0.07108577250836168,0.5465183830664788,0.17888976808601886,0.6475975984602318,0.8539436649952513,5.3009915604068585,0.6431467855047643,0.0,1.749825611130738,0.25032009171961045,1.8758096883103652,0.7968391276343529,1.5076509908413218,0.9453123523827787,0.326274556321014,0.5816984328780558,0.0,0.8520123598652979,0.4400475337125712,0.0,0.35338485778117246,0.5007297863793096,0.4621140710703616,0.7390337902847294,0.3008915563547978,0.043671357175670944,0.0,0.0,0.36341317352067926,0.9997854763996228,0.02557891079696273,0.0,0.30946491550919153,0.0,0.0,2.5051154336815546,0.8001414984005867,0.536167668901991,0.0,0.0,0.7376516798803515,0.13590354303131813,0.0,0.0,0.7228212635328455,0.9747003799504174,1.1369341618320232,0.6294030662442176,0.6332194298347846,0.7931557859241847,0.7133425576580723,0.9943787957443404,0.5274005366102972,0.0,0.4283814344245209,0.0,0.7636093238230175,2.922775748080141,1.7070047080820083,0.0,0.0,0.0,0.0,0.4007252866982668,1.8071664804561511,0.0,1.965500482419397,0.5054422683239083,0.6648008219837107,0.7203793052996174,0.8220832032633303,1.4887590508802575,0.35406568219941403,1.3928216299320462,0.41650374277153723,0.0,0.32844288931870946,0.5091159211105871,0.3454851685670548,1.7907405767995417,0.0,0.9096492340701947,0.0,0.0,0.01803050866538025,0.0,0.7188273824857181,3.857244149862649,0.0,0.9090346169639716,0.6291887144623087,0.3712240376093714,1.821325820919578,1.2455826085984258,0.8989823580928815,0.8090724526726403,1.4392372900835075,0.07925447092798887,0.5612101627354881,0.22842641549128584,0.9019606962218648,0.0,0.0821330660347972,0.0,1.5416503799162498,0.0,0.0,1.2825758576331951,0.0008264437466748431,0.0,0.004586918176234578,0.6781892976395185,1.0382659089993465,0.5820285240313234,2.492962624532169,1.7010223050973474,0.9273889182673722,0.0,0.0,0.5762397880593438,0.0,0.0,2.2583588236087304,0.8000999419084256,0.9542067878769102,0.0,0.9362439343431862,0.0,1.3790227802945654,0.0,0.8820070051664065,1.3593341770656162,0.0,1.9911082839503282,0.8988465712132073,0.2194427393108762,0.0,0.9527698265368221,1.574955744057963,0.25872341538865884,0.9536814562891158,0.3611362337956038,0.0,0.9972763192487315,0.0,0.8862834677874716,0.9485723526189676,0.0,0.0,0.0,0.0,0.9671771627370547,0.0,0.76588883038246,1.93724012023227,0.6136985871960857,0.2518180705824946,0.0,0.0,0.5131695341786995,1.2289592082837275,0.41112547082190765,0.7812501537994885,0.47721660511162256,0.0,0.4965298951960071,0.18661555447417577,0.0,0.0,0.0,0.0,0.32305233162700364,0.7824077719765734,0.8094954810145213,0.23908378985681422,0.49742131817843305,0.0,0.95542236783474,0.45364343577550437,0.8656674179820454,0.8998270220031206,0.0,0.07340093216099808,0.0,1.8404735524219655,1.7926710663522893,0.0,0.6656793527902949,0.8605725579229937,0.5786283231438547,0.7209059529107769,2.849147746436196,0.0,0.300486289778645,0.0,1.4358494601972862,1.3077982737259315,0.0,0.0,1.804252695398906,0.0,0.5364763169103148,0.8178156275510094,1.0682697104597052,0.0,0.26249419107526406,1.7944239314996508,1.1041530181287638,0.0,0.01754972260600529,1.0232500131236841,0.3157957124027718,0.5279448169339296,1.4312448120089567,0.7549023464205599,1.1981976168471848,0.0,0.07718200797108732,1.2473532609620113,0.0,0.20169441488120543,0.0,1.4983633305397666,0.0,0.9400805359295001,0.0,0.04625146838145189,0.12009323637698266,0.0,0.0,0.6534852852490058,0.7712495300991125,0.3064130112898542,0.0,0.0,0.541371738474554,0.04205494092484874,0.0,1.2821523046060308,0.0,0.8345533619108247,0.6544577635959223,0.7192440228364243,0.7047781459815242,0.0,0.0,1.5053351180918746,0.0,1.6929037477297189,1.5314495381169964,0.353594903139118,0.18097308687833358,0.5624249462481473,0.9879710268811597,0.0,1.868724355381786,0.12365659840817966,1.2273552308878204,1.1322963171544094,0.0,0.0,0.37646204167803343,0.45061124525210783,2.664232836899577,1.5537921400748411,0.43232424245547973,0.6512590830617486,0.11779687520749027,0.5457354013769242,2.832238237897261,0.6261799506612649,0.7673634397608646,0.0,0.7340540048488368,0.6856626590313258,0.0,0.481313043952168,0.26146664250168294,0.16611265014175502,0.0,1.5617573170793562,0.2927026960457002,0.0,0.6580852923357663,1.2068721831580433,0.9765432446424661,0.21478284034207507,0.9837067588468861,0.7310698683719641,0.3022495417070221,0.5228939619769326,1.8599460556767342,0.0,0.0,0.7846632018531928,1.1622489279676094,0.5373073030922149,1.42841766320933,0.0,0.0,2.2309660710742616,0.0,1.1867036124239978,0.07956637652847909,1.915704810828751,0.23040998207772456,0.083674848297289,0.6477585309849221,0.021539736883917637,0.9126933552845579,0.38502561878236274,0.01769285236506868,0.0,0.8724277552467452,0.32446219893898154,0.0,1.5053083802581149,1.7701767910851196,1.2601954865130829,2.884036781025716,0.1896072436985271,1.7549287031196457,0.9524713356995317,0.9924794841098917,0.0,0.5073388870977001,1.656692106812193,0.7643213335955559,4.342520894554742,0.19553114851098996,0.0,1.6638453211428321,2.41985127264528,0.7172743075578071,0.0,0.06829452188770035,2.085132426445025,0.4763297184116605,0.8520557816130817,0.7156667072210093,0.3016369243443042,0.14237888083057393,0.9298002589718576,1.6196468685863845,0.11779609927285672,0.3065415363657894,0.8214329675221645,1.8620083981976296,0.9061565155666984,0.0,0.0,0.0,0.8413678479850262,0.0338351325438333,0.04567065008335913,1.752112710458306,0.8332429126512513,0.0,0.9687315861101746,0.6253745153170753,0.0,1.283128311914581,1.8327459847328065,1.7115936643600067,0.06837774968997112,0.47035171274138965,0.8233503257734912,0.7900575506932241,0.6668364652768463,0.47996901159096417,2.8138807386192335,2.504572898498474,2.3895964362140485,0.0,0.0,0.5299104334707947,0.0,0.4515120088288924,0.0,5.919766460123572,0.5594173977693373,1.5044872670338476,0.9088543559660953,1.5986511157251817,0.0,0.0,0.9024072003026455,0.2125022135636594,0.7105998008952612,1.5167982815121455,0.27404225148738626,1.6091624584633712,0.5467968118430195,0.0,0.6571677598450654,0.2206355198641481,3.1500552251730527,0.2114597962153144,1.7998225878481091,1.2871515485211171,0.292021088039774,0.04942024874086148,0.7757327762037177,1.4041659972253915,0.20644145148752902,0.0,0.5051838148721559,0.23633366158496283,0.019763984109318455,0.6670402644126822,0.8044457940698433,0.08675895474746964,0.22111245088568166,0.2176351893602939,1.8362708278346265,0.0,0.36317951376200175,0.27571927011795616,0.7132023853633354,0.0,1.8780891070288515,0.0,1.8883148347665006,1.308066900369302,0.44304401370694846,0.498114535548557,0.0,0.9635933398484688,0.28870336302282595,0.23492554361632834,0.9370570516772823,0.9200318752822071,2.088119173253649,0.5360954588280191,0.8448648609702512,0.38145549178326177,0.0,0.0,2.7966761399733793,0.6139328913261277,0.6811172591209015,0.0,0.6073880762223214,0.0,3.039611557856925,0.6040568648258875,0.4508879161599231,0.09391165366239451,0.0,0.415708204719613,1.8844867663239782,0.6247554956311008,0.6160468889024721,0.9493928069865819,0.8451483040800707,0.6127048479240838,0.9750412996779168,0.0,0.0,0.9028539360343165,0.0,0.8816688408319291,2.556923065737436,0.0,1.675093004818551,0.4425962638560188,0.8905222722508974,0.08710704798728564,0.0,1.8485160912993508,0.13985436246981153,0.0,0.0,0.1777761487175087,0.3385773111182089,0.1734886434956875,1.7587691893722006,0.0,1.5555541661293466,0.0,0.0,0.8941664399470908,0.0,2.951081167138698,0.17389527014543704,1.7491923715188256,0.9626524096426441,1.2686245346074876,0.0,1.3705274778122432,0.9018659226994388,2.6439413464970256,0.24191577562582378,0.9753135689137007,0.07032709587899377,0.0835130061054643,1.5579406058912812,0.0,0.6802736786106454,0.5480598352294487,0.3991508734740141,0.9730530103999223,0.734242559440259,0.0,0.7088164662147818,0.1167100438166585,0.43664323571514674,1.7421407630682395,1.4245980093421124,0.0,0.0,0.0,0.7183078574748075,1.1475937804239873,2.4009622015496186,0.0,2.23095009621033,0.637099188096912,0.0,2.2929850208331404,0.0,0.35843720131916357,0.8660086881670581,0.2706570794910519,0.0,0.9474902984337856,0.0,0.0,0.44470925095982217,0.8760463365121122,0.24251647427805434,0.004359017798882592,0.04260986607631034,1.8227485318924945,0.0,0.4969011358434846,1.4484293742892662,1.4712381724424604,1.281126167124389,0.41446166335221934,0.25921485315793014,0.0,1.4448772762865834,0.14598626973482376,2.0883110200269317,0.013801102293433454,0.10761063422831296,0.0,2.5647533660602746,0.778834733173836,0.25875306475377136,2.7862267319650593,3.2920275902217413,0.0,0.49412623490850827,0.0,2.2818456126442057,0.7653463722598846,0.9390784300160667,0.0,3.136669270337882,1.6337854153221483,0.0,1.570917624855649,0.0,1.6962171778347166,1.194164451676687,1.1408538003199353,0.5792380447129288,1.8515518099977406,5.7619327373423355,0.2830061192935631,1.3895270735183511,0.7082512201346471,0.0,2.492206162328949,0.0,0.13912964241379688,0.7969582828414457,0.3074748500640324,0.6817314325876308,1.0633336711155112,2.805136182400183,2.3711385019166453,0.7735575257425136,0.0,0.8729805995113898,0.6576395424880349,0.0,0.0,0.24323606220450866,2.8843790331176304,1.3708019333030919,0.04415403716584965,0.22133744708551406,0.15556599152833228,1.9483049290433272,0.47320285997201705,1.7306554669714722,1.0068654920527218,2.6699102280978053,1.129595123552396,0.0,0.42800994943166115,0.0,0.0,0.3278083370659972,0.9878048457266808,1.6886059440747803,1.372690959577894,0.4974909794562441,0.0,3.4318059899378817,0.0,0.2892721939611984,0.0,1.9934464453246514,0.9700896681394245,0.4107398455053972,1.3688171978861743,2.0142568487444596,0.01772872314183327,0.0,0.0,0.9410525991358624,0.0,0.3016044846371958,0.0,0.08953364582461187,0.0,7.939609499460688,0.5741325671710945,0.0,0.0,0.0,2.636749838466543,2.0105639063534992,0.1746535170322009,1.2317496065469953,0.0,0.0,3.1824585259804525,0.7715202256601698,3.920120246840243,1.8014028602614331,0.8001688086483534,3.29001263245945,0.719986762342935,1.8791950105482673,0.03708375758476545,0.0,0.24502145123683494,0.8991253471611995,1.4830966650745754,0.800487162672637,0.12939467032901752,1.8358133771139875,1.6023856382383532,0.9952861239395071,4.1625910447366765,0.13539200474096336,1.3911194469929085,0.0,3.96287415948936,1.747152743464484,2.3901671156279924,3.502691152025346,0.4473849515507923,1.305866110257206,0.14237709762718476,1.53607696169799,1.8483559343079805,0.0,0.6361069093217839,1.8210683619604098,1.6812680680062255,1.4841588107977401,4.532742052035187,0.16238418228845974,0.09069138226872764,3.794013473698219,1.017528192736577,1.8349959469862616,0.45531042200864036,0.8273784804113857,0.0,1.167310781815551,2.251206145332515,0.06587598006400286,0.0,0.17401586316167217,2.5719425251609223,1.4517357585693262,0.8362631042197421,1.2763093595503052,0.8602247481031989,0.26292564416059805,0.6680381732156844,0.9079188210995327,0.42692892186475406,2.2825266045234995,1.860783748936228,2.917947357225455,0.012501962171564407,0.0,1.1954990513083934,0.23627646473593966,0.19073783765425167,2.0242206732931827,0.2977312049126142,0.9839791821276785,0.7942948766196207,0.4209701376038312,0.0,0.9865580649925514,2.6840670161058426,2.5119427390574236,1.8548586485285792,0.2183915356360735,0.0,1.0400064170230778,0.9133003810498396,0.9862032943854318,2.05381462951622,1.4965627774622665,1.4280379751271506,0.0,0.18301263820339198,1.2340163081543223,0.0,1.3886577911591047,0.6969647003943655,1.2695432337324701,1.8291557692454319,0.9932292682524275,1.7997335827925587,0.03194275445605954,1.785340265431069,0.48905939403215326,2.6325477822760277,1.1880788436815193,2.0090556975577316,0.29295972929140357,0.43904266250272495,1.2234427509317365,1.9638001175949087,1.3692350419284216,0.1470875459763903,0.0,1.5885310401581032,0.7402889695591859,4.045894616796056,1.615383829662471,1.3890881056525421,1.6043592251213763,0.6193202294674502,1.8728691844268262,0.1836670796026394,0.27633531823629887,2.1113653221698905,2.8150418017499788,1.7938647493931845,0.0,0.24031758446183338,1.028187476363314,0.43305578346482154,0.3293466382691107,0.2165209105020195,2.4295620425315247,1.7083161461553575,1.52767719546415,0.524470879324092,1.9095503608973605,0.24555137110444392,0.7418619119500938,3.0068262716857848,0.6927869037215826,3.457088250111936,1.362542925874064,0.05367002200873938,1.1984414301282453,2.128885532702959,2.5630576911214824,2.5149229051175253,1.017100947192219,0.0,3.608040469737291,0.6857062446454076,0.0004704278573869347,1.9604192785977868,1.2939652592320119,4.434407706188054,0.36257827212691884,2.1034209321619715,1.8418818246246513,0.64212598541288,3.4570108026613693,0.5216251949371792,0.4009244720200945,1.3355528033475987,1.210080207372042,1.7078174399575645,1.1229201008638738,1.1912975964441757,3.3069852731059672,1.5694765913649211,3.257551957560696,0.504425706865196,0.4943595060180437,0.9228458134257509,1.9711383828987425,0.9109333479147319,1.6909226691807793,0.690685930218019,0.2615746376230712,1.106242399493376,1.4841818557683701,2.618818932770833,1.9106754714548835,0.6121635887857186,0.613850850761986,0.6840334330472833,2.772471263692063,1.1533175564461198,1.6292375099156668,1.1879629458577137,0.10414991883776814,0.4287902390812228,0.4048105599375391,0.9660232220254823,0.16927832004247856,1.903653002798097,0.5472090724038459,4.402233673120239,2.8720538845888988,4.594347023360057,0.27653234609403077,0.7578851513865479,1.3702497441433283,1.552315693460089,0.45497356209602213,0.8487741150353634,0.3770321219148328,0.9127710572087688,1.3184844127649051,0.4901384977682026,0.37496372345158724,0.9375224777909148,1.174386400666577,1.7966603981753426,1.3266172854939313,1.8364735867171382,0.9282736956166515,2.5509467063197953,4.9105735560689405,3.7798031740096265,3.7873241383946956,1.0566316848280028,2.6872433977674524,2.5506387082089472,3.450014932067401,0.2612907195431421,0.4486009218317345,1.9653365306421,0.5094541027796534,2.4489396668960355,2.12045006556382,0.32094552706945967,0.8795527049503787,1.7560252031788055,0.808969699020892,2.1947318926563844,1.808845716070226,0.9579584280008753,1.1183129133587584,0.3824228307646753,0.10076815045192955,0.0,0.9621421258985929,1.9773724622162934,0.9784603489616659,0.20773809013472855,1.5474829999363147,0.0,0.6672560932118319,1.42888370804039,0.0,0.8306163005286858,2.6781261676266688,0.7908888697751674,0.6779659237418414,2.881033913469051,0.0,0.0,0.854548612358196,0.0,0.0,0.0,0.47610443773522493,3.0076681609350775,0.2780774523902083,0.0,0.0,0.0,0.0,1.455236748875066,0.9821906844547579,0.8213664481974126,1.9466342612019056,0.0,0.9691298333847689,0.9378626038825925,0.6205424007982445,0.3729746979353049,1.4769671290941664,0.6137523590638143,0.04321941145150987,4.900676755124701,1.78559877438632,1.6542444512517824,0.0,0.0,0.9437974413619993,4.914224318274593,0.9289285421776166,1.0377530158482198,0.49229656460447646,0.0,2.222183775772999,0.0,0.1066499218937309,0.55050178191402,0.0,0.0,1.2008683153041644,0.9747979674913645,0.39175503137910694,0.11523158194345506,0.45885008025672513,0.5974414008758084,0.348596086975671,0.0,0.057697109530603696,0.6184542799210427,0.0,0.7740704411600416,0.13144364173995093,0.13771706329933264,0.985708634556769,1.8725223397781823,1.590844781873023,0.12748032011120836,0.3011656604729399,0.3980294599179035,1.8233701980461292,0.0,0.0,0.0,2.776811577426849,0.0,0.4844666730333145,0.0,0.0,0.2372354502566998,0.0,0.6118692599191083,1.8498016303157778,0.6092740230315026,0.34215739071020823,0.8517904142869976,0.0,0.45686908620668065,0.4961351060022695,0.0,1.1922609895654857,0.3969693224765025,1.1933037947761913,0.0,0.0,12.690571036079714,0.0,0.5038258932647185,0.6107807314895695,1.3991014243606816,0.8973992792517962,0.829474147687665,1.2757758138662898,2.474833867881828,3.8008563248781795,1.7187139018260422,0.0,1.4558848568857963,0.254354828516836,0.0,0.35189679730926304,0.13189433267851103,0.0,1.2018215456143784,0.4346299848055909,1.783748989393258,0.0,0.2671224760060926,1.3546113392397345,1.3567423853172191,0.6661378805367943,0.0,0.26499814024397006,0.0,1.5230665523510192,0.9046018558674731,0.0,0.0,0.42544794108654993,0.0,0.8282775239823204,1.8670707536190505,0.46088060467712166,0.0,0.47297018583433936,1.129673506746978,1.712773361652304,1.6769672193069296,7.7795405822253265,0.420472066577795,0.0,0.18131287489121883,0.8495012910425904,1.720025887199397,0.0,0.3275086198018662,0.28685478379937934,0.6692732272331675,0.06797471217852902,2.4511053464355,4.8408693623983154,2.384828932538908,0.5216774883338009,0.11758296583659389,2.8075101554896262,0.35998373669649175,0.0,1.2543574253981096,1.3821759249831505,0.9594135680435115,1.7228591267522644,1.5754705829763198,0.3768789470646805,0.7436140044751244,0.0,0.4989937291052584,0.0,0.0,1.773791476693434,0.5011771202908841,0.8894539967491879,1.0863779481357674,0.0,1.8080138397976886,0.8788067880412685,0.0,1.484928505534259,1.4890414903731477,0.5364119240615288,0.0,0.9425706440662674,0.46958340428280076,0.7447014906324828,0.0,1.367780422823948,0.2508756671444443,0.38093749195231563,0.0,1.740037727156203,0.4941990703986715,0.15732963885331186,0.0,0.6460486751194149,0.09232687610270884,0.060896250458952306,0.27663497610127374,0.6113564364514944,3.4616989239978624,0.6969970524980262,0.5906881302156295,1.1271273816214094,0.3248374377771023,0.0,0.0,0.12754754269709478,1.7164125304386273,1.1451410445166263,0.0,0.27309288751073857,0.23187992612146613,0.0,0.0,1.38619000138199,0.8450620112244539,1.4187072620525436,0.6726739556346941,0.675358788079483,0.6553574398259967,1.2320528832348014,0.9156616775229413,1.6789383742272672,0.39447045704304506,1.67098714816533,1.916510647013742,0.4609099948659653,6.998837388876438,0.0,0.23292179702660665,0.8678472870637205,2.1094173242008707,0.0,0.1531753457785654,0.43337444730445174,0.07147889289308329,0.024423610347662272,0.9416028089470838,0.8957817488303265,0.0,0.4509489595673558,1.393449440263132,0.7572015594410458,0.5742732525359934,2.604362424391806,0.7083687364721497,2.1650664301663616,0.20953636860241787,1.3710963308306006,0.9229122039818521,0.4107599791008857,1.9704496730057812,0.0,3.585147122477763,4.064028493444925,0.0,0.0,0.9804512655122468,0.0,2.4100185433121672,0.3674648690247584,0.6072481669110619,0.15475395629035393,2.8789692716072093,0.23854542162655945,0.0,1.011822681090103,0.7964517748090694,1.7704659298073484,0.0,2.269278788280337,1.2094616423603586,1.367730261021673,3.633552593276617,1.8564434981519617,5.874133061372078,0.0,2.038158070962213,0.8830299127529947,0.07780564366910825,0.8418971474983763,0.8838322384487425,0.6740095918540464,0.0,3.742851364585154,0.9985091816368833,0.29821354202191774,0.0,0.0,0.0,0.552846519253427,3.7176311480195214,2.958930858983374,1.7155963764360145,0.3882719634983727,5.198697192853512,0.13315416566595362,0.03933726307898644,0.17059741819398067,1.1071055151262124,0.8290675860092132,0.764364154976525,1.1878967434465975,3.6616234684767064,0.2595843014745811,0.27067345134530785,0.4884173890218775,1.7903601236402258,1.851195186206261,5.289212958495601,2.1245872687895466,0.0,0.19417409505021277,1.938353158521823,0.3584718377089269,0.06000171004445232,0.9647432200679495,0.25447419206792943,3.6227474231352725,2.9578166129657486,0.0,0.0,0.0,1.7506768619580582,0.32673184969050273,1.825254635309729,0.0,0.17635010291550168,0.3884507639705177,0.0,0.0,0.0,0.2825381822379245,3.919244328590405,0.0,0.0,1.9836225665515437,0.41304155764127237,0.3649534238582852],\"xaxis\":\"x\",\"y\":[0.015097043026629509,0.2864034302181274,0.0,0.0,0.0,1.928815003105708,0.10945676546479344,1.8561337586958395,0.0,0.3137902586187017,0.6359393775559411,0.16171896966126587,0.3092454434988329,0.0,0.056647465072501624,0.5626865397409883,0.7387080817672026,0.6736640404510787,0.0,2.26205383812057,0.18982522217137232,0.0,0.8716467692703453,0.4797805434453182,0.0,0.0,0.6581497313847191,1.1591471144486476,0.9251677329851966,0.0,0.34938120613959067,2.6887328793444114,0.13520958731968657,0.40434136258608633,0.0,0.0,0.33444277514389875,0.07043603385774722,0.7255808939074311,0.3548128012884566,0.22430160553524747,0.0,0.11123892795060797,0.0,0.3155551616376573,1.6297680984465885,0.4755966791253824,0.0,0.0,0.0,1.1945482727848216,0.0,0.0,1.5161953639076302,0.0,0.0,1.3201699170648886,0.0,0.0,0.4740414631428752,1.7175514315144493,1.0123280746952956,0.26475039061523076,1.3657503930963513,0.4150506019653455,0.0,0.17957599464024987,0.0,1.5071142104666055,0.3534611468830675,0.4373606412718025,1.1441346552137936,0.0,0.2102707684392191,0.0,0.7984637416832119,0.21891764937025393,0.07332941775182344,1.814773221151854,0.3880359123820516,0.7194880548053967,0.6431588302305977,0.9270375124677812,1.3008893969792783,0.0,2.649960362846202,1.22302989586526,1.3134216008510988,0.31842319572677047,0.0,0.8548943953393984,1.0281734901802402,0.9462490845954474,0.0,1.5905282019938731,0.47391059159531557,0.35332609222610734,1.5356953402059579,2.0149007845882547,0.19745141613999984,0.23674869412986888,0.9461730638885251,0.0,0.0,1.118142750999323,0.8416918734150476,0.0,0.886720896550312,0.0,0.0,0.8646370427338458,1.3116537811866809,1.9922172562334821,0.627882691325947,0.0,0.0,0.9189066411404603,0.10661129764201671,0.7384011247216058,0.14346047762955483,0.3675105760490104,0.4641061026900073,0.5240310646663273,0.0,0.8359017119736875,0.4302744130777669,0.35051186767231557,0.0,0.0,1.2308935209811467,0.0,2.0018344451612418,0.0,0.0,0.34273029701531665,0.49312169453416543,0.0,0.8505237161684784,0.0,0.7597372576016536,0.9468082734266633,0.45303428840322735,0.4950526742733441,0.0,0.266836710821163,0.27794263681437426,0.2309246686987092,0.16139438066147738,0.32125305300089513,1.1889180248095568,1.1518046971912117,0.0,0.0,0.038724457719601646,1.2183369352340412,0.8512449312071748,0.1289610161126582,0.0,2.468674458757596,1.3219383225383283,0.0,0.1620964056349692,1.9683138486535698,0.0,0.23932244121886126,0.0,0.41321656721595157,4.615713886101622,0.8777754101557362,0.02541546357409541,0.6425959709716988,0.0,2.1138341693558815,1.8763044046134723,2.4914553777996504,0.6306364328948278,0.0,0.1013479797050042,0.0,0.0,1.155795365698915,0.9999319994358827,0.0,0.07130193202994584,0.0,1.5436659944979088,1.5133707455452377,0.5355461308883397,0.0,4.694283466719456,0.370744044699604,0.7078635572718536,0.8016109680072757,2.600835929501451,0.7554420834411784,0.5680061323374779,2.378588184357385,0.15401347265509624,0.3993027021535017,0.9124410460473257,0.0,0.0,0.8554444368804057,0.0,0.21643912971869994,0.26879915898346196,0.049994053951346484,0.8860102677084496,0.0,2.512122437621235,1.868320836560709,0.0,0.0,1.8272997302579193,1.6604998718063597,1.0279152827682465,0.3595693129012164,0.0,0.6358876495064703,0.16860817792348914,0.8712731489984771,1.200052315304593,1.8563178233821565,1.6575642808754987,0.0,0.0,0.0,1.2271145534356078,0.7100862510399171,0.031267850111168394,0.0,0.22099334917715252,0.6746184415741434,0.1992569932563124,0.802757492132834,0.0,0.24246431966645798,0.7708791167078193,0.14592693443852323,0.1533740990664968,0.6831984892312599,1.7714502641501064,0.8907310363667152,0.0,0.4081230963518905,0.0,0.0,0.4958075281045067,0.6435140216713949,0.9632866275288313,0.0,0.0,0.0,0.9078694903028859,0.9996636126657893,0.0,0.16021467469024198,0.6113741994743226,0.799046181129152,0.9777548965878717,0.0,0.6888311699099215,0.7156712255867506,0.0,0.0,0.6810640054953584,0.0,0.0,0.0,0.0,0.0,0.560202226545555,0.8990197536747092,0.0,1.9644091989779147,0.0,0.5579463270529049,1.25237266184811,2.588375248086862,0.15516906791990315,0.10048535626284294,0.544386454996249,0.5955009727683209,0.0,1.767091706046951,0.42463969625364806,0.0,1.131118919411521,0.7451666044759109,0.7736667945418505,0.547325261494502,0.0,0.0,0.8107409014357274,0.0,0.44404911827419036,0.22881774792885234,0.0,0.498380067361615,0.0,0.0,0.0,0.0,0.0,1.5494713055403824,0.0,0.05386499647180665,0.0,0.0,0.7652410696301022,1.0935517751123078,0.0,0.14333313483894317,0.25283126846603265,0.5548198152886397,0.0,0.0,0.7882093660761127,1.7383154131729366,0.8008488768403379,0.46944703406278787,1.0462450300272776,0.0,0.0,0.0,0.25648118430139044,1.9667904706388322,0.0,0.3397627257008362,0.2090919129509955,0.43099462050753345,0.0,1.256880126800459,0.7338147701108685,0.0,0.8920674628611208,1.4704518972174576,0.3815332818686201,0.41829297861487924,0.37975406358255703,0.581422171365778,0.0,0.14302363856879852,0.0,0.007732023443926761,0.0,0.6536790181476028,2.4327712528722607,0.0,0.8083371276822365,1.6343734490223252,0.10400895786324948,0.8080933260901894,0.5217556631569173,0.0,0.40132556978301837,0.3346651977612157,0.0,0.0,1.7367743464616767,0.0,0.37066771825678635,0.26638425181390357,0.2774742383521267,0.43317666809048083,0.0,0.0,0.0,0.40795977776406356,0.32101076481327706,0.39421214710670904,1.0318707505103195,0.0,0.8008198470592542,0.7554719500523266,0.0,0.0,0.8222873366210146,0.02128729246379435,0.5031056232580899,0.14986038914614708,0.43986401923964324,0.0,0.17888915611913114,1.2155266466145251,1.1998514130640379,0.15519583600013553,0.5986254346448174,0.07311033864597449,0.8745799379888736,0.0,1.4338970762943108,0.6032632532953349,1.3506369894383863,0.6641512987408288,0.37511142910047746,0.0,2.5052845686689147,0.0,0.4319979043337975,0.0,1.3820883843888292,0.5507492037092893,0.22158788518306816,0.10312476232534085,0.2536394453571592,0.4223884379599202,0.0,0.7192925680119151,0.6009146332979807,0.5372356304318167,1.6784364986837894,0.7551174260432202,0.9245741524883111,1.1513119556230125,1.4780101584334484,0.0,0.3782689383603274,0.3159622800931192,0.0,0.3075344264545621,0.4530979793176596,0.045228329087867,0.0,0.0,0.0,0.9188925163345323,0.0,0.5757428620121626,0.0,0.5151537946988787,0.0,0.0,0.0,0.0,0.0,0.0,0.4482418586939446,2.4779842283007647,2.728744366158149,0.0,0.0,0.2017710814454402,0.0,1.1261409319906404,0.573288957071259,0.44329836391030264,0.9729494660285385,0.0,0.0,1.4306447723265092,0.6994925314455928,0.11401801912684251,0.9641752005431201,0.13746413172983063,0.948833179559831,1.4759548318417683,0.5937324156162476,0.0,0.0,1.180639939463731,1.2712849519324252,0.9253414996409812,0.0,0.3877808248881176,0.8700473532041109,0.0771417578899507,0.8356641557217743,0.990407842189544,0.0,0.9562473580317316,0.6543491413509821,0.08436453948793599,1.8472640891136574,0.0,0.5654914772969376,0.9384144041256257,0.0,0.605912677987313,0.8734469925693893,0.5716343376726556,0.0,0.5325629408999225,0.0,0.0,2.4198509278115936,0.547563620379167,0.0,0.9308824440206185,0.0,0.0,0.9486882844652449,0.0,0.0,0.24280133118807146,0.951772640121431,0.45010460458846613,2.928061216378883,0.0,1.5239203221306583,0.0,0.23244549610051068,0.418694711246669,0.48446425900742696,0.0,0.43981007580610076,0.0,0.0,0.5036583248970774,0.0,0.0,0.0,0.9670013282568323,0.5901285966898625,0.5194922364578375,0.8482170300129875,0.5540008269000893,0.3816024980899404,0.0459926688507869,0.0,0.09758670080875209,0.0,0.6638418757082029,0.7785857506017119,0.9958930972570763,0.0,0.8229645978574861,1.739787822974019,0.0,0.9991683576624534,1.1209127383730517,0.0,0.0,0.7377145184227758,0.9723375485261117,0.5514106140073143,0.0,0.7237730050491563,0.0,0.0,0.0,0.0,0.7741827400308778,0.0,0.4535903110552054,4.7852273088928206,0.7071594611462588,0.7795901481924202,1.285377373066038,1.6077131514445309,0.0,0.5251057620715393,1.95702575387309,1.0537509736022352,0.8799329882181619,0.0,0.11767937771980652,0.2877345375523368,0.5423647091361561,0.0,0.0,3.542941021058283,1.7009723217637096,0.5182059321610515,0.0,0.0,0.0,1.4324553259811381,0.0,0.0,1.5183812489870916,0.6361278072375575,0.5893178923240325,0.5471289643551708,0.0,2.126798168408675,0.0,1.984896565565207,0.0,2.5444486527298853,0.4354976676692196,1.2513482016706954,0.7403105558018693,0.7245234230685755,0.3687986631325888,0.0,0.0,0.0,0.0,0.8316696693125504,0.6399726676171833,0.7411291009456071,0.0,0.2161315746294432,0.9158237153420367,1.1820911062979533,0.42236812988354,0.0,0.0,0.9016788278541651,0.0,0.35913579034376764,0.31211022883363493,0.7997734593968271,0.9582333823711127,0.9551255257786624,0.3246062126069402,1.5229142933118782,1.9544627286598582,0.0,0.155550279615146,0.0,2.4449921433876254,0.9727294083216785,0.06340586244348212,0.7362355746714776,0.6538605591796115,0.0,0.2826856584336025,0.0,0.0,0.0,0.0,0.44868580489640497,1.0591727306180942,0.5299712381106543,0.8485612480913595,0.0,0.0,0.23341534264386177,0.6085357268515291,0.13556408196466196,0.4701286293377729,0.3757857846707324,0.37986117755671267,0.3989261503963403,0.0,0.1818249481177634,0.0,0.0,0.0,0.1945157165995084,0.7784717637045984,0.2809775523113375,0.26949326585277367,0.1866085147540565,0.0,0.6601940845971368,0.23544583014140197,0.20726333941256214,0.0,0.6651733465990844,0.35995000947474143,0.0,0.10951873178636373,0.46637259043909096,0.8532714327344337,0.07802270936529221,0.3006089680350561,1.2464090458863244,0.9358028675601278,0.0,0.0,0.3207223478188834,0.0,0.0,0.9228110822422916,0.0,0.0,0.0,0.0,0.0,0.1716245052181372,1.8228060377018278,0.8092622493483025,0.4207402520425392,0.0,0.0,0.0,0.0,0.0,0.5525796019039441,0.017950334362187848,0.0,0.0,0.6627913511780559,0.041344530574278116,0.23979748906084075,0.6546942671553602,0.0,0.42058931907746,0.18850303459809792,0.8419501137477593,0.0,1.7504743688900437,0.5828995699980557,0.4961556006213548,0.0,0.899508641020352,0.3608488432587552,0.5346712680701512,1.5224729648143442,0.3079228371881362,0.04194677413172676,0.44335761423218956,0.0,0.8008793666327302,0.0,0.8623193191310525,0.49107410646270155,0.0,0.9850574171412134,0.7792126208835527,0.0,0.1542131705583859,0.0,6.12071630008237,0.034353072589691225,0.0,0.5058702309946911,2.5461616912152123,0.0,0.6898448305005166,0.0,0.3848006429855504,0.0,0.304742654020448,1.579022729152135,0.0,0.0,0.8894946756313811,0.0,0.36083920788411983,0.0,1.8226748042804024,0.005420428561481283,0.5643585021868474,0.5948315649577097,0.0,0.20243319484669886,0.0,0.0,0.21510292770547268,0.0,0.004184406884981562,0.4091923290531765,0.0,0.0,0.0,0.0,0.786544810625811,0.4645638212984796,0.2897891125982808,0.0,0.09884825288871324,0.0,0.0,0.39534201621539,0.0,0.19572464914571952,0.0,1.9245013660031318,0.0,0.0,1.6015873070431939,0.02111718535424867,0.4429693389393512,0.31676291254631506,2.1438351740884176,0.0,0.6979984639337019,0.0,0.0,0.6372310338527185,0.4937614314228761,0.06418589065468594,0.0,0.0,0.32442897488586087,0.0,0.0,0.0,0.0,0.0,0.5864918260808988,0.13903796620808306,0.7361282018715529,0.7403386587485817,0.41901838150858584,0.08395283032393763,0.0,0.5659232013299558,0.0,0.0,0.0,0.0,0.6379809226543444,0.0,0.5556789114712264,0.6190652613123858,0.08974247205792374,0.43143963462791257,0.0,0.0,0.0,0.3015373324419047,0.0,0.0,0.0,0.39438852633979116,0.0,0.04483006566096104,0.0,2.03342549532582,0.7399651966681796,0.6099729794368466,0.0,0.0,0.8866595188689528,0.06954419545210566,0.0,0.32166197886595527,0.0,0.0,0.48887970529054803,0.4239079446994781,0.0,0.0,0.8700926012867596,0.4017313630008198,0.5439340404149452,0.1989701952684495,0.0,0.0,0.0,0.0,0.8947237526950008,0.13673322489464745,0.0,0.0,2.0837830961822936,1.800029209567866,0.9828233910020711,0.9907910963473594,0.0,0.0,0.4086054565383469,0.5185209041673304,0.0,0.010628435146213366,0.5928327683552244,1.8091805325478378,0.2212189901555799,0.0,0.6875464763932897,0.0,0.0,0.599029323372107,0.6399502497856577,0.0,1.7003927503399512,0.6846994474579394,1.3555708259989496,0.16565826108716153,0.43717046358590017,0.9562711243718416,0.6948520913355968,0.0,0.8593386379276671,0.5661663827538608,4.926672128947797,1.7745123243387597,0.15784405777356436,2.4563149983449497,0.0,0.6938594671592908,0.7013113836742391,0.0,0.5083417683354877,0.0,0.6445471534100631,0.17680940386835087,0.0,0.17579388427197373,1.8890329444253973,0.0,0.0,0.0,0.0,0.08377483359050031,0.9217017745834098,0.9910328935879427,1.348539340184838,0.3922092208658794,1.7137802898879195,0.15985479328819263,0.0,0.0,0.0,0.8625059836378275,0.0,0.0,0.0,0.7231068501739775,0.49319342601246685,0.7598333597377168,0.8156612043351328,0.0,0.6567166447909589,0.0,0.0,1.4955286753000296,1.8525842671353938,0.8572163195560415,0.12136850467052629,0.38319369714317875,0.0,0.9890634149090932,0.0,0.6351040074430923,0.6501772197508935,0.009185232382923347,0.35671956480263023,0.286672994288128,0.0,0.9511945818636367,2.7516242939284616,0.0,0.6553934828677088,0.08918047404111618,0.2434170324483842,0.00827898045732478,0.0,0.0,0.8300591188471512,1.3747907940949218,0.1984173540108809,0.5859319160979691,0.9005284937456136,1.1925357558194078,0.4867945320948768,1.4702737090757343,1.6217359639076798,0.5878605109945721,1.3442668470810168,0.9730277087913266,0.6122925357161799,0.30307167508243926,0.2788806708922351,0.27141603057104513,0.0,0.0,0.0,0.0,2.256791825720243,0.0,0.0,0.0,0.0,0.0,0.7605318701967274,0.19493610775998738,0.0,0.4710022306178596,0.0,0.0,0.4589389912228282,0.5751698669794127,0.0,0.9629983609461437,0.0965145853824465,1.6674468423633995,0.0,0.0,0.0,0.0,0.0,0.0,2.929934963925731,0.8695564510077315,0.0,0.6995213150015657,0.6112749716139234,1.788611298532761,0.0,5.87653235325873,2.0530171631953325,0.0,1.9127621904410446,0.20896263525364933,0.0,2.516666842150322,0.0,2.8216579144631977,0.7248162656892714,0.0,0.0,0.34426245430077596,0.0,0.15428866989018553,0.5678000234119621,0.3718778756791308,0.0,0.0,0.5148559475135833,0.0,0.4568145232065084,0.0,0.0,0.5172152677281865,0.0,0.5190170272206192,0.0,0.0,0.0,0.0,0.7129302001940991,0.0,0.0,0.0,3.945954588834329,0.0,0.0,0.0,0.5638724458467586,0.0,0.0,0.0,0.0,1.0777704310614744,0.0,1.9824568998542582,0.4344523303909993,1.3753700784008724,0.50513399889847,2.3487213136923413,0.0,0.7088176148079215,1.9999810337994877,0.0,0.0,0.5769395864729889,0.0,0.2199542533550507,0.8507712412411433,0.3015664061100054,1.2679318581322785,1.5953125664714805,1.8039134514738895,0.9014598684680847,0.09572049842304475,1.83114246345911,2.396001455414773,0.0,1.8677225102787722,0.5155767901191435,0.007466419785976619,0.0,0.7416850747169246,0.0,0.7535655244700035,3.2726058557393936,0.0,0.30478210439086295,0.8045664217328448,0.0,0.0,0.4064372234458786,0.026626483108564747,1.1627994901179008,0.0,0.0,0.0,1.547580437628687,0.0,0.8154305753581399,0.0,0.4035760627155166,0.0,0.0,0.3050354742976009,0.9430174322725386,0.4644087382474147,0.0,0.6853048610456877,0.2776210266190444,0.5732380132259366,0.3169934983288888,0.48280598366552396,1.117795242140406,0.0,0.9195243509026951,0.0,0.0,0.7583077635383272,0.0,0.0007297824399095099,0.6943308048867509,3.8026649164224198,0.12841095315924855,1.424329774326631,0.37533426008183113,0.43477044212109095,0.9115772742892009,3.711967205304378,0.9854675674699535,0.22852439529584045,0.7887174237726011,1.3240792471985372,0.0,0.9893068018642727,0.699197341127916,0.0,0.352384125749194,0.9557865942943687,0.0,0.0,0.8963966302346972,0.878027750069727,0.0,0.0,0.7219861049085498,0.27856087597918744,0.0,1.9473290872853217,0.0,0.9504386561312747,0.0,0.0,0.0,0.0,0.23503569059437457,0.413142786829525,0.03246775904928356,0.026969339890522415,0.05043007612808781,0.6934885326141164,0.27682605578916464,0.9965886212864699,0.15067716555528488,0.20483215924017706,0.09836538119770466,0.0,0.21064853706694564,0.0,1.639961809583178,2.5487628481546585,0.46929245784867235,0.7651201109998047,0.0,0.9770234926416225,0.0,0.0,1.31337559193698,2.2630880418107426,0.0,0.0,0.0,0.2169927177262606,0.0,0.3046363263589379,0.6219129219767137,0.9603100575728114,0.45130524024404606,1.5105463485081176,0.0,2.6091274802422975,0.0,0.0,0.6490418191670935,0.0,0.0,1.722414539367299,1.8015440207275977,0.0,0.0,0.2681212697293709,0.6149321249028235,0.05312236425184902,4.831173483608241,0.0,0.0,3.550880444454266,0.6391010882133441,0.0,0.31422477503166935,0.0,0.0,0.0,0.43918240399848707,0.9115080648497775,1.0317919008410352,1.2535507424771852,1.204893338121346,0.11735529969309955,0.0,0.9524212047487108,0.9119357525974432,0.0,1.1487263900764286,0.0,0.6724632334974989,0.26887240271241875,0.0,0.0,0.8028685162464057,0.011424479562188727,0.0,0.49264567454076735,6.063304708651707,0.8730673887781039,3.913542491798,2.1129799209879465,0.0,0.0,0.10332675969994964,1.1938794707529992,0.0,0.0,0.0,0.15955490041333797,0.0,0.4168257956766801,0.0,0.0,2.11270218458628,0.8907791653707214,0.0,0.0,0.0,0.0,0.7102598318147604,1.5640139610321644,1.2533285298644534,0.0,0.6822111625860684,0.08721950452290617,0.0,0.9719688838445921,0.0,1.6247469576791334,0.7676418677825976,1.2107752574001216,0.0,0.0,0.557700401728329,0.3856075437615374,0.0,0.4642257104955566,3.6536044993068586,0.0,0.15653218397834512,0.7639226411615617,0.32008734934368044,0.18591279672260907,1.5313512942974958,2.9797693724586045,0.5125260988588778,0.9842709257085467,0.8232491083276395,0.4582087392369387,0.8199908838189729,0.35481401286076786,0.0,0.0,0.38856695621508974,0.0,0.6122278046656111,0.0,2.7656226759064015,0.015863619891324565,0.6419446738986245,0.0,4.496860835019968,0.0,0.0,0.017765017922093396,2.6798397061037766,0.5267279606503479,0.9720733257486758,2.3839226194534877,0.6696941475564002,0.0,0.0,0.5784241143471504,0.0,0.6500542591323158,0.0,1.563271708160268,1.1435670394972095,0.5970115951986947,0.0,1.6918217191940452,0.7055373166702292,0.9950084075589873,1.4354334213841502,0.39659231567723086,0.0,0.6444877131854847,0.6503141778970407,0.0,0.0,2.5741746935250376,1.2525892073052542,5.752595597709084,0.6169615467972334,0.0,0.281645554427577,1.3408446486868302,1.386209626169184,0.0,0.0],\"yaxis\":\"y\",\"type\":\"scattergl\"}],                        {\"template\":{\"data\":{\"histogram2dcontour\":[{\"type\":\"histogram2dcontour\",\"colorbar\":{\"outlinewidth\":0,\"ticks\":\"\"},\"colorscale\":[[0.0,\"#0d0887\"],[0.1111111111111111,\"#46039f\"],[0.2222222222222222,\"#7201a8\"],[0.3333333333333333,\"#9c179e\"],[0.4444444444444444,\"#bd3786\"],[0.5555555555555556,\"#d8576b\"],[0.6666666666666666,\"#ed7953\"],[0.7777777777777778,\"#fb9f3a\"],[0.8888888888888888,\"#fdca26\"],[1.0,\"#f0f921\"]]}],\"choropleth\":[{\"type\":\"choropleth\",\"colorbar\":{\"outlinewidth\":0,\"ticks\":\"\"}}],\"histogram2d\":[{\"type\":\"histogram2d\",\"colorbar\":{\"outlinewidth\":0,\"ticks\":\"\"},\"colorscale\":[[0.0,\"#0d0887\"],[0.1111111111111111,\"#46039f\"],[0.2222222222222222,\"#7201a8\"],[0.3333333333333333,\"#9c179e\"],[0.4444444444444444,\"#bd3786\"],[0.5555555555555556,\"#d8576b\"],[0.6666666666666666,\"#ed7953\"],[0.7777777777777778,\"#fb9f3a\"],[0.8888888888888888,\"#fdca26\"],[1.0,\"#f0f921\"]]}],\"heatmap\":[{\"type\":\"heatmap\",\"colorbar\":{\"outlinewidth\":0,\"ticks\":\"\"},\"colorscale\":[[0.0,\"#0d0887\"],[0.1111111111111111,\"#46039f\"],[0.2222222222222222,\"#7201a8\"],[0.3333333333333333,\"#9c179e\"],[0.4444444444444444,\"#bd3786\"],[0.5555555555555556,\"#d8576b\"],[0.6666666666666666,\"#ed7953\"],[0.7777777777777778,\"#fb9f3a\"],[0.8888888888888888,\"#fdca26\"],[1.0,\"#f0f921\"]]}],\"heatmapgl\":[{\"type\":\"heatmapgl\",\"colorbar\":{\"outlinewidth\":0,\"ticks\":\"\"},\"colorscale\":[[0.0,\"#0d0887\"],[0.1111111111111111,\"#46039f\"],[0.2222222222222222,\"#7201a8\"],[0.3333333333333333,\"#9c179e\"],[0.4444444444444444,\"#bd3786\"],[0.5555555555555556,\"#d8576b\"],[0.6666666666666666,\"#ed7953\"],[0.7777777777777778,\"#fb9f3a\"],[0.8888888888888888,\"#fdca26\"],[1.0,\"#f0f921\"]]}],\"contourcarpet\":[{\"type\":\"contourcarpet\",\"colorbar\":{\"outlinewidth\":0,\"ticks\":\"\"}}],\"contour\":[{\"type\":\"contour\",\"colorbar\":{\"outlinewidth\":0,\"ticks\":\"\"},\"colorscale\":[[0.0,\"#0d0887\"],[0.1111111111111111,\"#46039f\"],[0.2222222222222222,\"#7201a8\"],[0.3333333333333333,\"#9c179e\"],[0.4444444444444444,\"#bd3786\"],[0.5555555555555556,\"#d8576b\"],[0.6666666666666666,\"#ed7953\"],[0.7777777777777778,\"#fb9f3a\"],[0.8888888888888888,\"#fdca26\"],[1.0,\"#f0f921\"]]}],\"surface\":[{\"type\":\"surface\",\"colorbar\":{\"outlinewidth\":0,\"ticks\":\"\"},\"colorscale\":[[0.0,\"#0d0887\"],[0.1111111111111111,\"#46039f\"],[0.2222222222222222,\"#7201a8\"],[0.3333333333333333,\"#9c179e\"],[0.4444444444444444,\"#bd3786\"],[0.5555555555555556,\"#d8576b\"],[0.6666666666666666,\"#ed7953\"],[0.7777777777777778,\"#fb9f3a\"],[0.8888888888888888,\"#fdca26\"],[1.0,\"#f0f921\"]]}],\"mesh3d\":[{\"type\":\"mesh3d\",\"colorbar\":{\"outlinewidth\":0,\"ticks\":\"\"}}],\"scatter\":[{\"marker\":{\"line\":{\"color\":\"#283442\"}},\"type\":\"scatter\"}],\"parcoords\":[{\"type\":\"parcoords\",\"line\":{\"colorbar\":{\"outlinewidth\":0,\"ticks\":\"\"}}}],\"scatterpolargl\":[{\"type\":\"scatterpolargl\",\"marker\":{\"colorbar\":{\"outlinewidth\":0,\"ticks\":\"\"}}}],\"bar\":[{\"error_x\":{\"color\":\"#f2f5fa\"},\"error_y\":{\"color\":\"#f2f5fa\"},\"marker\":{\"line\":{\"color\":\"rgb(17,17,17)\",\"width\":0.5},\"pattern\":{\"fillmode\":\"overlay\",\"size\":10,\"solidity\":0.2}},\"type\":\"bar\"}],\"scattergeo\":[{\"type\":\"scattergeo\",\"marker\":{\"colorbar\":{\"outlinewidth\":0,\"ticks\":\"\"}}}],\"scatterpolar\":[{\"type\":\"scatterpolar\",\"marker\":{\"colorbar\":{\"outlinewidth\":0,\"ticks\":\"\"}}}],\"histogram\":[{\"marker\":{\"pattern\":{\"fillmode\":\"overlay\",\"size\":10,\"solidity\":0.2}},\"type\":\"histogram\"}],\"scattergl\":[{\"marker\":{\"line\":{\"color\":\"#283442\"}},\"type\":\"scattergl\"}],\"scatter3d\":[{\"type\":\"scatter3d\",\"line\":{\"colorbar\":{\"outlinewidth\":0,\"ticks\":\"\"}},\"marker\":{\"colorbar\":{\"outlinewidth\":0,\"ticks\":\"\"}}}],\"scattermapbox\":[{\"type\":\"scattermapbox\",\"marker\":{\"colorbar\":{\"outlinewidth\":0,\"ticks\":\"\"}}}],\"scatterternary\":[{\"type\":\"scatterternary\",\"marker\":{\"colorbar\":{\"outlinewidth\":0,\"ticks\":\"\"}}}],\"scattercarpet\":[{\"type\":\"scattercarpet\",\"marker\":{\"colorbar\":{\"outlinewidth\":0,\"ticks\":\"\"}}}],\"carpet\":[{\"aaxis\":{\"endlinecolor\":\"#A2B1C6\",\"gridcolor\":\"#506784\",\"linecolor\":\"#506784\",\"minorgridcolor\":\"#506784\",\"startlinecolor\":\"#A2B1C6\"},\"baxis\":{\"endlinecolor\":\"#A2B1C6\",\"gridcolor\":\"#506784\",\"linecolor\":\"#506784\",\"minorgridcolor\":\"#506784\",\"startlinecolor\":\"#A2B1C6\"},\"type\":\"carpet\"}],\"table\":[{\"cells\":{\"fill\":{\"color\":\"#506784\"},\"line\":{\"color\":\"rgb(17,17,17)\"}},\"header\":{\"fill\":{\"color\":\"#2a3f5f\"},\"line\":{\"color\":\"rgb(17,17,17)\"}},\"type\":\"table\"}],\"barpolar\":[{\"marker\":{\"line\":{\"color\":\"rgb(17,17,17)\",\"width\":0.5},\"pattern\":{\"fillmode\":\"overlay\",\"size\":10,\"solidity\":0.2}},\"type\":\"barpolar\"}],\"pie\":[{\"automargin\":true,\"type\":\"pie\"}]},\"layout\":{\"autotypenumbers\":\"strict\",\"colorway\":[\"#636efa\",\"#EF553B\",\"#00cc96\",\"#ab63fa\",\"#FFA15A\",\"#19d3f3\",\"#FF6692\",\"#B6E880\",\"#FF97FF\",\"#FECB52\"],\"font\":{\"color\":\"#f2f5fa\"},\"hovermode\":\"closest\",\"hoverlabel\":{\"align\":\"left\"},\"paper_bgcolor\":\"rgb(17,17,17)\",\"plot_bgcolor\":\"rgb(17,17,17)\",\"polar\":{\"bgcolor\":\"rgb(17,17,17)\",\"angularaxis\":{\"gridcolor\":\"#506784\",\"linecolor\":\"#506784\",\"ticks\":\"\"},\"radialaxis\":{\"gridcolor\":\"#506784\",\"linecolor\":\"#506784\",\"ticks\":\"\"}},\"ternary\":{\"bgcolor\":\"rgb(17,17,17)\",\"aaxis\":{\"gridcolor\":\"#506784\",\"linecolor\":\"#506784\",\"ticks\":\"\"},\"baxis\":{\"gridcolor\":\"#506784\",\"linecolor\":\"#506784\",\"ticks\":\"\"},\"caxis\":{\"gridcolor\":\"#506784\",\"linecolor\":\"#506784\",\"ticks\":\"\"}},\"coloraxis\":{\"colorbar\":{\"outlinewidth\":0,\"ticks\":\"\"}},\"colorscale\":{\"sequential\":[[0.0,\"#0d0887\"],[0.1111111111111111,\"#46039f\"],[0.2222222222222222,\"#7201a8\"],[0.3333333333333333,\"#9c179e\"],[0.4444444444444444,\"#bd3786\"],[0.5555555555555556,\"#d8576b\"],[0.6666666666666666,\"#ed7953\"],[0.7777777777777778,\"#fb9f3a\"],[0.8888888888888888,\"#fdca26\"],[1.0,\"#f0f921\"]],\"sequentialminus\":[[0.0,\"#0d0887\"],[0.1111111111111111,\"#46039f\"],[0.2222222222222222,\"#7201a8\"],[0.3333333333333333,\"#9c179e\"],[0.4444444444444444,\"#bd3786\"],[0.5555555555555556,\"#d8576b\"],[0.6666666666666666,\"#ed7953\"],[0.7777777777777778,\"#fb9f3a\"],[0.8888888888888888,\"#fdca26\"],[1.0,\"#f0f921\"]],\"diverging\":[[0,\"#8e0152\"],[0.1,\"#c51b7d\"],[0.2,\"#de77ae\"],[0.3,\"#f1b6da\"],[0.4,\"#fde0ef\"],[0.5,\"#f7f7f7\"],[0.6,\"#e6f5d0\"],[0.7,\"#b8e186\"],[0.8,\"#7fbc41\"],[0.9,\"#4d9221\"],[1,\"#276419\"]]},\"xaxis\":{\"gridcolor\":\"#283442\",\"linecolor\":\"#506784\",\"ticks\":\"\",\"title\":{\"standoff\":15},\"zerolinecolor\":\"#283442\",\"automargin\":true,\"zerolinewidth\":2},\"yaxis\":{\"gridcolor\":\"#283442\",\"linecolor\":\"#506784\",\"ticks\":\"\",\"title\":{\"standoff\":15},\"zerolinecolor\":\"#283442\",\"automargin\":true,\"zerolinewidth\":2},\"scene\":{\"xaxis\":{\"backgroundcolor\":\"rgb(17,17,17)\",\"gridcolor\":\"#506784\",\"linecolor\":\"#506784\",\"showbackground\":true,\"ticks\":\"\",\"zerolinecolor\":\"#C8D4E3\",\"gridwidth\":2},\"yaxis\":{\"backgroundcolor\":\"rgb(17,17,17)\",\"gridcolor\":\"#506784\",\"linecolor\":\"#506784\",\"showbackground\":true,\"ticks\":\"\",\"zerolinecolor\":\"#C8D4E3\",\"gridwidth\":2},\"zaxis\":{\"backgroundcolor\":\"rgb(17,17,17)\",\"gridcolor\":\"#506784\",\"linecolor\":\"#506784\",\"showbackground\":true,\"ticks\":\"\",\"zerolinecolor\":\"#C8D4E3\",\"gridwidth\":2}},\"shapedefaults\":{\"line\":{\"color\":\"#f2f5fa\"}},\"annotationdefaults\":{\"arrowcolor\":\"#f2f5fa\",\"arrowhead\":0,\"arrowwidth\":1},\"geo\":{\"bgcolor\":\"rgb(17,17,17)\",\"landcolor\":\"rgb(17,17,17)\",\"subunitcolor\":\"#506784\",\"showland\":true,\"showlakes\":true,\"lakecolor\":\"rgb(17,17,17)\"},\"title\":{\"x\":0.05},\"updatemenudefaults\":{\"bgcolor\":\"#506784\",\"borderwidth\":0},\"sliderdefaults\":{\"bgcolor\":\"#C8D4E3\",\"borderwidth\":1,\"bordercolor\":\"rgb(17,17,17)\",\"tickwidth\":0},\"mapbox\":{\"style\":\"dark\"}}},\"xaxis\":{\"anchor\":\"y\",\"domain\":[0.0,1.0],\"title\":{\"text\":\"gols_1\"}},\"yaxis\":{\"anchor\":\"x\",\"domain\":[0.0,1.0],\"title\":{\"text\":\"gols_2\"}},\"legend\":{\"tracegroupgap\":0},\"margin\":{\"t\":60}},                        {\"responsive\": true}                    ).then(function(){\n",
       "                            \n",
       "var gd = document.getElementById('b8f468b7-f26d-4f20-9af3-01a0c66a10f7');\n",
       "var x = new MutationObserver(function (mutations, observer) {{\n",
       "        var display = window.getComputedStyle(gd).display;\n",
       "        if (!display || display === 'none') {{\n",
       "            console.log([gd, 'removed!']);\n",
       "            Plotly.purge(gd);\n",
       "            observer.disconnect();\n",
       "        }}\n",
       "}});\n",
       "\n",
       "// Listen for the removal of the full notebook cells\n",
       "var notebookContainer = gd.closest('#notebook-container');\n",
       "if (notebookContainer) {{\n",
       "    x.observe(notebookContainer, {childList: true});\n",
       "}}\n",
       "\n",
       "// Listen for the clearing of the current output cell\n",
       "var outputEl = gd.closest('.output');\n",
       "if (outputEl) {{\n",
       "    x.observe(outputEl, {childList: true});\n",
       "}}\n",
       "\n",
       "                        })                };                });            </script>        </div>"
      ]
     },
     "metadata": {},
     "output_type": "display_data"
    }
   ],
   "source": [
    "#### solução com plotly\n",
    "\n",
    "fig = px.scatter(gols, x='gols_1', y='gols_2')\n",
    "fig.show()"
   ]
  },
  {
   "cell_type": "markdown",
   "metadata": {},
   "source": [
    "#### Q4.\n",
    "\n",
    "Apresente um gráfico de barras com o top 10 países que mais participaram de copas do mundo, onde no eixo x devem estar o nome dos países e no eixo y a contagem de participações. Você deve separar a contagem de participações em copas femininas e masculinas, empilhando as barras de cada informação.\n",
    "\n",
    "No exemplo de barras empilhadas da galeria do matplotlib, imagine que a parte azul são as participações do país em copas masculinas, e em laranja as participações femininas:\n",
    "* https://matplotlib.org/stable/gallery/lines_bars_and_markers/bar_stacked.html\n",
    "\n",
    "Você deve implementar essa visualização nas três bibliotecas que vimos:\n",
    "* Matplotlib\n",
    "* Seaborn\n",
    "* Plotly\n",
    "\n",
    "Garanta que o gráfico tenha pelo menos os atributos:\n",
    "* título\n",
    "* rótulos de dimensão.\n",
    "* legenda"
   ]
  },
  {
   "cell_type": "code",
   "execution_count": 29,
   "metadata": {},
   "outputs": [
    {
     "data": {
      "text/html": [
       "<div>\n",
       "<style scoped>\n",
       "    .dataframe tbody tr th:only-of-type {\n",
       "        vertical-align: middle;\n",
       "    }\n",
       "\n",
       "    .dataframe tbody tr th {\n",
       "        vertical-align: top;\n",
       "    }\n",
       "\n",
       "    .dataframe thead th {\n",
       "        text-align: right;\n",
       "    }\n",
       "</style>\n",
       "<table border=\"1\" class=\"dataframe\">\n",
       "  <thead>\n",
       "    <tr style=\"text-align: right;\">\n",
       "      <th></th>\n",
       "      <th>pais</th>\n",
       "      <th>copa</th>\n",
       "      <th>num_copas</th>\n",
       "    </tr>\n",
       "  </thead>\n",
       "  <tbody>\n",
       "    <tr>\n",
       "      <th>1</th>\n",
       "      <td>Brazil</td>\n",
       "      <td>Feminina</td>\n",
       "      <td>9</td>\n",
       "    </tr>\n",
       "    <tr>\n",
       "      <th>2</th>\n",
       "      <td>Sweden</td>\n",
       "      <td>Feminina</td>\n",
       "      <td>9</td>\n",
       "    </tr>\n",
       "    <tr>\n",
       "      <th>3</th>\n",
       "      <td>United States</td>\n",
       "      <td>Feminina</td>\n",
       "      <td>9</td>\n",
       "    </tr>\n",
       "    <tr>\n",
       "      <th>4</th>\n",
       "      <td>Germany</td>\n",
       "      <td>Feminina</td>\n",
       "      <td>9</td>\n",
       "    </tr>\n",
       "    <tr>\n",
       "      <th>5</th>\n",
       "      <td>Norway</td>\n",
       "      <td>Feminina</td>\n",
       "      <td>9</td>\n",
       "    </tr>\n",
       "    <tr>\n",
       "      <th>6</th>\n",
       "      <td>Japan</td>\n",
       "      <td>Feminina</td>\n",
       "      <td>8</td>\n",
       "    </tr>\n",
       "    <tr>\n",
       "      <th>7</th>\n",
       "      <td>Nigeria</td>\n",
       "      <td>Feminina</td>\n",
       "      <td>8</td>\n",
       "    </tr>\n",
       "    <tr>\n",
       "      <th>8</th>\n",
       "      <td>China PR</td>\n",
       "      <td>Feminina</td>\n",
       "      <td>8</td>\n",
       "    </tr>\n",
       "    <tr>\n",
       "      <th>9</th>\n",
       "      <td>Canada</td>\n",
       "      <td>Feminina</td>\n",
       "      <td>7</td>\n",
       "    </tr>\n",
       "    <tr>\n",
       "      <th>10</th>\n",
       "      <td>Australia</td>\n",
       "      <td>Feminina</td>\n",
       "      <td>7</td>\n",
       "    </tr>\n",
       "  </tbody>\n",
       "</table>\n",
       "</div>"
      ],
      "text/plain": [
       "             pais      copa  num_copas\n",
       "1          Brazil  Feminina          9\n",
       "2          Sweden  Feminina          9\n",
       "3   United States  Feminina          9\n",
       "4         Germany  Feminina          9\n",
       "5          Norway  Feminina          9\n",
       "6           Japan  Feminina          8\n",
       "7         Nigeria  Feminina          8\n",
       "8        China PR  Feminina          8\n",
       "9          Canada  Feminina          7\n",
       "10      Australia  Feminina          7"
      ]
     },
     "metadata": {},
     "output_type": "display_data"
    },
    {
     "data": {
      "text/html": [
       "<div>\n",
       "<style scoped>\n",
       "    .dataframe tbody tr th:only-of-type {\n",
       "        vertical-align: middle;\n",
       "    }\n",
       "\n",
       "    .dataframe tbody tr th {\n",
       "        vertical-align: top;\n",
       "    }\n",
       "\n",
       "    .dataframe thead th {\n",
       "        text-align: right;\n",
       "    }\n",
       "</style>\n",
       "<table border=\"1\" class=\"dataframe\">\n",
       "  <thead>\n",
       "    <tr style=\"text-align: right;\">\n",
       "      <th></th>\n",
       "      <th>pais</th>\n",
       "      <th>copa</th>\n",
       "      <th>num_copas</th>\n",
       "    </tr>\n",
       "  </thead>\n",
       "  <tbody>\n",
       "    <tr>\n",
       "      <th>1</th>\n",
       "      <td>Brazil</td>\n",
       "      <td>Masculina</td>\n",
       "      <td>21</td>\n",
       "    </tr>\n",
       "    <tr>\n",
       "      <th>2</th>\n",
       "      <td>Italy</td>\n",
       "      <td>Masculina</td>\n",
       "      <td>18</td>\n",
       "    </tr>\n",
       "    <tr>\n",
       "      <th>3</th>\n",
       "      <td>Argentina</td>\n",
       "      <td>Masculina</td>\n",
       "      <td>17</td>\n",
       "    </tr>\n",
       "    <tr>\n",
       "      <th>4</th>\n",
       "      <td>England</td>\n",
       "      <td>Masculina</td>\n",
       "      <td>16</td>\n",
       "    </tr>\n",
       "    <tr>\n",
       "      <th>5</th>\n",
       "      <td>Spain</td>\n",
       "      <td>Masculina</td>\n",
       "      <td>16</td>\n",
       "    </tr>\n",
       "    <tr>\n",
       "      <th>6</th>\n",
       "      <td>France</td>\n",
       "      <td>Masculina</td>\n",
       "      <td>15</td>\n",
       "    </tr>\n",
       "    <tr>\n",
       "      <th>7</th>\n",
       "      <td>Uruguay</td>\n",
       "      <td>Masculina</td>\n",
       "      <td>14</td>\n",
       "    </tr>\n",
       "    <tr>\n",
       "      <th>8</th>\n",
       "      <td>Sweden</td>\n",
       "      <td>Masculina</td>\n",
       "      <td>12</td>\n",
       "    </tr>\n",
       "    <tr>\n",
       "      <th>9</th>\n",
       "      <td>Mexico</td>\n",
       "      <td>Masculina</td>\n",
       "      <td>11</td>\n",
       "    </tr>\n",
       "    <tr>\n",
       "      <th>10</th>\n",
       "      <td>Belgium</td>\n",
       "      <td>Masculina</td>\n",
       "      <td>10</td>\n",
       "    </tr>\n",
       "  </tbody>\n",
       "</table>\n",
       "</div>"
      ],
      "text/plain": [
       "         pais       copa  num_copas\n",
       "1      Brazil  Masculina         21\n",
       "2       Italy  Masculina         18\n",
       "3   Argentina  Masculina         17\n",
       "4     England  Masculina         16\n",
       "5       Spain  Masculina         16\n",
       "6      France  Masculina         15\n",
       "7     Uruguay  Masculina         14\n",
       "8      Sweden  Masculina         12\n",
       "9      Mexico  Masculina         11\n",
       "10    Belgium  Masculina         10"
      ]
     },
     "metadata": {},
     "output_type": "display_data"
    }
   ],
   "source": [
    "### Processamento dos dados\n",
    "#DATAFRAME\n",
    "participacao = {\n",
    "    \"pais\": [],\n",
    "    \"copa\": [],\n",
    "    \"num_copas\": []\n",
    "}\n",
    "\n",
    "\n",
    "#FILTRAGEM\n",
    "#lista com todos os países que já participaram\n",
    "lista_paises = []\n",
    "\n",
    "nomes_paises = wc[\"time_1\"].drop_duplicates() #buscando a coluna com o nome dos países sem repeti-los\n",
    "\n",
    "for linha in nomes_paises:\n",
    "    lista_paises.append(linha)\n",
    "    \n",
    "###print(lista_paises)\n",
    "\n",
    "#resgatar quantas participações o país teve\n",
    "wc_filtrado = wc[[\"time_1\", \"ano\", \"copa\"]].drop_duplicates() #busca o nome dos países participantes em cada ano\n",
    "\n",
    "#PROCESSAMENTO\n",
    "#looping para adicionar ao dataframe informações de cada país que já participou da copa\n",
    "for pais in lista_paises:\n",
    "    #Masculino\n",
    "    participacoes_pais = (wc_filtrado[(wc_filtrado[\"time_1\"] == pais) & (wc_filtrado[\"copa\"] == \"Masculina\")])\n",
    "    ###print(f\"{pais}: {len(participacoes_pais)}\")\n",
    "    if len(participacoes_pais) > 0: #alguns países só participaram da copa Feminina\n",
    "        participacao['pais'].append(pais)\n",
    "        participacao['copa'].append(\"Masculina\")\n",
    "        participacao['num_copas'].append(len(participacoes_pais)) \n",
    "        \n",
    "    #Feminino\n",
    "    participacoes_pais = (wc_filtrado[(wc_filtrado[\"time_1\"] == pais) & (wc_filtrado[\"copa\"] == \"Feminina\")])\n",
    "    ###print(f\"{pais}: {len(participacoes_pais)}\")\n",
    "    if len(participacoes_pais) > 0: #alguns países só participaram da copa Masculina\n",
    "        participacao['pais'].append(pais)\n",
    "        participacao['copa'].append(\"Feminina\")\n",
    "        participacao['num_copas'].append(len(participacoes_pais)) \n",
    "\n",
    "#RESULTADO \n",
    "df = pd.DataFrame(participacao) #database completa\n",
    "\n",
    "#TOP 5 FEMININO\n",
    "top10_fem = df[df[\"copa\"] == 'Feminina'].sort_values(by='num_copas', ascending=False).head(10).reset_index(drop=True)\n",
    "top10_fem.index = top10_fem.index + 1 #para começar a contar do 1\n",
    "display(top10_fem)\n",
    "\n",
    "#TOP 5 MASCULINO\n",
    "top10_mas = df[df[\"copa\"] == 'Masculina'].sort_values(by='num_copas', ascending=False).head(10).reset_index(drop=True)\n",
    "top10_mas.index = top10_mas.index + 1\n",
    "display(top10_mas)"
   ]
  },
  {
   "cell_type": "code",
   "execution_count": 30,
   "metadata": {
    "scrolled": true,
    "vscode": {
     "languageId": "plaintext"
    }
   },
   "outputs": [
    {
     "data": {
      "image/png": "[encoded data removed]",
      "text/plain": [
       "<Figure size 640x480 with 1 Axes>"
      ]
     },
     "metadata": {},
     "output_type": "display_data"
    }
   ],
   "source": [
    "#### solução com matplotlib\n",
    "plt.bar(top10_mas['pais'], top10_mas['num_copas'], color='r', width=1, label='Masculino')\n",
    "\n",
    "#lista dos países\n",
    "paises_m = list(top10_mas['pais'])\n",
    "paises_f_total = list(top10_fem['pais'])\n",
    "paises_r = [item for item in paises_m if item in paises_f_total]  # Lista com os países em comum\n",
    "paises_f = [item for item in paises_f_total if item not in paises_m]#Lista de países que venceram apenas a Feminina\n",
    "\n",
    "#apenas femino\n",
    "femino_apenas = top10_fem[top10_fem['pais'].isin(paises_f)]\n",
    "plt.bar(femino_apenas['pais'], femino_apenas['num_copas'], color='b', width=1, label='Feminino')\n",
    "#coluna para aqueles paises que venceram apenas no feminino \n",
    "    \n",
    "#ambas as copas\n",
    "ambas_copas = top10_fem[top10_fem['pais'].isin(paises_r)]\n",
    "plt.bar(ambas_copas['pais'], ambas_copas['num_copas'], color='b', width=1, bottom=top10_mas.loc[top10_mas['pais'].isin(ambas_copas['pais']), 'num_copas'])\n",
    "#nova coluna criada acima da de masculina para aquelas países que venceram essa copa\n",
    "\n",
    "plt.xticks(rotation=90)\n",
    "plt.xlabel('País')  \n",
    "plt.ylabel('Número de Copas')  \n",
    "plt.title('Número de Copas por País')  \n",
    "plt.legend()\n",
    "\n",
    "plt.show()"
   ]
  },
  {
   "cell_type": "code",
   "execution_count": 31,
   "metadata": {
    "vscode": {
     "languageId": "plaintext"
    }
   },
   "outputs": [
    {
     "data": {
      "image/png": "[encoded data removed]",
      "text/plain": [
       "<Figure size 1000x600 with 1 Axes>"
      ]
     },
     "metadata": {},
     "output_type": "display_data"
    }
   ],
   "source": [
    "#### solução com seaborn\n",
    "\n",
    "#unindo o dataframe\n",
    "top10 = pd.concat([top10_mas, top10_fem])\n",
    "\n",
    "plt.figure(figsize=(10, 6))\n",
    "sns.barplot(data=top10, x='pais', y='num_copas', hue='copa', legend=True)\n",
    "\n",
    "plt.xlabel('País')\n",
    "plt.ylabel('Número de Copas')\n",
    "plt.xticks(rotation=90)\n",
    "\n",
    "ax = plt.gca()\n",
    "ax.set_title(\"Número de Copas por País\")\n",
    "\n",
    "plt.show()"
   ]
  },
  {
   "cell_type": "code",
   "execution_count": 32,
   "metadata": {
    "vscode": {
     "languageId": "plaintext"
    }
   },
   "outputs": [
    {
     "data": {
      "application/vnd.plotly.v1+json": {
       "config": {
        "plotlyServerURL": "https://plot.ly"
       },
       "data": [
        {
         "alignmentgroup": "True",
         "customdata": [
          [
           "Masculina"
          ],
          [
           "Masculina"
          ],
          [
           "Masculina"
          ],
          [
           "Masculina"
          ],
          [
           "Masculina"
          ],
          [
           "Masculina"
          ],
          [
           "Masculina"
          ],
          [
           "Masculina"
          ],
          [
           "Masculina"
          ],
          [
           "Masculina"
          ]
         ],
         "hovertemplate": "copa=%{customdata[0]}<br>pais=%{x}<br>num_copas=%{y}<extra></extra>",
         "legendgroup": "Masculina",
         "marker": {
          "color": "#636efa",
          "pattern": {
           "shape": ""
          }
         },
         "name": "Masculina",
         "offsetgroup": "Masculina",
         "orientation": "v",
         "showlegend": true,
         "textposition": "auto",
         "type": "bar",
         "x": [
          "Brazil",
          "Italy",
          "Argentina",
          "England",
          "Spain",
          "France",
          "Uruguay",
          "Sweden",
          "Mexico",
          "Belgium"
         ],
         "xaxis": "x",
         "y": [
          21,
          18,
          17,
          16,
          16,
          15,
          14,
          12,
          11,
          10
         ],
         "yaxis": "y"
        },
        {
         "alignmentgroup": "True",
         "customdata": [
          [
           "Feminina"
          ],
          [
           "Feminina"
          ],
          [
           "Feminina"
          ],
          [
           "Feminina"
          ],
          [
           "Feminina"
          ],
          [
           "Feminina"
          ],
          [
           "Feminina"
          ],
          [
           "Feminina"
          ],
          [
           "Feminina"
          ],
          [
           "Feminina"
          ]
         ],
         "hovertemplate": "copa=%{customdata[0]}<br>pais=%{x}<br>num_copas=%{y}<extra></extra>",
         "legendgroup": "Feminina",
         "marker": {
          "color": "#EF553B",
          "pattern": {
           "shape": ""
          }
         },
         "name": "Feminina",
         "offsetgroup": "Feminina",
         "orientation": "v",
         "showlegend": true,
         "textposition": "auto",
         "type": "bar",
         "x": [
          "Brazil",
          "Sweden",
          "United States",
          "Germany",
          "Norway",
          "Japan",
          "Nigeria",
          "China PR",
          "Canada",
          "Australia"
         ],
         "xaxis": "x",
         "y": [
          9,
          9,
          9,
          9,
          9,
          8,
          8,
          8,
          7,
          7
         ],
         "yaxis": "y"
        }
       ],
       "layout": {
        "barmode": "relative",
        "legend": {
         "title": {
          "text": "copa"
         },
         "tracegroupgap": 0
        },
        "template": {
         "data": {
          "bar": [
           {
            "error_x": {
             "color": "#f2f5fa"
            },
            "error_y": {
             "color": "#f2f5fa"
            },
            "marker": {
             "line": {
              "color": "rgb(17,17,17)",
              "width": 0.5
             },
             "pattern": {
              "fillmode": "overlay",
              "size": 10,
              "solidity": 0.2
             }
            },
            "type": "bar"
           }
          ],
          "barpolar": [
           {
            "marker": {
             "line": {
              "color": "rgb(17,17,17)",
              "width": 0.5
             },
             "pattern": {
              "fillmode": "overlay",
              "size": 10,
              "solidity": 0.2
             }
            },
            "type": "barpolar"
           }
          ],
          "carpet": [
           {
            "aaxis": {
             "endlinecolor": "#A2B1C6",
             "gridcolor": "#506784",
             "linecolor": "#506784",
             "minorgridcolor": "#506784",
             "startlinecolor": "#A2B1C6"
            },
            "baxis": {
             "endlinecolor": "#A2B1C6",
             "gridcolor": "#506784",
             "linecolor": "#506784",
             "minorgridcolor": "#506784",
             "startlinecolor": "#A2B1C6"
            },
            "type": "carpet"
           }
          ],
          "choropleth": [
           {
            "colorbar": {
             "outlinewidth": 0,
             "ticks": ""
            },
            "type": "choropleth"
           }
          ],
          "contour": [
           {
            "colorbar": {
             "outlinewidth": 0,
             "ticks": ""
            },
            "colorscale": [
             [
              0,
              "#0d0887"
             ],
             [
              0.1111111111111111,
              "#46039f"
             ],
             [
              0.2222222222222222,
              "#7201a8"
             ],
             [
              0.3333333333333333,
              "#9c179e"
             ],
             [
              0.4444444444444444,
              "#bd3786"
             ],
             [
              0.5555555555555556,
              "#d8576b"
             ],
             [
              0.6666666666666666,
              "#ed7953"
             ],
             [
              0.7777777777777778,
              "#fb9f3a"
             ],
             [
              0.8888888888888888,
              "#fdca26"
             ],
             [
              1,
              "#f0f921"
             ]
            ],
            "type": "contour"
           }
          ],
          "contourcarpet": [
           {
            "colorbar": {
             "outlinewidth": 0,
             "ticks": ""
            },
            "type": "contourcarpet"
           }
          ],
          "heatmap": [
           {
            "colorbar": {
             "outlinewidth": 0,
             "ticks": ""
            },
            "colorscale": [
             [
              0,
              "#0d0887"
             ],
             [
              0.1111111111111111,
              "#46039f"
             ],
             [
              0.2222222222222222,
              "#7201a8"
             ],
             [
              0.3333333333333333,
              "#9c179e"
             ],
             [
              0.4444444444444444,
              "#bd3786"
             ],
             [
              0.5555555555555556,
              "#d8576b"
             ],
             [
              0.6666666666666666,
              "#ed7953"
             ],
             [
              0.7777777777777778,
              "#fb9f3a"
             ],
             [
              0.8888888888888888,
              "#fdca26"
             ],
             [
              1,
              "#f0f921"
             ]
            ],
            "type": "heatmap"
           }
          ],
          "heatmapgl": [
           {
            "colorbar": {
             "outlinewidth": 0,
             "ticks": ""
            },
            "colorscale": [
             [
              0,
              "#0d0887"
             ],
             [
              0.1111111111111111,
              "#46039f"
             ],
             [
              0.2222222222222222,
              "#7201a8"
             ],
             [
              0.3333333333333333,
              "#9c179e"
             ],
             [
              0.4444444444444444,
              "#bd3786"
             ],
             [
              0.5555555555555556,
              "#d8576b"
             ],
             [
              0.6666666666666666,
              "#ed7953"
             ],
             [
              0.7777777777777778,
              "#fb9f3a"
             ],
             [
              0.8888888888888888,
              "#fdca26"
             ],
             [
              1,
              "#f0f921"
             ]
            ],
            "type": "heatmapgl"
           }
          ],
          "histogram": [
           {
            "marker": {
             "pattern": {
              "fillmode": "overlay",
              "size": 10,
              "solidity": 0.2
             }
            },
            "type": "histogram"
           }
          ],
          "histogram2d": [
           {
            "colorbar": {
             "outlinewidth": 0,
             "ticks": ""
            },
            "colorscale": [
             [
              0,
              "#0d0887"
             ],
             [
              0.1111111111111111,
              "#46039f"
             ],
             [
              0.2222222222222222,
              "#7201a8"
             ],
             [
              0.3333333333333333,
              "#9c179e"
             ],
             [
              0.4444444444444444,
              "#bd3786"
             ],
             [
              0.5555555555555556,
              "#d8576b"
             ],
             [
              0.6666666666666666,
              "#ed7953"
             ],
             [
              0.7777777777777778,
              "#fb9f3a"
             ],
             [
              0.8888888888888888,
              "#fdca26"
             ],
             [
              1,
              "#f0f921"
             ]
            ],
            "type": "histogram2d"
           }
          ],
          "histogram2dcontour": [
           {
            "colorbar": {
             "outlinewidth": 0,
             "ticks": ""
            },
            "colorscale": [
             [
              0,
              "#0d0887"
             ],
             [
              0.1111111111111111,
              "#46039f"
             ],
             [
              0.2222222222222222,
              "#7201a8"
             ],
             [
              0.3333333333333333,
              "#9c179e"
             ],
             [
              0.4444444444444444,
              "#bd3786"
             ],
             [
              0.5555555555555556,
              "#d8576b"
             ],
             [
              0.6666666666666666,
              "#ed7953"
             ],
             [
              0.7777777777777778,
              "#fb9f3a"
             ],
             [
              0.8888888888888888,
              "#fdca26"
             ],
             [
              1,
              "#f0f921"
             ]
            ],
            "type": "histogram2dcontour"
           }
          ],
          "mesh3d": [
           {
            "colorbar": {
             "outlinewidth": 0,
             "ticks": ""
            },
            "type": "mesh3d"
           }
          ],
          "parcoords": [
           {
            "line": {
             "colorbar": {
              "outlinewidth": 0,
              "ticks": ""
             }
            },
            "type": "parcoords"
           }
          ],
          "pie": [
           {
            "automargin": true,
            "type": "pie"
           }
          ],
          "scatter": [
           {
            "marker": {
             "line": {
              "color": "#283442"
             }
            },
            "type": "scatter"
           }
          ],
          "scatter3d": [
           {
            "line": {
             "colorbar": {
              "outlinewidth": 0,
              "ticks": ""
             }
            },
            "marker": {
             "colorbar": {
              "outlinewidth": 0,
              "ticks": ""
             }
            },
            "type": "scatter3d"
           }
          ],
          "scattercarpet": [
           {
            "marker": {
             "colorbar": {
              "outlinewidth": 0,
              "ticks": ""
             }
            },
            "type": "scattercarpet"
           }
          ],
          "scattergeo": [
           {
            "marker": {
             "colorbar": {
              "outlinewidth": 0,
              "ticks": ""
             }
            },
            "type": "scattergeo"
           }
          ],
          "scattergl": [
           {
            "marker": {
             "line": {
              "color": "#283442"
             }
            },
            "type": "scattergl"
           }
          ],
          "scattermapbox": [
           {
            "marker": {
             "colorbar": {
              "outlinewidth": 0,
              "ticks": ""
             }
            },
            "type": "scattermapbox"
           }
          ],
          "scatterpolar": [
           {
            "marker": {
             "colorbar": {
              "outlinewidth": 0,
              "ticks": ""
             }
            },
            "type": "scatterpolar"
           }
          ],
          "scatterpolargl": [
           {
            "marker": {
             "colorbar": {
              "outlinewidth": 0,
              "ticks": ""
             }
            },
            "type": "scatterpolargl"
           }
          ],
          "scatterternary": [
           {
            "marker": {
             "colorbar": {
              "outlinewidth": 0,
              "ticks": ""
             }
            },
            "type": "scatterternary"
           }
          ],
          "surface": [
           {
            "colorbar": {
             "outlinewidth": 0,
             "ticks": ""
            },
            "colorscale": [
             [
              0,
              "#0d0887"
             ],
             [
              0.1111111111111111,
              "#46039f"
             ],
             [
              0.2222222222222222,
              "#7201a8"
             ],
             [
              0.3333333333333333,
              "#9c179e"
             ],
             [
              0.4444444444444444,
              "#bd3786"
             ],
             [
              0.5555555555555556,
              "#d8576b"
             ],
             [
              0.6666666666666666,
              "#ed7953"
             ],
             [
              0.7777777777777778,
              "#fb9f3a"
             ],
             [
              0.8888888888888888,
              "#fdca26"
             ],
             [
              1,
              "#f0f921"
             ]
            ],
            "type": "surface"
           }
          ],
          "table": [
           {
            "cells": {
             "fill": {
              "color": "#506784"
             },
             "line": {
              "color": "rgb(17,17,17)"
             }
            },
            "header": {
             "fill": {
              "color": "#2a3f5f"
             },
             "line": {
              "color": "rgb(17,17,17)"
             }
            },
            "type": "table"
           }
          ]
         },
         "layout": {
          "annotationdefaults": {
           "arrowcolor": "#f2f5fa",
           "arrowhead": 0,
           "arrowwidth": 1
          },
          "autotypenumbers": "strict",
          "coloraxis": {
           "colorbar": {
            "outlinewidth": 0,
            "ticks": ""
           }
          },
          "colorscale": {
           "diverging": [
            [
             0,
             "#8e0152"
            ],
            [
             0.1,
             "#c51b7d"
            ],
            [
             0.2,
             "#de77ae"
            ],
            [
             0.3,
             "#f1b6da"
            ],
            [
             0.4,
             "#fde0ef"
            ],
            [
             0.5,
             "#f7f7f7"
            ],
            [
             0.6,
             "#e6f5d0"
            ],
            [
             0.7,
             "#b8e186"
            ],
            [
             0.8,
             "#7fbc41"
            ],
            [
             0.9,
             "#4d9221"
            ],
            [
             1,
             "#276419"
            ]
           ],
           "sequential": [
            [
             0,
             "#0d0887"
            ],
            [
             0.1111111111111111,
             "#46039f"
            ],
            [
             0.2222222222222222,
             "#7201a8"
            ],
            [
             0.3333333333333333,
             "#9c179e"
            ],
            [
             0.4444444444444444,
             "#bd3786"
            ],
            [
             0.5555555555555556,
             "#d8576b"
            ],
            [
             0.6666666666666666,
             "#ed7953"
            ],
            [
             0.7777777777777778,
             "#fb9f3a"
            ],
            [
             0.8888888888888888,
             "#fdca26"
            ],
            [
             1,
             "#f0f921"
            ]
           ],
           "sequentialminus": [
            [
             0,
             "#0d0887"
            ],
            [
             0.1111111111111111,
             "#46039f"
            ],
            [
             0.2222222222222222,
             "#7201a8"
            ],
            [
             0.3333333333333333,
             "#9c179e"
            ],
            [
             0.4444444444444444,
             "#bd3786"
            ],
            [
             0.5555555555555556,
             "#d8576b"
            ],
            [
             0.6666666666666666,
             "#ed7953"
            ],
            [
             0.7777777777777778,
             "#fb9f3a"
            ],
            [
             0.8888888888888888,
             "#fdca26"
            ],
            [
             1,
             "#f0f921"
            ]
           ]
          },
          "colorway": [
           "#636efa",
           "#EF553B",
           "#00cc96",
           "#ab63fa",
           "#FFA15A",
           "#19d3f3",
           "#FF6692",
           "#B6E880",
           "#FF97FF",
           "#FECB52"
          ],
          "font": {
           "color": "#f2f5fa"
          },
          "geo": {
           "bgcolor": "rgb(17,17,17)",
           "lakecolor": "rgb(17,17,17)",
           "landcolor": "rgb(17,17,17)",
           "showlakes": true,
           "showland": true,
           "subunitcolor": "#506784"
          },
          "hoverlabel": {
           "align": "left"
          },
          "hovermode": "closest",
          "mapbox": {
           "style": "dark"
          },
          "paper_bgcolor": "rgb(17,17,17)",
          "plot_bgcolor": "rgb(17,17,17)",
          "polar": {
           "angularaxis": {
            "gridcolor": "#506784",
            "linecolor": "#506784",
            "ticks": ""
           },
           "bgcolor": "rgb(17,17,17)",
           "radialaxis": {
            "gridcolor": "#506784",
            "linecolor": "#506784",
            "ticks": ""
           }
          },
          "scene": {
           "xaxis": {
            "backgroundcolor": "rgb(17,17,17)",
            "gridcolor": "#506784",
            "gridwidth": 2,
            "linecolor": "#506784",
            "showbackground": true,
            "ticks": "",
            "zerolinecolor": "#C8D4E3"
           },
           "yaxis": {
            "backgroundcolor": "rgb(17,17,17)",
            "gridcolor": "#506784",
            "gridwidth": 2,
            "linecolor": "#506784",
            "showbackground": true,
            "ticks": "",
            "zerolinecolor": "#C8D4E3"
           },
           "zaxis": {
            "backgroundcolor": "rgb(17,17,17)",
            "gridcolor": "#506784",
            "gridwidth": 2,
            "linecolor": "#506784",
            "showbackground": true,
            "ticks": "",
            "zerolinecolor": "#C8D4E3"
           }
          },
          "shapedefaults": {
           "line": {
            "color": "#f2f5fa"
           }
          },
          "sliderdefaults": {
           "bgcolor": "#C8D4E3",
           "bordercolor": "rgb(17,17,17)",
           "borderwidth": 1,
           "tickwidth": 0
          },
          "ternary": {
           "aaxis": {
            "gridcolor": "#506784",
            "linecolor": "#506784",
            "ticks": ""
           },
           "baxis": {
            "gridcolor": "#506784",
            "linecolor": "#506784",
            "ticks": ""
           },
           "bgcolor": "rgb(17,17,17)",
           "caxis": {
            "gridcolor": "#506784",
            "linecolor": "#506784",
            "ticks": ""
           }
          },
          "title": {
           "x": 0.05
          },
          "updatemenudefaults": {
           "bgcolor": "#506784",
           "borderwidth": 0
          },
          "xaxis": {
           "automargin": true,
           "gridcolor": "#283442",
           "linecolor": "#506784",
           "ticks": "",
           "title": {
            "standoff": 15
           },
           "zerolinecolor": "#283442",
           "zerolinewidth": 2
          },
          "yaxis": {
           "automargin": true,
           "gridcolor": "#283442",
           "linecolor": "#506784",
           "ticks": "",
           "title": {
            "standoff": 15
           },
           "zerolinecolor": "#283442",
           "zerolinewidth": 2
          }
         }
        },
        "title": {
         "text": "Número de Copas por País"
        },
        "xaxis": {
         "anchor": "y",
         "domain": [
          0,
          1
         ],
         "title": {
          "text": "pais"
         }
        },
        "yaxis": {
         "anchor": "x",
         "domain": [
          0,
          1
         ],
         "title": {
          "text": "num_copas"
         }
        }
       }
      },
      "text/html": [
       "<div>                            <div id=\"14bb4de7-a00b-4386-b828-ad5b185b63df\" class=\"plotly-graph-div\" style=\"height:525px; width:100%;\"></div>            <script type=\"text/javascript\">                require([\"plotly\"], function(Plotly) {                    window.PLOTLYENV=window.PLOTLYENV || {};                                    if (document.getElementById(\"14bb4de7-a00b-4386-b828-ad5b185b63df\")) {                    Plotly.newPlot(                        \"14bb4de7-a00b-4386-b828-ad5b185b63df\",                        [{\"alignmentgroup\":\"True\",\"customdata\":[[\"Masculina\"],[\"Masculina\"],[\"Masculina\"],[\"Masculina\"],[\"Masculina\"],[\"Masculina\"],[\"Masculina\"],[\"Masculina\"],[\"Masculina\"],[\"Masculina\"]],\"hovertemplate\":\"copa=%{customdata[0]}\\u003cbr\\u003epais=%{x}\\u003cbr\\u003enum_copas=%{y}\\u003cextra\\u003e\\u003c\\u002fextra\\u003e\",\"legendgroup\":\"Masculina\",\"marker\":{\"color\":\"#636efa\",\"pattern\":{\"shape\":\"\"}},\"name\":\"Masculina\",\"offsetgroup\":\"Masculina\",\"orientation\":\"v\",\"showlegend\":true,\"textposition\":\"auto\",\"x\":[\"Brazil\",\"Italy\",\"Argentina\",\"England\",\"Spain\",\"France\",\"Uruguay\",\"Sweden\",\"Mexico\",\"Belgium\"],\"xaxis\":\"x\",\"y\":[21,18,17,16,16,15,14,12,11,10],\"yaxis\":\"y\",\"type\":\"bar\"},{\"alignmentgroup\":\"True\",\"customdata\":[[\"Feminina\"],[\"Feminina\"],[\"Feminina\"],[\"Feminina\"],[\"Feminina\"],[\"Feminina\"],[\"Feminina\"],[\"Feminina\"],[\"Feminina\"],[\"Feminina\"]],\"hovertemplate\":\"copa=%{customdata[0]}\\u003cbr\\u003epais=%{x}\\u003cbr\\u003enum_copas=%{y}\\u003cextra\\u003e\\u003c\\u002fextra\\u003e\",\"legendgroup\":\"Feminina\",\"marker\":{\"color\":\"#EF553B\",\"pattern\":{\"shape\":\"\"}},\"name\":\"Feminina\",\"offsetgroup\":\"Feminina\",\"orientation\":\"v\",\"showlegend\":true,\"textposition\":\"auto\",\"x\":[\"Brazil\",\"Sweden\",\"United States\",\"Germany\",\"Norway\",\"Japan\",\"Nigeria\",\"China PR\",\"Canada\",\"Australia\"],\"xaxis\":\"x\",\"y\":[9,9,9,9,9,8,8,8,7,7],\"yaxis\":\"y\",\"type\":\"bar\"}],                        {\"template\":{\"data\":{\"histogram2dcontour\":[{\"type\":\"histogram2dcontour\",\"colorbar\":{\"outlinewidth\":0,\"ticks\":\"\"},\"colorscale\":[[0.0,\"#0d0887\"],[0.1111111111111111,\"#46039f\"],[0.2222222222222222,\"#7201a8\"],[0.3333333333333333,\"#9c179e\"],[0.4444444444444444,\"#bd3786\"],[0.5555555555555556,\"#d8576b\"],[0.6666666666666666,\"#ed7953\"],[0.7777777777777778,\"#fb9f3a\"],[0.8888888888888888,\"#fdca26\"],[1.0,\"#f0f921\"]]}],\"choropleth\":[{\"type\":\"choropleth\",\"colorbar\":{\"outlinewidth\":0,\"ticks\":\"\"}}],\"histogram2d\":[{\"type\":\"histogram2d\",\"colorbar\":{\"outlinewidth\":0,\"ticks\":\"\"},\"colorscale\":[[0.0,\"#0d0887\"],[0.1111111111111111,\"#46039f\"],[0.2222222222222222,\"#7201a8\"],[0.3333333333333333,\"#9c179e\"],[0.4444444444444444,\"#bd3786\"],[0.5555555555555556,\"#d8576b\"],[0.6666666666666666,\"#ed7953\"],[0.7777777777777778,\"#fb9f3a\"],[0.8888888888888888,\"#fdca26\"],[1.0,\"#f0f921\"]]}],\"heatmap\":[{\"type\":\"heatmap\",\"colorbar\":{\"outlinewidth\":0,\"ticks\":\"\"},\"colorscale\":[[0.0,\"#0d0887\"],[0.1111111111111111,\"#46039f\"],[0.2222222222222222,\"#7201a8\"],[0.3333333333333333,\"#9c179e\"],[0.4444444444444444,\"#bd3786\"],[0.5555555555555556,\"#d8576b\"],[0.6666666666666666,\"#ed7953\"],[0.7777777777777778,\"#fb9f3a\"],[0.8888888888888888,\"#fdca26\"],[1.0,\"#f0f921\"]]}],\"heatmapgl\":[{\"type\":\"heatmapgl\",\"colorbar\":{\"outlinewidth\":0,\"ticks\":\"\"},\"colorscale\":[[0.0,\"#0d0887\"],[0.1111111111111111,\"#46039f\"],[0.2222222222222222,\"#7201a8\"],[0.3333333333333333,\"#9c179e\"],[0.4444444444444444,\"#bd3786\"],[0.5555555555555556,\"#d8576b\"],[0.6666666666666666,\"#ed7953\"],[0.7777777777777778,\"#fb9f3a\"],[0.8888888888888888,\"#fdca26\"],[1.0,\"#f0f921\"]]}],\"contourcarpet\":[{\"type\":\"contourcarpet\",\"colorbar\":{\"outlinewidth\":0,\"ticks\":\"\"}}],\"contour\":[{\"type\":\"contour\",\"colorbar\":{\"outlinewidth\":0,\"ticks\":\"\"},\"colorscale\":[[0.0,\"#0d0887\"],[0.1111111111111111,\"#46039f\"],[0.2222222222222222,\"#7201a8\"],[0.3333333333333333,\"#9c179e\"],[0.4444444444444444,\"#bd3786\"],[0.5555555555555556,\"#d8576b\"],[0.6666666666666666,\"#ed7953\"],[0.7777777777777778,\"#fb9f3a\"],[0.8888888888888888,\"#fdca26\"],[1.0,\"#f0f921\"]]}],\"surface\":[{\"type\":\"surface\",\"colorbar\":{\"outlinewidth\":0,\"ticks\":\"\"},\"colorscale\":[[0.0,\"#0d0887\"],[0.1111111111111111,\"#46039f\"],[0.2222222222222222,\"#7201a8\"],[0.3333333333333333,\"#9c179e\"],[0.4444444444444444,\"#bd3786\"],[0.5555555555555556,\"#d8576b\"],[0.6666666666666666,\"#ed7953\"],[0.7777777777777778,\"#fb9f3a\"],[0.8888888888888888,\"#fdca26\"],[1.0,\"#f0f921\"]]}],\"mesh3d\":[{\"type\":\"mesh3d\",\"colorbar\":{\"outlinewidth\":0,\"ticks\":\"\"}}],\"scatter\":[{\"marker\":{\"line\":{\"color\":\"#283442\"}},\"type\":\"scatter\"}],\"parcoords\":[{\"type\":\"parcoords\",\"line\":{\"colorbar\":{\"outlinewidth\":0,\"ticks\":\"\"}}}],\"scatterpolargl\":[{\"type\":\"scatterpolargl\",\"marker\":{\"colorbar\":{\"outlinewidth\":0,\"ticks\":\"\"}}}],\"bar\":[{\"error_x\":{\"color\":\"#f2f5fa\"},\"error_y\":{\"color\":\"#f2f5fa\"},\"marker\":{\"line\":{\"color\":\"rgb(17,17,17)\",\"width\":0.5},\"pattern\":{\"fillmode\":\"overlay\",\"size\":10,\"solidity\":0.2}},\"type\":\"bar\"}],\"scattergeo\":[{\"type\":\"scattergeo\",\"marker\":{\"colorbar\":{\"outlinewidth\":0,\"ticks\":\"\"}}}],\"scatterpolar\":[{\"type\":\"scatterpolar\",\"marker\":{\"colorbar\":{\"outlinewidth\":0,\"ticks\":\"\"}}}],\"histogram\":[{\"marker\":{\"pattern\":{\"fillmode\":\"overlay\",\"size\":10,\"solidity\":0.2}},\"type\":\"histogram\"}],\"scattergl\":[{\"marker\":{\"line\":{\"color\":\"#283442\"}},\"type\":\"scattergl\"}],\"scatter3d\":[{\"type\":\"scatter3d\",\"line\":{\"colorbar\":{\"outlinewidth\":0,\"ticks\":\"\"}},\"marker\":{\"colorbar\":{\"outlinewidth\":0,\"ticks\":\"\"}}}],\"scattermapbox\":[{\"type\":\"scattermapbox\",\"marker\":{\"colorbar\":{\"outlinewidth\":0,\"ticks\":\"\"}}}],\"scatterternary\":[{\"type\":\"scatterternary\",\"marker\":{\"colorbar\":{\"outlinewidth\":0,\"ticks\":\"\"}}}],\"scattercarpet\":[{\"type\":\"scattercarpet\",\"marker\":{\"colorbar\":{\"outlinewidth\":0,\"ticks\":\"\"}}}],\"carpet\":[{\"aaxis\":{\"endlinecolor\":\"#A2B1C6\",\"gridcolor\":\"#506784\",\"linecolor\":\"#506784\",\"minorgridcolor\":\"#506784\",\"startlinecolor\":\"#A2B1C6\"},\"baxis\":{\"endlinecolor\":\"#A2B1C6\",\"gridcolor\":\"#506784\",\"linecolor\":\"#506784\",\"minorgridcolor\":\"#506784\",\"startlinecolor\":\"#A2B1C6\"},\"type\":\"carpet\"}],\"table\":[{\"cells\":{\"fill\":{\"color\":\"#506784\"},\"line\":{\"color\":\"rgb(17,17,17)\"}},\"header\":{\"fill\":{\"color\":\"#2a3f5f\"},\"line\":{\"color\":\"rgb(17,17,17)\"}},\"type\":\"table\"}],\"barpolar\":[{\"marker\":{\"line\":{\"color\":\"rgb(17,17,17)\",\"width\":0.5},\"pattern\":{\"fillmode\":\"overlay\",\"size\":10,\"solidity\":0.2}},\"type\":\"barpolar\"}],\"pie\":[{\"automargin\":true,\"type\":\"pie\"}]},\"layout\":{\"autotypenumbers\":\"strict\",\"colorway\":[\"#636efa\",\"#EF553B\",\"#00cc96\",\"#ab63fa\",\"#FFA15A\",\"#19d3f3\",\"#FF6692\",\"#B6E880\",\"#FF97FF\",\"#FECB52\"],\"font\":{\"color\":\"#f2f5fa\"},\"hovermode\":\"closest\",\"hoverlabel\":{\"align\":\"left\"},\"paper_bgcolor\":\"rgb(17,17,17)\",\"plot_bgcolor\":\"rgb(17,17,17)\",\"polar\":{\"bgcolor\":\"rgb(17,17,17)\",\"angularaxis\":{\"gridcolor\":\"#506784\",\"linecolor\":\"#506784\",\"ticks\":\"\"},\"radialaxis\":{\"gridcolor\":\"#506784\",\"linecolor\":\"#506784\",\"ticks\":\"\"}},\"ternary\":{\"bgcolor\":\"rgb(17,17,17)\",\"aaxis\":{\"gridcolor\":\"#506784\",\"linecolor\":\"#506784\",\"ticks\":\"\"},\"baxis\":{\"gridcolor\":\"#506784\",\"linecolor\":\"#506784\",\"ticks\":\"\"},\"caxis\":{\"gridcolor\":\"#506784\",\"linecolor\":\"#506784\",\"ticks\":\"\"}},\"coloraxis\":{\"colorbar\":{\"outlinewidth\":0,\"ticks\":\"\"}},\"colorscale\":{\"sequential\":[[0.0,\"#0d0887\"],[0.1111111111111111,\"#46039f\"],[0.2222222222222222,\"#7201a8\"],[0.3333333333333333,\"#9c179e\"],[0.4444444444444444,\"#bd3786\"],[0.5555555555555556,\"#d8576b\"],[0.6666666666666666,\"#ed7953\"],[0.7777777777777778,\"#fb9f3a\"],[0.8888888888888888,\"#fdca26\"],[1.0,\"#f0f921\"]],\"sequentialminus\":[[0.0,\"#0d0887\"],[0.1111111111111111,\"#46039f\"],[0.2222222222222222,\"#7201a8\"],[0.3333333333333333,\"#9c179e\"],[0.4444444444444444,\"#bd3786\"],[0.5555555555555556,\"#d8576b\"],[0.6666666666666666,\"#ed7953\"],[0.7777777777777778,\"#fb9f3a\"],[0.8888888888888888,\"#fdca26\"],[1.0,\"#f0f921\"]],\"diverging\":[[0,\"#8e0152\"],[0.1,\"#c51b7d\"],[0.2,\"#de77ae\"],[0.3,\"#f1b6da\"],[0.4,\"#fde0ef\"],[0.5,\"#f7f7f7\"],[0.6,\"#e6f5d0\"],[0.7,\"#b8e186\"],[0.8,\"#7fbc41\"],[0.9,\"#4d9221\"],[1,\"#276419\"]]},\"xaxis\":{\"gridcolor\":\"#283442\",\"linecolor\":\"#506784\",\"ticks\":\"\",\"title\":{\"standoff\":15},\"zerolinecolor\":\"#283442\",\"automargin\":true,\"zerolinewidth\":2},\"yaxis\":{\"gridcolor\":\"#283442\",\"linecolor\":\"#506784\",\"ticks\":\"\",\"title\":{\"standoff\":15},\"zerolinecolor\":\"#283442\",\"automargin\":true,\"zerolinewidth\":2},\"scene\":{\"xaxis\":{\"backgroundcolor\":\"rgb(17,17,17)\",\"gridcolor\":\"#506784\",\"linecolor\":\"#506784\",\"showbackground\":true,\"ticks\":\"\",\"zerolinecolor\":\"#C8D4E3\",\"gridwidth\":2},\"yaxis\":{\"backgroundcolor\":\"rgb(17,17,17)\",\"gridcolor\":\"#506784\",\"linecolor\":\"#506784\",\"showbackground\":true,\"ticks\":\"\",\"zerolinecolor\":\"#C8D4E3\",\"gridwidth\":2},\"zaxis\":{\"backgroundcolor\":\"rgb(17,17,17)\",\"gridcolor\":\"#506784\",\"linecolor\":\"#506784\",\"showbackground\":true,\"ticks\":\"\",\"zerolinecolor\":\"#C8D4E3\",\"gridwidth\":2}},\"shapedefaults\":{\"line\":{\"color\":\"#f2f5fa\"}},\"annotationdefaults\":{\"arrowcolor\":\"#f2f5fa\",\"arrowhead\":0,\"arrowwidth\":1},\"geo\":{\"bgcolor\":\"rgb(17,17,17)\",\"landcolor\":\"rgb(17,17,17)\",\"subunitcolor\":\"#506784\",\"showland\":true,\"showlakes\":true,\"lakecolor\":\"rgb(17,17,17)\"},\"title\":{\"x\":0.05},\"updatemenudefaults\":{\"bgcolor\":\"#506784\",\"borderwidth\":0},\"sliderdefaults\":{\"bgcolor\":\"#C8D4E3\",\"borderwidth\":1,\"bordercolor\":\"rgb(17,17,17)\",\"tickwidth\":0},\"mapbox\":{\"style\":\"dark\"}}},\"xaxis\":{\"anchor\":\"y\",\"domain\":[0.0,1.0],\"title\":{\"text\":\"pais\"}},\"yaxis\":{\"anchor\":\"x\",\"domain\":[0.0,1.0],\"title\":{\"text\":\"num_copas\"}},\"legend\":{\"title\":{\"text\":\"copa\"},\"tracegroupgap\":0},\"title\":{\"text\":\"N\\u00famero de Copas por Pa\\u00eds\"},\"barmode\":\"relative\"},                        {\"responsive\": true}                    ).then(function(){\n",
       "                            \n",
       "var gd = document.getElementById('14bb4de7-a00b-4386-b828-ad5b185b63df');\n",
       "var x = new MutationObserver(function (mutations, observer) {{\n",
       "        var display = window.getComputedStyle(gd).display;\n",
       "        if (!display || display === 'none') {{\n",
       "            console.log([gd, 'removed!']);\n",
       "            Plotly.purge(gd);\n",
       "            observer.disconnect();\n",
       "        }}\n",
       "}});\n",
       "\n",
       "// Listen for the removal of the full notebook cells\n",
       "var notebookContainer = gd.closest('#notebook-container');\n",
       "if (notebookContainer) {{\n",
       "    x.observe(notebookContainer, {childList: true});\n",
       "}}\n",
       "\n",
       "// Listen for the clearing of the current output cell\n",
       "var outputEl = gd.closest('.output');\n",
       "if (outputEl) {{\n",
       "    x.observe(outputEl, {childList: true});\n",
       "}}\n",
       "\n",
       "                        })                };                });            </script>        </div>"
      ]
     },
     "metadata": {},
     "output_type": "display_data"
    }
   ],
   "source": [
    "#### solução com plotly\n",
    "\n",
    "#unindo o dataframe\n",
    "top10 = pd.concat([top10_mas, top10_fem])\n",
    "\n",
    "fig = px.bar(top10, x=\"pais\", y=\"num_copas\", color='copa', hover_data=['copa', 'num_copas'], title=\"Número de Copas por País\")\n",
    "fig.show()"
   ]
  },
  {
   "cell_type": "markdown",
   "metadata": {},
   "source": [
    "#### Q5.\n",
    "\n",
    "Vamos fazer um compilado com as estatísticas históricas de copas do mundo!\n",
    "\n",
    "Com a biblioteca de sua preferência você deve criar 4 subplots organizados em um grid de 2 linhas e 2 colunas. Eles devem conter os seguintes gráficos:\n",
    "* Linha 1, coluna 1: Gráfico de barras com a quantidade de jogos que aconteceram por ano\n",
    "* Linha 1, coluna 2: Gráfico de área (referências a seguir) com o total de gols por ano, separando as informações de `gols_1` e `gols_2` para distinguir gols em casa e do time visitante.\n",
    "* Linha 2, coluna 1: Gráfico de área com o total de cartões por ano, separando as informações de cartões amarelos e cartões vermelhos, mas agregando cartões do time 1 ou time 2. Ou seja, uma área com `cartao_amarelo_1 + cartao_amarelo_2` e outra área com `cartao_vermelho_1 + cartao_vermelho_2`.\n",
    "* Linha 2, coluna 2: Gráfico de barras com o total de gols contra por ano, somando `gols_contra_1` e `gols_contra_2`.\n",
    "\n",
    "Referências sobre gráfico de área\n",
    "* Matplotlib: https://matplotlib.org/stable/gallery/lines_bars_and_markers/stackplot_demo.html#sphx-glr-gallery-lines-bars-and-markers-stackplot-demo-py\n",
    "* Pandas + Matplotlib: https://pandas.pydata.org/docs/reference/api/pandas.DataFrame.plot.area.html\n",
    "* Seaborn: https://seaborn.pydata.org/generated/seaborn.objects.Area.html\n",
    "* Plotly: https://plotly.com/python/filled-area-plots/"
   ]
  },
  {
   "cell_type": "code",
   "execution_count": 8,
   "metadata": {
    "vscode": {
     "languageId": "plaintext"
    }
   },
   "outputs": [],
   "source": [
    "#SUBPLOTS\n",
    "from plotly.subplots import make_subplots\n",
    "import plotly.graph_objects as go\n",
    "import plotly.express as px"
   ]
  },
  {
   "cell_type": "code",
   "execution_count": 9,
   "metadata": {},
   "outputs": [],
   "source": [
    "#GRAFICO 1\n",
    "\n",
    "wc_ano = wc\n",
    "wc_ano.rename(columns={'time_1': 'quantidade_jogos'}, inplace=True) #altera o nome de alguma coluna\n",
    "wc_ano = wc_ano.groupby(['ano', 'país_sede'])['quantidade_jogos'].count() #conta quantas linhas tem o mesmo ano\n",
    "#conserva as duas colunas que viraram index\n",
    "\n",
    "wc_ano = wc_ano.reset_index() #retira as colunas 'ano' e 'país_sede' como index\n",
    "\n",
    "copa = wc_ano['ano'].apply( lambda x: 'Masculina' if x % 2 == 0 else 'Feminina').astype('string') \n",
    "wc_ano['copa'] = copa #adicionando uma coluna para ver se é copa M ou F"
   ]
  },
  {
   "cell_type": "code",
   "execution_count": 10,
   "metadata": {},
   "outputs": [],
   "source": [
    "#GRAFICO 2\n",
    "\n",
    "#TIME 1\n",
    "wc_gols = wc[['ano', 'gols_1']]\n",
    "\n",
    "wc_gols = wc_gols.groupby(['ano']).sum()\n",
    "\n",
    "wc_gols = wc_gols.reset_index()\n",
    "\n",
    "gols_home = wc_gols['ano'].apply( lambda x: 'home').astype('string') \n",
    "wc_gols['time'] = gols_home \n",
    "\n",
    "wc_gols.rename(columns={'gols_1': 'gols'}, inplace=True)\n",
    "\n",
    "#TIME 2\n",
    "\n",
    "wc_gols2 = wc[['ano', 'gols_2']]\n",
    "\n",
    "wc_gols2 = wc_gols2.groupby(['ano']).sum()\n",
    "\n",
    "wc_gols2 = wc_gols2.reset_index()\n",
    "\n",
    "gols_away = wc_gols2['ano'].apply( lambda x: 'away').astype('string') \n",
    "wc_gols2['time'] = gols_away \n",
    "\n",
    "wc_gols2.rename(columns={'gols_2': 'gols'}, inplace=True)\n",
    "\n",
    "#TOTAL\n",
    "gols = pd.concat((wc_gols,wc_gols2)).reset_index()\n"
   ]
  },
  {
   "cell_type": "code",
   "execution_count": 11,
   "metadata": {
    "scrolled": true
   },
   "outputs": [
    {
     "data": {
      "text/html": [
       "<div>\n",
       "<style scoped>\n",
       "    .dataframe tbody tr th:only-of-type {\n",
       "        vertical-align: middle;\n",
       "    }\n",
       "\n",
       "    .dataframe tbody tr th {\n",
       "        vertical-align: top;\n",
       "    }\n",
       "\n",
       "    .dataframe thead th {\n",
       "        text-align: right;\n",
       "    }\n",
       "</style>\n",
       "<table border=\"1\" class=\"dataframe\">\n",
       "  <thead>\n",
       "    <tr style=\"text-align: right;\">\n",
       "      <th></th>\n",
       "      <th>index</th>\n",
       "      <th>ano</th>\n",
       "      <th>total_cartao</th>\n",
       "      <th>cartao</th>\n",
       "    </tr>\n",
       "  </thead>\n",
       "  <tbody>\n",
       "    <tr>\n",
       "      <th>0</th>\n",
       "      <td>0</td>\n",
       "      <td>1950</td>\n",
       "      <td>1.0</td>\n",
       "      <td>Amarelo</td>\n",
       "    </tr>\n",
       "    <tr>\n",
       "      <th>1</th>\n",
       "      <td>1</td>\n",
       "      <td>1962</td>\n",
       "      <td>1.0</td>\n",
       "      <td>Amarelo</td>\n",
       "    </tr>\n",
       "    <tr>\n",
       "      <th>2</th>\n",
       "      <td>2</td>\n",
       "      <td>1966</td>\n",
       "      <td>18.0</td>\n",
       "      <td>Amarelo</td>\n",
       "    </tr>\n",
       "    <tr>\n",
       "      <th>3</th>\n",
       "      <td>3</td>\n",
       "      <td>1970</td>\n",
       "      <td>31.0</td>\n",
       "      <td>Amarelo</td>\n",
       "    </tr>\n",
       "    <tr>\n",
       "      <th>4</th>\n",
       "      <td>4</td>\n",
       "      <td>1974</td>\n",
       "      <td>51.0</td>\n",
       "      <td>Amarelo</td>\n",
       "    </tr>\n",
       "    <tr>\n",
       "      <th>...</th>\n",
       "      <td>...</td>\n",
       "      <td>...</td>\n",
       "      <td>...</td>\n",
       "      <td>...</td>\n",
       "    </tr>\n",
       "    <tr>\n",
       "      <th>49</th>\n",
       "      <td>23</td>\n",
       "      <td>1978</td>\n",
       "      <td>2.0</td>\n",
       "      <td>Vermelho</td>\n",
       "    </tr>\n",
       "    <tr>\n",
       "      <th>50</th>\n",
       "      <td>24</td>\n",
       "      <td>1999</td>\n",
       "      <td>4.0</td>\n",
       "      <td>Vermelho</td>\n",
       "    </tr>\n",
       "    <tr>\n",
       "      <th>51</th>\n",
       "      <td>25</td>\n",
       "      <td>2003</td>\n",
       "      <td>1.0</td>\n",
       "      <td>Vermelho</td>\n",
       "    </tr>\n",
       "    <tr>\n",
       "      <th>52</th>\n",
       "      <td>26</td>\n",
       "      <td>2015</td>\n",
       "      <td>2.0</td>\n",
       "      <td>Vermelho</td>\n",
       "    </tr>\n",
       "    <tr>\n",
       "      <th>53</th>\n",
       "      <td>27</td>\n",
       "      <td>2019</td>\n",
       "      <td>1.0</td>\n",
       "      <td>Vermelho</td>\n",
       "    </tr>\n",
       "  </tbody>\n",
       "</table>\n",
       "<p>54 rows × 4 columns</p>\n",
       "</div>"
      ],
      "text/plain": [
       "    index   ano  total_cartao    cartao\n",
       "0       0  1950           1.0   Amarelo\n",
       "1       1  1962           1.0   Amarelo\n",
       "2       2  1966          18.0   Amarelo\n",
       "3       3  1970          31.0   Amarelo\n",
       "4       4  1974          51.0   Amarelo\n",
       "..    ...   ...           ...       ...\n",
       "49     23  1978           2.0  Vermelho\n",
       "50     24  1999           4.0  Vermelho\n",
       "51     25  2003           1.0  Vermelho\n",
       "52     26  2015           2.0  Vermelho\n",
       "53     27  2019           1.0  Vermelho\n",
       "\n",
       "[54 rows x 4 columns]"
      ]
     },
     "metadata": {},
     "output_type": "display_data"
    }
   ],
   "source": [
    "#GRAFICO 3\n",
    "\n",
    "#CARTÃO AMARELO\n",
    "\n",
    "#time1\n",
    "wc_amarelo1 = wc[['ano', 'cartao_amarelo_1']].dropna()\n",
    "\n",
    "#tratamento de dados\n",
    "wc_amarelo1[\"cartao_amarelo_1\"] = wc_amarelo1[\"cartao_amarelo_1\"].apply(lambda x: x.split(\",\"))\n",
    "\n",
    "#contando o numero de cartão\n",
    "wc_amarelo1[\"quantidade_cartao_1\"] = wc_amarelo1[\"cartao_amarelo_1\"].apply(len)\n",
    "\n",
    "#time2\n",
    "wc_amarelo2 = wc[['ano', 'cartao_amarelo_2']].dropna()\n",
    "\n",
    "wc_amarelo2[\"cartao_amarelo_2\"] = wc_amarelo2[\"cartao_amarelo_2\"].apply(lambda x: x.split(\",\"))\n",
    "\n",
    "wc_amarelo2[\"quantidade_cartao_2\"] = wc_amarelo2[\"cartao_amarelo_2\"].apply(len)\n",
    "\n",
    "\n",
    "df_amarelo1 = wc_amarelo1[['ano', 'quantidade_cartao_1']].groupby(['ano']).count()\n",
    "df_amarelo2 = wc_amarelo2[['ano', 'quantidade_cartao_2']].groupby(['ano']).count()\n",
    "amarelo_merged = pd.merge(df_amarelo1, df_amarelo2,  on='ano', how='outer')\n",
    "amarelo_merged[\"quantidade_cartao_1\"].fillna(0, inplace = True) \n",
    "amarelo_merged[\"quantidade_cartao_2\"].fillna(0, inplace = True)\n",
    "#troca os NaN por zero para não atrapalhar na operação futura\n",
    "amarelo_merged['total_amarelo'] = amarelo_merged['quantidade_cartao_1'] + amarelo_merged['quantidade_cartao_2']\n",
    "\n",
    "tipo_cartao = amarelo_merged['total_amarelo'].apply( lambda x: 'Amarelo').astype('string')\n",
    "amarelo_merged['cartao'] = tipo_cartao \n",
    "amarelo_merged.rename(columns={'total_amarelo': 'total_cartao'}, inplace=True)\n",
    "amarelo_merged = amarelo_merged[['total_cartao', 'cartao']]\n",
    "amarelo_merged = amarelo_merged.reset_index()\n",
    "\n",
    "#CARTÃO VERMELHO\n",
    "\n",
    "wc_vermelho1 = wc[['ano', 'cartao_vermelho_1']].dropna()\n",
    "wc_vermelho1[\"cartao_vermelho_1\"] = wc_vermelho1[\"cartao_vermelho_1\"].apply(lambda x: x.split(\",\"))\n",
    "wc_vermelho1[\"quantidade_cartao_1\"] = wc_vermelho1[\"cartao_vermelho_1\"].apply(len)\n",
    "\n",
    "#time2\n",
    "wc_vermelho2 = wc[['ano', 'cartao_vermelho_2']].dropna()\n",
    "wc_vermelho2[\"cartao_amarelo_2\"] = wc_vermelho2[\"cartao_vermelho_2\"].apply(lambda x: x.split(\",\"))\n",
    "wc_vermelho2[\"quantidade_cartao_2\"] = wc_vermelho2[\"cartao_vermelho_2\"].apply(len)\n",
    "\n",
    "\n",
    "df_vermelho1 = wc_vermelho1[['ano', 'quantidade_cartao_1']].groupby(['ano']).count()\n",
    "df_vermelho2 = wc_vermelho2[['ano', 'quantidade_cartao_2']].groupby(['ano']).count()\n",
    "vermelho_merged = pd.merge(df_vermelho1, df_vermelho2,  on='ano', how='outer')\n",
    "vermelho_merged[\"quantidade_cartao_1\"].fillna(0, inplace = True) \n",
    "vermelho_merged[\"quantidade_cartao_2\"].fillna(0, inplace = True)\n",
    "vermelho_merged['total_vermelho'] = vermelho_merged['quantidade_cartao_1'] + vermelho_merged['quantidade_cartao_2']\n",
    "\n",
    "tipo_cartao = vermelho_merged['total_vermelho'].apply( lambda x: 'Vermelho').astype('string')\n",
    "vermelho_merged['cartao'] = tipo_cartao \n",
    "vermelho_merged.rename(columns={'total_vermelho': 'total_cartao'}, inplace=True)\n",
    "vermelho_merged = vermelho_merged[['total_cartao', 'cartao']]\n",
    "vermelho_merged = vermelho_merged.reset_index()\n",
    "\n",
    "\n",
    "#INTERLUDIO\n",
    "cartoes = pd.concat((amarelo_merged,vermelho_merged)).reset_index()\n",
    "display(cartoes)\n"
   ]
  },
  {
   "cell_type": "code",
   "execution_count": 12,
   "metadata": {
    "scrolled": true
   },
   "outputs": [],
   "source": [
    "#GRAFICO 4\n",
    "\n",
    "\n",
    "#Tratamento de dados\n",
    "#TIME 1\n",
    "wc_golsContra = wc[['ano', 'gols_1_contra']].dropna()\n",
    "#retira os jogos sem gols contra no time 1\n",
    "\n",
    "wc_golsContra['gols_1_contra'] = wc_golsContra['gols_1_contra'].apply(lambda x: x.split(\"|\"))\n",
    "#separa cada gol\n",
    "\n",
    "wc_golsContra['gols_1_contra'] = wc_golsContra['gols_1_contra'].apply(len)\n",
    "#conta quantos gols foram no jogo\n",
    "\n",
    "wc_golsContra = wc_golsContra.groupby(['ano']).count()\n",
    "#Agrupa por ano\n",
    "\n",
    "\n",
    "#TIME 2\n",
    "wc_golsContra2 = wc[['ano', 'gols_2_contra']].dropna()\n",
    "#retira os jogos sem gols contra no time 2\n",
    "\n",
    "wc_golsContra2['gols_2_contra'] = wc_golsContra2['gols_2_contra'].apply(lambda x: x.split(\"|\"))\n",
    "wc_golsContra2['gols_2_contra'] = wc_golsContra2['gols_2_contra'].apply(len)\n",
    "wc_golsContra2 = wc_golsContra2.groupby(['ano']).count()\n",
    "\n",
    "wc_golsContra2 = wc_golsContra2.reset_index() #retira as colunas 'ano' como index\n",
    "\n",
    "\n",
    "#TOTAL\n",
    "df_merged = pd.merge(wc_golsContra, wc_golsContra2,  on='ano', how='outer')\n",
    "#coloca na mesma linha todos os anos, caso não tenha correspondência, vira NaN\n",
    "df_merged[\"gols_1_contra\"].fillna(0, inplace = True) \n",
    "df_merged[\"gols_2_contra\"].fillna(0, inplace = True)\n",
    "#troca os NaN por zero para não atrapalhar na operação futura\n",
    "\n",
    "lista_total = []\n",
    "for index, row in df_merged.iterrows():\n",
    "    lista_total.append(row['gols_1_contra'] + row['gols_2_contra'])\n",
    "\n",
    "df_merged['soma_gols'] = lista_total\n",
    "\n",
    "copa = df_merged['ano'].apply( lambda x: 'Masculina' if x % 2 == 0 else 'Feminina').astype('string') \n",
    "df_merged['copa'] = copa #adicionando uma coluna para ver se é copa M ou F\n"
   ]
  },
  {
   "cell_type": "code",
   "execution_count": 13,
   "metadata": {},
   "outputs": [
    {
     "data": {
      "application/vnd.plotly.v1+json": {
       "config": {
        "plotlyServerURL": "https://plot.ly"
       },
       "data": [
        {
         "alignmentgroup": "True",
         "customdata": [
          [
           "Uruguay"
          ],
          [
           "Italy"
          ],
          [
           "France"
          ],
          [
           "Brazil"
          ],
          [
           "Switzerland"
          ],
          [
           "Sweden"
          ],
          [
           "Chile"
          ],
          [
           "England"
          ],
          [
           "Mexico"
          ],
          [
           "Germany"
          ],
          [
           "Argentina"
          ],
          [
           "Spain"
          ],
          [
           "Mexico"
          ],
          [
           "Italy"
          ],
          [
           "United States"
          ],
          [
           "France"
          ],
          [
           "Korea Republic, Japan"
          ],
          [
           "Germany"
          ],
          [
           "South Africa"
          ],
          [
           "Brazil"
          ],
          [
           "Russia"
          ],
          [
           "Qatar"
          ]
         ],
         "hovertemplate": "copa=Masculina<br>ano=%{x}<br>quantidade_jogos=%{y}<br>país_sede=%{customdata[0]}<extra></extra>",
         "legendgroup": "Masculina",
         "marker": {
          "color": "#636efa",
          "pattern": {
           "shape": ""
          }
         },
         "name": "Masculina",
         "offsetgroup": "Masculina",
         "orientation": "v",
         "showlegend": true,
         "textposition": "auto",
         "type": "bar",
         "x": [
          1930,
          1934,
          1938,
          1950,
          1954,
          1958,
          1962,
          1966,
          1970,
          1974,
          1978,
          1982,
          1986,
          1990,
          1994,
          1998,
          2002,
          2006,
          2010,
          2014,
          2018,
          2022
         ],
         "xaxis": "x",
         "y": [
          18,
          17,
          18,
          22,
          26,
          35,
          32,
          32,
          32,
          38,
          38,
          52,
          52,
          52,
          52,
          64,
          64,
          64,
          64,
          64,
          64,
          64
         ],
         "yaxis": "y"
        },
        {
         "alignmentgroup": "True",
         "customdata": [
          [
           "China PR"
          ],
          [
           "Sweden"
          ],
          [
           "United States"
          ],
          [
           "United States"
          ],
          [
           "China PR"
          ],
          [
           "Germany"
          ],
          [
           "Canada"
          ],
          [
           "France"
          ],
          [
           "Australia, New Zealand"
          ]
         ],
         "hovertemplate": "copa=Feminina<br>ano=%{x}<br>quantidade_jogos=%{y}<br>país_sede=%{customdata[0]}<extra></extra>",
         "legendgroup": "Feminina",
         "marker": {
          "color": "#EF553B",
          "pattern": {
           "shape": ""
          }
         },
         "name": "Feminina",
         "offsetgroup": "Feminina",
         "orientation": "v",
         "showlegend": true,
         "textposition": "auto",
         "type": "bar",
         "x": [
          1991,
          1995,
          1999,
          2003,
          2007,
          2011,
          2015,
          2019,
          2023
         ],
         "xaxis": "x",
         "y": [
          26,
          26,
          32,
          32,
          32,
          32,
          52,
          52,
          64
         ],
         "yaxis": "y"
        },
        {
         "fillpattern": {
          "shape": ""
         },
         "hovertemplate": "time=home<br>ano=%{x}<br>gols=%{y}<extra></extra>",
         "legendgroup": "home",
         "line": {
          "color": "#636efa"
         },
         "marker": {
          "symbol": "circle"
         },
         "mode": "lines",
         "name": "home",
         "orientation": "v",
         "showlegend": true,
         "stackgroup": "1",
         "type": "scatter",
         "x": [
          1930,
          1934,
          1938,
          1950,
          1954,
          1958,
          1962,
          1966,
          1970,
          1974,
          1978,
          1982,
          1986,
          1990,
          1991,
          1994,
          1995,
          1998,
          1999,
          2002,
          2003,
          2006,
          2007,
          2010,
          2011,
          2014,
          2015,
          2018,
          2019,
          2022,
          2023
         ],
         "xaxis": "x2",
         "y": [
          59,
          48,
          61,
          69,
          105,
          88,
          69,
          69,
          72,
          51,
          79,
          97,
          74,
          67,
          52,
          83,
          66,
          98,
          76,
          89,
          64,
          86,
          71,
          76,
          48,
          81,
          92,
          91,
          86,
          101,
          96
         ],
         "yaxis": "y2"
        },
        {
         "fillpattern": {
          "shape": ""
         },
         "hovertemplate": "time=away<br>ano=%{x}<br>gols=%{y}<extra></extra>",
         "legendgroup": "away",
         "line": {
          "color": "#EF553B"
         },
         "marker": {
          "symbol": "circle"
         },
         "mode": "lines",
         "name": "away",
         "orientation": "v",
         "showlegend": true,
         "stackgroup": "1",
         "type": "scatter",
         "x": [
          1930,
          1934,
          1938,
          1950,
          1954,
          1958,
          1962,
          1966,
          1970,
          1974,
          1978,
          1982,
          1986,
          1990,
          1991,
          1994,
          1995,
          1998,
          1999,
          2002,
          2003,
          2006,
          2007,
          2010,
          2011,
          2014,
          2015,
          2018,
          2019,
          2022,
          2023
         ],
         "xaxis": "x2",
         "y": [
          11,
          22,
          23,
          19,
          35,
          38,
          20,
          20,
          23,
          46,
          23,
          49,
          58,
          48,
          47,
          58,
          33,
          73,
          46,
          72,
          41,
          61,
          40,
          69,
          38,
          90,
          54,
          78,
          60,
          71,
          68
         ],
         "yaxis": "y2"
        },
        {
         "fillpattern": {
          "shape": ""
         },
         "hovertemplate": "cartao=Amarelo<br>ano=%{x}<br>total_cartao=%{y}<extra></extra>",
         "legendgroup": "Amarelo",
         "line": {
          "color": "#636efa"
         },
         "marker": {
          "symbol": "circle"
         },
         "mode": "lines",
         "name": "Amarelo",
         "orientation": "v",
         "showlegend": true,
         "stackgroup": "1",
         "type": "scatter",
         "x": [
          1950,
          1962,
          1966,
          1970,
          1974,
          1978,
          1982,
          1986,
          1990,
          1991,
          1994,
          1995,
          1998,
          1999,
          2002,
          2003,
          2006,
          2007,
          2010,
          2011,
          2014,
          2015,
          2018,
          2019,
          2022,
          2023
         ],
         "xaxis": "x3",
         "y": [
          1,
          1,
          18,
          31,
          51,
          41,
          66,
          77,
          86,
          25,
          98,
          38,
          115,
          42,
          115,
          40,
          122,
          45,
          113,
          36,
          108,
          66,
          106,
          73,
          99,
          78
         ],
         "yaxis": "y3"
        },
        {
         "fillpattern": {
          "shape": ""
         },
         "hovertemplate": "cartao=Vermelho<br>ano=%{x}<br>total_cartao=%{y}<extra></extra>",
         "legendgroup": "Vermelho",
         "line": {
          "color": "#EF553B"
         },
         "marker": {
          "symbol": "circle"
         },
         "mode": "lines",
         "name": "Vermelho",
         "orientation": "v",
         "showlegend": true,
         "stackgroup": "1",
         "type": "scatter",
         "x": [
          1938,
          1954,
          1962,
          1974,
          1982,
          1986,
          1990,
          1991,
          1994,
          1995,
          1998,
          2002,
          2006,
          2010,
          2011,
          2014,
          2018,
          2022,
          2023,
          1930,
          1934,
          1958,
          1966,
          1978,
          1999,
          2003,
          2015,
          2019
         ],
         "xaxis": "x3",
         "y": [
          3,
          2,
          5,
          5,
          5,
          7,
          11,
          1,
          8,
          2,
          15,
          8,
          8,
          6,
          4,
          7,
          2,
          2,
          4,
          1,
          1,
          3,
          4,
          2,
          4,
          1,
          2,
          1
         ],
         "yaxis": "y3"
        },
        {
         "alignmentgroup": "True",
         "hovertemplate": "copa=Masculina<br>ano=%{x}<br>soma_gols=%{y}<extra></extra>",
         "legendgroup": "Masculina",
         "marker": {
          "color": "#636efa",
          "pattern": {
           "shape": ""
          }
         },
         "name": "Masculina",
         "offsetgroup": "Masculina",
         "orientation": "v",
         "showlegend": true,
         "textposition": "auto",
         "type": "bar",
         "x": [
          1930,
          1938,
          1950,
          1954,
          1966,
          1970,
          1974,
          1978,
          1982,
          1986,
          1994,
          1998,
          2002,
          2006,
          2010,
          2014,
          2018,
          2022
         ],
         "xaxis": "x4",
         "y": [
          1,
          2,
          1,
          4,
          2,
          1,
          3,
          3,
          1,
          2,
          1,
          6,
          3,
          4,
          2,
          5,
          12,
          3
         ],
         "yaxis": "y4"
        },
        {
         "alignmentgroup": "True",
         "hovertemplate": "copa=Feminina<br>ano=%{x}<br>soma_gols=%{y}<extra></extra>",
         "legendgroup": "Feminina",
         "marker": {
          "color": "#EF553B",
          "pattern": {
           "shape": ""
          }
         },
         "name": "Feminina",
         "offsetgroup": "Feminina",
         "orientation": "v",
         "showlegend": true,
         "textposition": "auto",
         "type": "bar",
         "x": [
          1991,
          1999,
          2007,
          2011,
          2015,
          2019,
          2023,
          2003
         ],
         "xaxis": "x4",
         "y": [
          2,
          3,
          3,
          2,
          5,
          8,
          7,
          1
         ],
         "yaxis": "y4"
        }
       ],
       "layout": {
        "template": {
         "data": {
          "bar": [
           {
            "error_x": {
             "color": "#f2f5fa"
            },
            "error_y": {
             "color": "#f2f5fa"
            },
            "marker": {
             "line": {
              "color": "rgb(17,17,17)",
              "width": 0.5
             },
             "pattern": {
              "fillmode": "overlay",
              "size": 10,
              "solidity": 0.2
             }
            },
            "type": "bar"
           }
          ],
          "barpolar": [
           {
            "marker": {
             "line": {
              "color": "rgb(17,17,17)",
              "width": 0.5
             },
             "pattern": {
              "fillmode": "overlay",
              "size": 10,
              "solidity": 0.2
             }
            },
            "type": "barpolar"
           }
          ],
          "carpet": [
           {
            "aaxis": {
             "endlinecolor": "#A2B1C6",
             "gridcolor": "#506784",
             "linecolor": "#506784",
             "minorgridcolor": "#506784",
             "startlinecolor": "#A2B1C6"
            },
            "baxis": {
             "endlinecolor": "#A2B1C6",
             "gridcolor": "#506784",
             "linecolor": "#506784",
             "minorgridcolor": "#506784",
             "startlinecolor": "#A2B1C6"
            },
            "type": "carpet"
           }
          ],
          "choropleth": [
           {
            "colorbar": {
             "outlinewidth": 0,
             "ticks": ""
            },
            "type": "choropleth"
           }
          ],
          "contour": [
           {
            "colorbar": {
             "outlinewidth": 0,
             "ticks": ""
            },
            "colorscale": [
             [
              0,
              "#0d0887"
             ],
             [
              0.1111111111111111,
              "#46039f"
             ],
             [
              0.2222222222222222,
              "#7201a8"
             ],
             [
              0.3333333333333333,
              "#9c179e"
             ],
             [
              0.4444444444444444,
              "#bd3786"
             ],
             [
              0.5555555555555556,
              "#d8576b"
             ],
             [
              0.6666666666666666,
              "#ed7953"
             ],
             [
              0.7777777777777778,
              "#fb9f3a"
             ],
             [
              0.8888888888888888,
              "#fdca26"
             ],
             [
              1,
              "#f0f921"
             ]
            ],
            "type": "contour"
           }
          ],
          "contourcarpet": [
           {
            "colorbar": {
             "outlinewidth": 0,
             "ticks": ""
            },
            "type": "contourcarpet"
           }
          ],
          "heatmap": [
           {
            "colorbar": {
             "outlinewidth": 0,
             "ticks": ""
            },
            "colorscale": [
             [
              0,
              "#0d0887"
             ],
             [
              0.1111111111111111,
              "#46039f"
             ],
             [
              0.2222222222222222,
              "#7201a8"
             ],
             [
              0.3333333333333333,
              "#9c179e"
             ],
             [
              0.4444444444444444,
              "#bd3786"
             ],
             [
              0.5555555555555556,
              "#d8576b"
             ],
             [
              0.6666666666666666,
              "#ed7953"
             ],
             [
              0.7777777777777778,
              "#fb9f3a"
             ],
             [
              0.8888888888888888,
              "#fdca26"
             ],
             [
              1,
              "#f0f921"
             ]
            ],
            "type": "heatmap"
           }
          ],
          "heatmapgl": [
           {
            "colorbar": {
             "outlinewidth": 0,
             "ticks": ""
            },
            "colorscale": [
             [
              0,
              "#0d0887"
             ],
             [
              0.1111111111111111,
              "#46039f"
             ],
             [
              0.2222222222222222,
              "#7201a8"
             ],
             [
              0.3333333333333333,
              "#9c179e"
             ],
             [
              0.4444444444444444,
              "#bd3786"
             ],
             [
              0.5555555555555556,
              "#d8576b"
             ],
             [
              0.6666666666666666,
              "#ed7953"
             ],
             [
              0.7777777777777778,
              "#fb9f3a"
             ],
             [
              0.8888888888888888,
              "#fdca26"
             ],
             [
              1,
              "#f0f921"
             ]
            ],
            "type": "heatmapgl"
           }
          ],
          "histogram": [
           {
            "marker": {
             "pattern": {
              "fillmode": "overlay",
              "size": 10,
              "solidity": 0.2
             }
            },
            "type": "histogram"
           }
          ],
          "histogram2d": [
           {
            "colorbar": {
             "outlinewidth": 0,
             "ticks": ""
            },
            "colorscale": [
             [
              0,
              "#0d0887"
             ],
             [
              0.1111111111111111,
              "#46039f"
             ],
             [
              0.2222222222222222,
              "#7201a8"
             ],
             [
              0.3333333333333333,
              "#9c179e"
             ],
             [
              0.4444444444444444,
              "#bd3786"
             ],
             [
              0.5555555555555556,
              "#d8576b"
             ],
             [
              0.6666666666666666,
              "#ed7953"
             ],
             [
              0.7777777777777778,
              "#fb9f3a"
             ],
             [
              0.8888888888888888,
              "#fdca26"
             ],
             [
              1,
              "#f0f921"
             ]
            ],
            "type": "histogram2d"
           }
          ],
          "histogram2dcontour": [
           {
            "colorbar": {
             "outlinewidth": 0,
             "ticks": ""
            },
            "colorscale": [
             [
              0,
              "#0d0887"
             ],
             [
              0.1111111111111111,
              "#46039f"
             ],
             [
              0.2222222222222222,
              "#7201a8"
             ],
             [
              0.3333333333333333,
              "#9c179e"
             ],
             [
              0.4444444444444444,
              "#bd3786"
             ],
             [
              0.5555555555555556,
              "#d8576b"
             ],
             [
              0.6666666666666666,
              "#ed7953"
             ],
             [
              0.7777777777777778,
              "#fb9f3a"
             ],
             [
              0.8888888888888888,
              "#fdca26"
             ],
             [
              1,
              "#f0f921"
             ]
            ],
            "type": "histogram2dcontour"
           }
          ],
          "mesh3d": [
           {
            "colorbar": {
             "outlinewidth": 0,
             "ticks": ""
            },
            "type": "mesh3d"
           }
          ],
          "parcoords": [
           {
            "line": {
             "colorbar": {
              "outlinewidth": 0,
              "ticks": ""
             }
            },
            "type": "parcoords"
           }
          ],
          "pie": [
           {
            "automargin": true,
            "type": "pie"
           }
          ],
          "scatter": [
           {
            "marker": {
             "line": {
              "color": "#283442"
             }
            },
            "type": "scatter"
           }
          ],
          "scatter3d": [
           {
            "line": {
             "colorbar": {
              "outlinewidth": 0,
              "ticks": ""
             }
            },
            "marker": {
             "colorbar": {
              "outlinewidth": 0,
              "ticks": ""
             }
            },
            "type": "scatter3d"
           }
          ],
          "scattercarpet": [
           {
            "marker": {
             "colorbar": {
              "outlinewidth": 0,
              "ticks": ""
             }
            },
            "type": "scattercarpet"
           }
          ],
          "scattergeo": [
           {
            "marker": {
             "colorbar": {
              "outlinewidth": 0,
              "ticks": ""
             }
            },
            "type": "scattergeo"
           }
          ],
          "scattergl": [
           {
            "marker": {
             "line": {
              "color": "#283442"
             }
            },
            "type": "scattergl"
           }
          ],
          "scattermapbox": [
           {
            "marker": {
             "colorbar": {
              "outlinewidth": 0,
              "ticks": ""
             }
            },
            "type": "scattermapbox"
           }
          ],
          "scatterpolar": [
           {
            "marker": {
             "colorbar": {
              "outlinewidth": 0,
              "ticks": ""
             }
            },
            "type": "scatterpolar"
           }
          ],
          "scatterpolargl": [
           {
            "marker": {
             "colorbar": {
              "outlinewidth": 0,
              "ticks": ""
             }
            },
            "type": "scatterpolargl"
           }
          ],
          "scatterternary": [
           {
            "marker": {
             "colorbar": {
              "outlinewidth": 0,
              "ticks": ""
             }
            },
            "type": "scatterternary"
           }
          ],
          "surface": [
           {
            "colorbar": {
             "outlinewidth": 0,
             "ticks": ""
            },
            "colorscale": [
             [
              0,
              "#0d0887"
             ],
             [
              0.1111111111111111,
              "#46039f"
             ],
             [
              0.2222222222222222,
              "#7201a8"
             ],
             [
              0.3333333333333333,
              "#9c179e"
             ],
             [
              0.4444444444444444,
              "#bd3786"
             ],
             [
              0.5555555555555556,
              "#d8576b"
             ],
             [
              0.6666666666666666,
              "#ed7953"
             ],
             [
              0.7777777777777778,
              "#fb9f3a"
             ],
             [
              0.8888888888888888,
              "#fdca26"
             ],
             [
              1,
              "#f0f921"
             ]
            ],
            "type": "surface"
           }
          ],
          "table": [
           {
            "cells": {
             "fill": {
              "color": "#506784"
             },
             "line": {
              "color": "rgb(17,17,17)"
             }
            },
            "header": {
             "fill": {
              "color": "#2a3f5f"
             },
             "line": {
              "color": "rgb(17,17,17)"
             }
            },
            "type": "table"
           }
          ]
         },
         "layout": {
          "annotationdefaults": {
           "arrowcolor": "#f2f5fa",
           "arrowhead": 0,
           "arrowwidth": 1
          },
          "autotypenumbers": "strict",
          "coloraxis": {
           "colorbar": {
            "outlinewidth": 0,
            "ticks": ""
           }
          },
          "colorscale": {
           "diverging": [
            [
             0,
             "#8e0152"
            ],
            [
             0.1,
             "#c51b7d"
            ],
            [
             0.2,
             "#de77ae"
            ],
            [
             0.3,
             "#f1b6da"
            ],
            [
             0.4,
             "#fde0ef"
            ],
            [
             0.5,
             "#f7f7f7"
            ],
            [
             0.6,
             "#e6f5d0"
            ],
            [
             0.7,
             "#b8e186"
            ],
            [
             0.8,
             "#7fbc41"
            ],
            [
             0.9,
             "#4d9221"
            ],
            [
             1,
             "#276419"
            ]
           ],
           "sequential": [
            [
             0,
             "#0d0887"
            ],
            [
             0.1111111111111111,
             "#46039f"
            ],
            [
             0.2222222222222222,
             "#7201a8"
            ],
            [
             0.3333333333333333,
             "#9c179e"
            ],
            [
             0.4444444444444444,
             "#bd3786"
            ],
            [
             0.5555555555555556,
             "#d8576b"
            ],
            [
             0.6666666666666666,
             "#ed7953"
            ],
            [
             0.7777777777777778,
             "#fb9f3a"
            ],
            [
             0.8888888888888888,
             "#fdca26"
            ],
            [
             1,
             "#f0f921"
            ]
           ],
           "sequentialminus": [
            [
             0,
             "#0d0887"
            ],
            [
             0.1111111111111111,
             "#46039f"
            ],
            [
             0.2222222222222222,
             "#7201a8"
            ],
            [
             0.3333333333333333,
             "#9c179e"
            ],
            [
             0.4444444444444444,
             "#bd3786"
            ],
            [
             0.5555555555555556,
             "#d8576b"
            ],
            [
             0.6666666666666666,
             "#ed7953"
            ],
            [
             0.7777777777777778,
             "#fb9f3a"
            ],
            [
             0.8888888888888888,
             "#fdca26"
            ],
            [
             1,
             "#f0f921"
            ]
           ]
          },
          "colorway": [
           "#636efa",
           "#EF553B",
           "#00cc96",
           "#ab63fa",
           "#FFA15A",
           "#19d3f3",
           "#FF6692",
           "#B6E880",
           "#FF97FF",
           "#FECB52"
          ],
          "font": {
           "color": "#f2f5fa"
          },
          "geo": {
           "bgcolor": "rgb(17,17,17)",
           "lakecolor": "rgb(17,17,17)",
           "landcolor": "rgb(17,17,17)",
           "showlakes": true,
           "showland": true,
           "subunitcolor": "#506784"
          },
          "hoverlabel": {
           "align": "left"
          },
          "hovermode": "closest",
          "mapbox": {
           "style": "dark"
          },
          "paper_bgcolor": "rgb(17,17,17)",
          "plot_bgcolor": "rgb(17,17,17)",
          "polar": {
           "angularaxis": {
            "gridcolor": "#506784",
            "linecolor": "#506784",
            "ticks": ""
           },
           "bgcolor": "rgb(17,17,17)",
           "radialaxis": {
            "gridcolor": "#506784",
            "linecolor": "#506784",
            "ticks": ""
           }
          },
          "scene": {
           "xaxis": {
            "backgroundcolor": "rgb(17,17,17)",
            "gridcolor": "#506784",
            "gridwidth": 2,
            "linecolor": "#506784",
            "showbackground": true,
            "ticks": "",
            "zerolinecolor": "#C8D4E3"
           },
           "yaxis": {
            "backgroundcolor": "rgb(17,17,17)",
            "gridcolor": "#506784",
            "gridwidth": 2,
            "linecolor": "#506784",
            "showbackground": true,
            "ticks": "",
            "zerolinecolor": "#C8D4E3"
           },
           "zaxis": {
            "backgroundcolor": "rgb(17,17,17)",
            "gridcolor": "#506784",
            "gridwidth": 2,
            "linecolor": "#506784",
            "showbackground": true,
            "ticks": "",
            "zerolinecolor": "#C8D4E3"
           }
          },
          "shapedefaults": {
           "line": {
            "color": "#f2f5fa"
           }
          },
          "sliderdefaults": {
           "bgcolor": "#C8D4E3",
           "bordercolor": "rgb(17,17,17)",
           "borderwidth": 1,
           "tickwidth": 0
          },
          "ternary": {
           "aaxis": {
            "gridcolor": "#506784",
            "linecolor": "#506784",
            "ticks": ""
           },
           "baxis": {
            "gridcolor": "#506784",
            "linecolor": "#506784",
            "ticks": ""
           },
           "bgcolor": "rgb(17,17,17)",
           "caxis": {
            "gridcolor": "#506784",
            "linecolor": "#506784",
            "ticks": ""
           }
          },
          "title": {
           "x": 0.05
          },
          "updatemenudefaults": {
           "bgcolor": "#506784",
           "borderwidth": 0
          },
          "xaxis": {
           "automargin": true,
           "gridcolor": "#283442",
           "linecolor": "#506784",
           "ticks": "",
           "title": {
            "standoff": 15
           },
           "zerolinecolor": "#283442",
           "zerolinewidth": 2
          },
          "yaxis": {
           "automargin": true,
           "gridcolor": "#283442",
           "linecolor": "#506784",
           "ticks": "",
           "title": {
            "standoff": 15
           },
           "zerolinecolor": "#283442",
           "zerolinewidth": 2
          }
         }
        },
        "title": {
         "text": "Subplots de Análises das Copas do Mundo"
        },
        "xaxis": {
         "anchor": "y",
         "domain": [
          0,
          0.45
         ]
        },
        "xaxis2": {
         "anchor": "y2",
         "domain": [
          0.55,
          1
         ]
        },
        "xaxis3": {
         "anchor": "y3",
         "domain": [
          0,
          0.45
         ]
        },
        "xaxis4": {
         "anchor": "y4",
         "domain": [
          0.55,
          1
         ]
        },
        "yaxis": {
         "anchor": "x",
         "domain": [
          0.575,
          1
         ]
        },
        "yaxis2": {
         "anchor": "x2",
         "domain": [
          0.575,
          1
         ]
        },
        "yaxis3": {
         "anchor": "x3",
         "domain": [
          0,
          0.425
         ]
        },
        "yaxis4": {
         "anchor": "x4",
         "domain": [
          0,
          0.425
         ]
        }
       }
      },
      "text/html": [
       "<div>                            <div id=\"40f6d5a6-7191-47b1-84b7-3e4c496854e2\" class=\"plotly-graph-div\" style=\"height:525px; width:100%;\"></div>            <script type=\"text/javascript\">                require([\"plotly\"], function(Plotly) {                    window.PLOTLYENV=window.PLOTLYENV || {};                                    if (document.getElementById(\"40f6d5a6-7191-47b1-84b7-3e4c496854e2\")) {                    Plotly.newPlot(                        \"40f6d5a6-7191-47b1-84b7-3e4c496854e2\",                        [{\"alignmentgroup\":\"True\",\"customdata\":[[\"Uruguay\"],[\"Italy\"],[\"France\"],[\"Brazil\"],[\"Switzerland\"],[\"Sweden\"],[\"Chile\"],[\"England\"],[\"Mexico\"],[\"Germany\"],[\"Argentina\"],[\"Spain\"],[\"Mexico\"],[\"Italy\"],[\"United States\"],[\"France\"],[\"Korea Republic, Japan\"],[\"Germany\"],[\"South Africa\"],[\"Brazil\"],[\"Russia\"],[\"Qatar\"]],\"hovertemplate\":\"copa=Masculina\\u003cbr\\u003eano=%{x}\\u003cbr\\u003equantidade_jogos=%{y}\\u003cbr\\u003epa\\u00eds_sede=%{customdata[0]}\\u003cextra\\u003e\\u003c\\u002fextra\\u003e\",\"legendgroup\":\"Masculina\",\"marker\":{\"color\":\"#636efa\",\"pattern\":{\"shape\":\"\"}},\"name\":\"Masculina\",\"offsetgroup\":\"Masculina\",\"orientation\":\"v\",\"showlegend\":true,\"textposition\":\"auto\",\"x\":[1930,1934,1938,1950,1954,1958,1962,1966,1970,1974,1978,1982,1986,1990,1994,1998,2002,2006,2010,2014,2018,2022],\"xaxis\":\"x\",\"y\":[18,17,18,22,26,35,32,32,32,38,38,52,52,52,52,64,64,64,64,64,64,64],\"yaxis\":\"y\",\"type\":\"bar\"},{\"alignmentgroup\":\"True\",\"customdata\":[[\"China PR\"],[\"Sweden\"],[\"United States\"],[\"United States\"],[\"China PR\"],[\"Germany\"],[\"Canada\"],[\"France\"],[\"Australia, New Zealand\"]],\"hovertemplate\":\"copa=Feminina\\u003cbr\\u003eano=%{x}\\u003cbr\\u003equantidade_jogos=%{y}\\u003cbr\\u003epa\\u00eds_sede=%{customdata[0]}\\u003cextra\\u003e\\u003c\\u002fextra\\u003e\",\"legendgroup\":\"Feminina\",\"marker\":{\"color\":\"#EF553B\",\"pattern\":{\"shape\":\"\"}},\"name\":\"Feminina\",\"offsetgroup\":\"Feminina\",\"orientation\":\"v\",\"showlegend\":true,\"textposition\":\"auto\",\"x\":[1991,1995,1999,2003,2007,2011,2015,2019,2023],\"xaxis\":\"x\",\"y\":[26,26,32,32,32,32,52,52,64],\"yaxis\":\"y\",\"type\":\"bar\"},{\"fillpattern\":{\"shape\":\"\"},\"hovertemplate\":\"time=home\\u003cbr\\u003eano=%{x}\\u003cbr\\u003egols=%{y}\\u003cextra\\u003e\\u003c\\u002fextra\\u003e\",\"legendgroup\":\"home\",\"line\":{\"color\":\"#636efa\"},\"marker\":{\"symbol\":\"circle\"},\"mode\":\"lines\",\"name\":\"home\",\"orientation\":\"v\",\"showlegend\":true,\"stackgroup\":\"1\",\"x\":[1930,1934,1938,1950,1954,1958,1962,1966,1970,1974,1978,1982,1986,1990,1991,1994,1995,1998,1999,2002,2003,2006,2007,2010,2011,2014,2015,2018,2019,2022,2023],\"xaxis\":\"x2\",\"y\":[59,48,61,69,105,88,69,69,72,51,79,97,74,67,52,83,66,98,76,89,64,86,71,76,48,81,92,91,86,101,96],\"yaxis\":\"y2\",\"type\":\"scatter\"},{\"fillpattern\":{\"shape\":\"\"},\"hovertemplate\":\"time=away\\u003cbr\\u003eano=%{x}\\u003cbr\\u003egols=%{y}\\u003cextra\\u003e\\u003c\\u002fextra\\u003e\",\"legendgroup\":\"away\",\"line\":{\"color\":\"#EF553B\"},\"marker\":{\"symbol\":\"circle\"},\"mode\":\"lines\",\"name\":\"away\",\"orientation\":\"v\",\"showlegend\":true,\"stackgroup\":\"1\",\"x\":[1930,1934,1938,1950,1954,1958,1962,1966,1970,1974,1978,1982,1986,1990,1991,1994,1995,1998,1999,2002,2003,2006,2007,2010,2011,2014,2015,2018,2019,2022,2023],\"xaxis\":\"x2\",\"y\":[11,22,23,19,35,38,20,20,23,46,23,49,58,48,47,58,33,73,46,72,41,61,40,69,38,90,54,78,60,71,68],\"yaxis\":\"y2\",\"type\":\"scatter\"},{\"fillpattern\":{\"shape\":\"\"},\"hovertemplate\":\"cartao=Amarelo\\u003cbr\\u003eano=%{x}\\u003cbr\\u003etotal_cartao=%{y}\\u003cextra\\u003e\\u003c\\u002fextra\\u003e\",\"legendgroup\":\"Amarelo\",\"line\":{\"color\":\"#636efa\"},\"marker\":{\"symbol\":\"circle\"},\"mode\":\"lines\",\"name\":\"Amarelo\",\"orientation\":\"v\",\"showlegend\":true,\"stackgroup\":\"1\",\"x\":[1950,1962,1966,1970,1974,1978,1982,1986,1990,1991,1994,1995,1998,1999,2002,2003,2006,2007,2010,2011,2014,2015,2018,2019,2022,2023],\"xaxis\":\"x3\",\"y\":[1.0,1.0,18.0,31.0,51.0,41.0,66.0,77.0,86.0,25.0,98.0,38.0,115.0,42.0,115.0,40.0,122.0,45.0,113.0,36.0,108.0,66.0,106.0,73.0,99.0,78.0],\"yaxis\":\"y3\",\"type\":\"scatter\"},{\"fillpattern\":{\"shape\":\"\"},\"hovertemplate\":\"cartao=Vermelho\\u003cbr\\u003eano=%{x}\\u003cbr\\u003etotal_cartao=%{y}\\u003cextra\\u003e\\u003c\\u002fextra\\u003e\",\"legendgroup\":\"Vermelho\",\"line\":{\"color\":\"#EF553B\"},\"marker\":{\"symbol\":\"circle\"},\"mode\":\"lines\",\"name\":\"Vermelho\",\"orientation\":\"v\",\"showlegend\":true,\"stackgroup\":\"1\",\"x\":[1938,1954,1962,1974,1982,1986,1990,1991,1994,1995,1998,2002,2006,2010,2011,2014,2018,2022,2023,1930,1934,1958,1966,1978,1999,2003,2015,2019],\"xaxis\":\"x3\",\"y\":[3.0,2.0,5.0,5.0,5.0,7.0,11.0,1.0,8.0,2.0,15.0,8.0,8.0,6.0,4.0,7.0,2.0,2.0,4.0,1.0,1.0,3.0,4.0,2.0,4.0,1.0,2.0,1.0],\"yaxis\":\"y3\",\"type\":\"scatter\"},{\"alignmentgroup\":\"True\",\"hovertemplate\":\"copa=Masculina\\u003cbr\\u003eano=%{x}\\u003cbr\\u003esoma_gols=%{y}\\u003cextra\\u003e\\u003c\\u002fextra\\u003e\",\"legendgroup\":\"Masculina\",\"marker\":{\"color\":\"#636efa\",\"pattern\":{\"shape\":\"\"}},\"name\":\"Masculina\",\"offsetgroup\":\"Masculina\",\"orientation\":\"v\",\"showlegend\":true,\"textposition\":\"auto\",\"x\":[1930,1938,1950,1954,1966,1970,1974,1978,1982,1986,1994,1998,2002,2006,2010,2014,2018,2022],\"xaxis\":\"x4\",\"y\":[1.0,2.0,1.0,4.0,2.0,1.0,3.0,3.0,1.0,2.0,1.0,6.0,3.0,4.0,2.0,5.0,12.0,3.0],\"yaxis\":\"y4\",\"type\":\"bar\"},{\"alignmentgroup\":\"True\",\"hovertemplate\":\"copa=Feminina\\u003cbr\\u003eano=%{x}\\u003cbr\\u003esoma_gols=%{y}\\u003cextra\\u003e\\u003c\\u002fextra\\u003e\",\"legendgroup\":\"Feminina\",\"marker\":{\"color\":\"#EF553B\",\"pattern\":{\"shape\":\"\"}},\"name\":\"Feminina\",\"offsetgroup\":\"Feminina\",\"orientation\":\"v\",\"showlegend\":true,\"textposition\":\"auto\",\"x\":[1991,1999,2007,2011,2015,2019,2023,2003],\"xaxis\":\"x4\",\"y\":[2.0,3.0,3.0,2.0,5.0,8.0,7.0,1.0],\"yaxis\":\"y4\",\"type\":\"bar\"}],                        {\"template\":{\"data\":{\"histogram2dcontour\":[{\"type\":\"histogram2dcontour\",\"colorbar\":{\"outlinewidth\":0,\"ticks\":\"\"},\"colorscale\":[[0.0,\"#0d0887\"],[0.1111111111111111,\"#46039f\"],[0.2222222222222222,\"#7201a8\"],[0.3333333333333333,\"#9c179e\"],[0.4444444444444444,\"#bd3786\"],[0.5555555555555556,\"#d8576b\"],[0.6666666666666666,\"#ed7953\"],[0.7777777777777778,\"#fb9f3a\"],[0.8888888888888888,\"#fdca26\"],[1.0,\"#f0f921\"]]}],\"choropleth\":[{\"type\":\"choropleth\",\"colorbar\":{\"outlinewidth\":0,\"ticks\":\"\"}}],\"histogram2d\":[{\"type\":\"histogram2d\",\"colorbar\":{\"outlinewidth\":0,\"ticks\":\"\"},\"colorscale\":[[0.0,\"#0d0887\"],[0.1111111111111111,\"#46039f\"],[0.2222222222222222,\"#7201a8\"],[0.3333333333333333,\"#9c179e\"],[0.4444444444444444,\"#bd3786\"],[0.5555555555555556,\"#d8576b\"],[0.6666666666666666,\"#ed7953\"],[0.7777777777777778,\"#fb9f3a\"],[0.8888888888888888,\"#fdca26\"],[1.0,\"#f0f921\"]]}],\"heatmap\":[{\"type\":\"heatmap\",\"colorbar\":{\"outlinewidth\":0,\"ticks\":\"\"},\"colorscale\":[[0.0,\"#0d0887\"],[0.1111111111111111,\"#46039f\"],[0.2222222222222222,\"#7201a8\"],[0.3333333333333333,\"#9c179e\"],[0.4444444444444444,\"#bd3786\"],[0.5555555555555556,\"#d8576b\"],[0.6666666666666666,\"#ed7953\"],[0.7777777777777778,\"#fb9f3a\"],[0.8888888888888888,\"#fdca26\"],[1.0,\"#f0f921\"]]}],\"heatmapgl\":[{\"type\":\"heatmapgl\",\"colorbar\":{\"outlinewidth\":0,\"ticks\":\"\"},\"colorscale\":[[0.0,\"#0d0887\"],[0.1111111111111111,\"#46039f\"],[0.2222222222222222,\"#7201a8\"],[0.3333333333333333,\"#9c179e\"],[0.4444444444444444,\"#bd3786\"],[0.5555555555555556,\"#d8576b\"],[0.6666666666666666,\"#ed7953\"],[0.7777777777777778,\"#fb9f3a\"],[0.8888888888888888,\"#fdca26\"],[1.0,\"#f0f921\"]]}],\"contourcarpet\":[{\"type\":\"contourcarpet\",\"colorbar\":{\"outlinewidth\":0,\"ticks\":\"\"}}],\"contour\":[{\"type\":\"contour\",\"colorbar\":{\"outlinewidth\":0,\"ticks\":\"\"},\"colorscale\":[[0.0,\"#0d0887\"],[0.1111111111111111,\"#46039f\"],[0.2222222222222222,\"#7201a8\"],[0.3333333333333333,\"#9c179e\"],[0.4444444444444444,\"#bd3786\"],[0.5555555555555556,\"#d8576b\"],[0.6666666666666666,\"#ed7953\"],[0.7777777777777778,\"#fb9f3a\"],[0.8888888888888888,\"#fdca26\"],[1.0,\"#f0f921\"]]}],\"surface\":[{\"type\":\"surface\",\"colorbar\":{\"outlinewidth\":0,\"ticks\":\"\"},\"colorscale\":[[0.0,\"#0d0887\"],[0.1111111111111111,\"#46039f\"],[0.2222222222222222,\"#7201a8\"],[0.3333333333333333,\"#9c179e\"],[0.4444444444444444,\"#bd3786\"],[0.5555555555555556,\"#d8576b\"],[0.6666666666666666,\"#ed7953\"],[0.7777777777777778,\"#fb9f3a\"],[0.8888888888888888,\"#fdca26\"],[1.0,\"#f0f921\"]]}],\"mesh3d\":[{\"type\":\"mesh3d\",\"colorbar\":{\"outlinewidth\":0,\"ticks\":\"\"}}],\"scatter\":[{\"marker\":{\"line\":{\"color\":\"#283442\"}},\"type\":\"scatter\"}],\"parcoords\":[{\"type\":\"parcoords\",\"line\":{\"colorbar\":{\"outlinewidth\":0,\"ticks\":\"\"}}}],\"scatterpolargl\":[{\"type\":\"scatterpolargl\",\"marker\":{\"colorbar\":{\"outlinewidth\":0,\"ticks\":\"\"}}}],\"bar\":[{\"error_x\":{\"color\":\"#f2f5fa\"},\"error_y\":{\"color\":\"#f2f5fa\"},\"marker\":{\"line\":{\"color\":\"rgb(17,17,17)\",\"width\":0.5},\"pattern\":{\"fillmode\":\"overlay\",\"size\":10,\"solidity\":0.2}},\"type\":\"bar\"}],\"scattergeo\":[{\"type\":\"scattergeo\",\"marker\":{\"colorbar\":{\"outlinewidth\":0,\"ticks\":\"\"}}}],\"scatterpolar\":[{\"type\":\"scatterpolar\",\"marker\":{\"colorbar\":{\"outlinewidth\":0,\"ticks\":\"\"}}}],\"histogram\":[{\"marker\":{\"pattern\":{\"fillmode\":\"overlay\",\"size\":10,\"solidity\":0.2}},\"type\":\"histogram\"}],\"scattergl\":[{\"marker\":{\"line\":{\"color\":\"#283442\"}},\"type\":\"scattergl\"}],\"scatter3d\":[{\"type\":\"scatter3d\",\"line\":{\"colorbar\":{\"outlinewidth\":0,\"ticks\":\"\"}},\"marker\":{\"colorbar\":{\"outlinewidth\":0,\"ticks\":\"\"}}}],\"scattermapbox\":[{\"type\":\"scattermapbox\",\"marker\":{\"colorbar\":{\"outlinewidth\":0,\"ticks\":\"\"}}}],\"scatterternary\":[{\"type\":\"scatterternary\",\"marker\":{\"colorbar\":{\"outlinewidth\":0,\"ticks\":\"\"}}}],\"scattercarpet\":[{\"type\":\"scattercarpet\",\"marker\":{\"colorbar\":{\"outlinewidth\":0,\"ticks\":\"\"}}}],\"carpet\":[{\"aaxis\":{\"endlinecolor\":\"#A2B1C6\",\"gridcolor\":\"#506784\",\"linecolor\":\"#506784\",\"minorgridcolor\":\"#506784\",\"startlinecolor\":\"#A2B1C6\"},\"baxis\":{\"endlinecolor\":\"#A2B1C6\",\"gridcolor\":\"#506784\",\"linecolor\":\"#506784\",\"minorgridcolor\":\"#506784\",\"startlinecolor\":\"#A2B1C6\"},\"type\":\"carpet\"}],\"table\":[{\"cells\":{\"fill\":{\"color\":\"#506784\"},\"line\":{\"color\":\"rgb(17,17,17)\"}},\"header\":{\"fill\":{\"color\":\"#2a3f5f\"},\"line\":{\"color\":\"rgb(17,17,17)\"}},\"type\":\"table\"}],\"barpolar\":[{\"marker\":{\"line\":{\"color\":\"rgb(17,17,17)\",\"width\":0.5},\"pattern\":{\"fillmode\":\"overlay\",\"size\":10,\"solidity\":0.2}},\"type\":\"barpolar\"}],\"pie\":[{\"automargin\":true,\"type\":\"pie\"}]},\"layout\":{\"autotypenumbers\":\"strict\",\"colorway\":[\"#636efa\",\"#EF553B\",\"#00cc96\",\"#ab63fa\",\"#FFA15A\",\"#19d3f3\",\"#FF6692\",\"#B6E880\",\"#FF97FF\",\"#FECB52\"],\"font\":{\"color\":\"#f2f5fa\"},\"hovermode\":\"closest\",\"hoverlabel\":{\"align\":\"left\"},\"paper_bgcolor\":\"rgb(17,17,17)\",\"plot_bgcolor\":\"rgb(17,17,17)\",\"polar\":{\"bgcolor\":\"rgb(17,17,17)\",\"angularaxis\":{\"gridcolor\":\"#506784\",\"linecolor\":\"#506784\",\"ticks\":\"\"},\"radialaxis\":{\"gridcolor\":\"#506784\",\"linecolor\":\"#506784\",\"ticks\":\"\"}},\"ternary\":{\"bgcolor\":\"rgb(17,17,17)\",\"aaxis\":{\"gridcolor\":\"#506784\",\"linecolor\":\"#506784\",\"ticks\":\"\"},\"baxis\":{\"gridcolor\":\"#506784\",\"linecolor\":\"#506784\",\"ticks\":\"\"},\"caxis\":{\"gridcolor\":\"#506784\",\"linecolor\":\"#506784\",\"ticks\":\"\"}},\"coloraxis\":{\"colorbar\":{\"outlinewidth\":0,\"ticks\":\"\"}},\"colorscale\":{\"sequential\":[[0.0,\"#0d0887\"],[0.1111111111111111,\"#46039f\"],[0.2222222222222222,\"#7201a8\"],[0.3333333333333333,\"#9c179e\"],[0.4444444444444444,\"#bd3786\"],[0.5555555555555556,\"#d8576b\"],[0.6666666666666666,\"#ed7953\"],[0.7777777777777778,\"#fb9f3a\"],[0.8888888888888888,\"#fdca26\"],[1.0,\"#f0f921\"]],\"sequentialminus\":[[0.0,\"#0d0887\"],[0.1111111111111111,\"#46039f\"],[0.2222222222222222,\"#7201a8\"],[0.3333333333333333,\"#9c179e\"],[0.4444444444444444,\"#bd3786\"],[0.5555555555555556,\"#d8576b\"],[0.6666666666666666,\"#ed7953\"],[0.7777777777777778,\"#fb9f3a\"],[0.8888888888888888,\"#fdca26\"],[1.0,\"#f0f921\"]],\"diverging\":[[0,\"#8e0152\"],[0.1,\"#c51b7d\"],[0.2,\"#de77ae\"],[0.3,\"#f1b6da\"],[0.4,\"#fde0ef\"],[0.5,\"#f7f7f7\"],[0.6,\"#e6f5d0\"],[0.7,\"#b8e186\"],[0.8,\"#7fbc41\"],[0.9,\"#4d9221\"],[1,\"#276419\"]]},\"xaxis\":{\"gridcolor\":\"#283442\",\"linecolor\":\"#506784\",\"ticks\":\"\",\"title\":{\"standoff\":15},\"zerolinecolor\":\"#283442\",\"automargin\":true,\"zerolinewidth\":2},\"yaxis\":{\"gridcolor\":\"#283442\",\"linecolor\":\"#506784\",\"ticks\":\"\",\"title\":{\"standoff\":15},\"zerolinecolor\":\"#283442\",\"automargin\":true,\"zerolinewidth\":2},\"scene\":{\"xaxis\":{\"backgroundcolor\":\"rgb(17,17,17)\",\"gridcolor\":\"#506784\",\"linecolor\":\"#506784\",\"showbackground\":true,\"ticks\":\"\",\"zerolinecolor\":\"#C8D4E3\",\"gridwidth\":2},\"yaxis\":{\"backgroundcolor\":\"rgb(17,17,17)\",\"gridcolor\":\"#506784\",\"linecolor\":\"#506784\",\"showbackground\":true,\"ticks\":\"\",\"zerolinecolor\":\"#C8D4E3\",\"gridwidth\":2},\"zaxis\":{\"backgroundcolor\":\"rgb(17,17,17)\",\"gridcolor\":\"#506784\",\"linecolor\":\"#506784\",\"showbackground\":true,\"ticks\":\"\",\"zerolinecolor\":\"#C8D4E3\",\"gridwidth\":2}},\"shapedefaults\":{\"line\":{\"color\":\"#f2f5fa\"}},\"annotationdefaults\":{\"arrowcolor\":\"#f2f5fa\",\"arrowhead\":0,\"arrowwidth\":1},\"geo\":{\"bgcolor\":\"rgb(17,17,17)\",\"landcolor\":\"rgb(17,17,17)\",\"subunitcolor\":\"#506784\",\"showland\":true,\"showlakes\":true,\"lakecolor\":\"rgb(17,17,17)\"},\"title\":{\"x\":0.05},\"updatemenudefaults\":{\"bgcolor\":\"#506784\",\"borderwidth\":0},\"sliderdefaults\":{\"bgcolor\":\"#C8D4E3\",\"borderwidth\":1,\"bordercolor\":\"rgb(17,17,17)\",\"tickwidth\":0},\"mapbox\":{\"style\":\"dark\"}}},\"xaxis\":{\"anchor\":\"y\",\"domain\":[0.0,0.45]},\"yaxis\":{\"anchor\":\"x\",\"domain\":[0.575,1.0]},\"xaxis2\":{\"anchor\":\"y2\",\"domain\":[0.55,1.0]},\"yaxis2\":{\"anchor\":\"x2\",\"domain\":[0.575,1.0]},\"xaxis3\":{\"anchor\":\"y3\",\"domain\":[0.0,0.45]},\"yaxis3\":{\"anchor\":\"x3\",\"domain\":[0.0,0.425]},\"xaxis4\":{\"anchor\":\"y4\",\"domain\":[0.55,1.0]},\"yaxis4\":{\"anchor\":\"x4\",\"domain\":[0.0,0.425]},\"title\":{\"text\":\"Subplots de An\\u00e1lises das Copas do Mundo\"}},                        {\"responsive\": true}                    ).then(function(){\n",
       "                            \n",
       "var gd = document.getElementById('40f6d5a6-7191-47b1-84b7-3e4c496854e2');\n",
       "var x = new MutationObserver(function (mutations, observer) {{\n",
       "        var display = window.getComputedStyle(gd).display;\n",
       "        if (!display || display === 'none') {{\n",
       "            console.log([gd, 'removed!']);\n",
       "            Plotly.purge(gd);\n",
       "            observer.disconnect();\n",
       "        }}\n",
       "}});\n",
       "\n",
       "// Listen for the removal of the full notebook cells\n",
       "var notebookContainer = gd.closest('#notebook-container');\n",
       "if (notebookContainer) {{\n",
       "    x.observe(notebookContainer, {childList: true});\n",
       "}}\n",
       "\n",
       "// Listen for the clearing of the current output cell\n",
       "var outputEl = gd.closest('.output');\n",
       "if (outputEl) {{\n",
       "    x.observe(outputEl, {childList: true});\n",
       "}}\n",
       "\n",
       "                        })                };                });            </script>        </div>"
      ]
     },
     "metadata": {},
     "output_type": "display_data"
    }
   ],
   "source": [
    "#VISUALIZAÇÃO\n",
    "fig = make_subplots(rows=2, cols=2)\n",
    "\n",
    "# Primeiro gráfico \n",
    "fig1 = px.bar(wc_ano, x='ano', y='quantidade_jogos', color='copa', hover_data=['país_sede'], title=\"Número de jogos em cada copa\")\n",
    "# Adicionar ao subplot\n",
    "for trace in fig1.data:\n",
    "    fig.add_trace(trace, row=1, col=1)\n",
    "\n",
    "# Segundo gráfico \n",
    "fig2 = px.area(gols, x=\"ano\", y=\"gols\", color=\"time\", title='Total de gols por copa')\n",
    "# Adicionar ao subplot\n",
    "for trace in fig2.data:\n",
    "    fig.add_trace(trace, row=1, col=2)\n",
    "\n",
    "# Terceiro gráfico \n",
    "fig3 = px.area(cartoes, x=\"ano\", y=\"total_cartao\", color=\"cartao\", title='Total de cartões por copa')\n",
    "# Adicionar ao subplot\n",
    "for trace in fig3.data:\n",
    "    fig.add_trace(trace, row=2, col=1)\n",
    "\n",
    "# Quarto gráfico \n",
    "fig4 = px.bar(df_merged, x='ano', y='soma_gols', color='copa', title=\"Total de gols contra nos anos\")\n",
    "# Adicionar ao subplot\n",
    "for trace in fig4.data:\n",
    "    fig.add_trace(trace, row=2, col=2)\n",
    "\n",
    "# Exibir o gráfico\n",
    "fig.update_layout(title_text=\"Subplots de Análises das Copas do Mundo\")\n",
    "fig.show()"
   ]
  }
 ],
 "metadata": {
  "kernelspec": {
   "display_name": "Python 3 (ipykernel)",
   "language": "python",
   "name": "python3"
  },
  "language_info": {
   "codemirror_mode": {
    "name": "ipython",
    "version": 3
   },
   "file_extension": ".py",
   "mimetype": "text/x-python",
   "name": "python",
   "nbconvert_exporter": "python",
   "pygments_lexer": "ipython3",
   "version": "3.12.3"
  }
 },
 "nbformat": 4,
 "nbformat_minor": 2
}
