{
 "cells": [
  {
   "cell_type": "markdown",
   "id": "c87bc264",
   "metadata": {},
   "source": [
    "> Projeto Desenvolve <br>\n",
    "Programação Intermediária com Python <br>\n",
    "Profa. Camila Laranjeira (mila@projetodesenvolve.com.br) <br>\n",
    "\n",
    "# 1.1 - Recursividade"
   ]
  },
  {
   "cell_type": "markdown",
   "id": "02e47197",
   "metadata": {},
   "source": [
    "## Exercícios:\n",
    "\n",
    "#### **Q1**. \n",
    "Faça um procedimento recursivo que receba dois valores inteiros `a` e `b` e imprime o intervalo fechado entre eles. Se `a > b` imprima uma mensagem de erro.\n",
    "\n",
    "| Entrada |  Saída |\n",
    "| ------- | ------ |\n",
    "| 1 10    | 1 2 3 4 5 6 7 8 9 10 |\n",
    "| -5 1    | -5 -4 -3 -2 -1 |\n",
    "| 5 -5    | Valores invalidos |\n",
    "| 17 20   | 17 18 19 20 |"
   ]
  },
  {
   "cell_type": "code",
   "execution_count": 25,
   "id": "e89a9966",
   "metadata": {},
   "outputs": [
    {
     "name": "stdout",
     "output_type": "stream",
     "text": [
      "-5, -4, -3, -2, -1\n"
     ]
    }
   ],
   "source": [
    "#1 - caso base\n",
    "#10 - numero maior\n",
    "# 1; 1 + 1; 2 + 1; 3 + 1... \n",
    "def intervalo (a, b):  \n",
    "    if (b >= a):\n",
    "        if (a == b):\n",
    "            print(b)\n",
    "            return b\n",
    "        else:\n",
    "            print(a, end=\", \")\n",
    "            intervalo(a + 1, b)\n",
    "    else:\n",
    "        print('Valores inválidos')\n",
    "    \n",
    "intervalo(-5, -1)\n"
   ]
  },
  {
   "cell_type": "markdown",
   "id": "b48196ed",
   "metadata": {},
   "source": [
    "---\n",
    "\n",
    "\n",
    "#### **Q2**. \n",
    "Mudando **apenas uma linha**, altere o código anterior para imprimir o intervalo invertido.\n",
    "\n",
    "| Entrada |  Saída |\n",
    "| ------- | ------ |\n",
    "| 1 10    | 10 9 8 7 6 5 4 3 2 1 |\n",
    "| -5 1    | -1 -2 -3 -4 -5 |\n",
    "| 5 -5    | Valores invalidos |\n",
    "| 17 20   | 20 19 18 17 |"
   ]
  },
  {
   "cell_type": "code",
   "execution_count": 53,
   "id": "4d0c21b4",
   "metadata": {},
   "outputs": [
    {
     "name": "stdout",
     "output_type": "stream",
     "text": [
      "20, 19, 18, 17\n"
     ]
    }
   ],
   "source": [
    "def intervalo (a, b):  \n",
    "    if (b >= a):\n",
    "        if (a == b):\n",
    "            print(b)\n",
    "            return b\n",
    "        else:\n",
    "            print(b, end=\", \")\n",
    "            intervalo(a, b-1)\n",
    "    else:\n",
    "        print('Valores inválidos')\n",
    "    \n",
    "intervalo(17, 20)\n"
   ]
  },
  {
   "cell_type": "markdown",
   "id": "be727074",
   "metadata": {},
   "source": [
    "\n",
    "\n",
    "---\n",
    "\n",
    "\n",
    "#### **Q3**. \n",
    "Escreva uma função recursiva que recebe um inteiro `n > 1` e calcula a soma dos valores entre `n` e `1`.\n",
    "\n",
    "| Entrada |  Saída |\n",
    "| ------- | ------ |\n",
    "| 5   | 15 |\n",
    "| 13  | 78 |"
   ]
  },
  {
   "cell_type": "code",
   "execution_count": 60,
   "id": "c4da98b8",
   "metadata": {},
   "outputs": [
    {
     "data": {
      "text/plain": [
       "91"
      ]
     },
     "execution_count": 60,
     "metadata": {},
     "output_type": "execute_result"
    }
   ],
   "source": [
    "#5 -> 5 + 4 + 3 + 2 + 1 + 0 = 15\n",
    "#5 -> 5 + (5-1) + (5-2) + (5-3) + (5-4) + (5-5) = 15\n",
    "#0 = caso base\n",
    "\n",
    "def somatorio(num):\n",
    "    if (num == 0):\n",
    "        return 0\n",
    "    else:\n",
    "        return num + somatorio(num - 1)\n",
    "    \n",
    "somatorio(13)\n",
    "\n",
    "#PROCESSAMENTO\n",
    "#5 + (num - 1)\n",
    "# 4 + (num - 1)\n",
    "#  3 + (num - 1) \n",
    "#   2 + (num - 1)\n",
    "#    1 + (num - 1)\n",
    "#     0 -> caso base\n",
    "#    1 + 0 = 1\n",
    "#   2 + 1 = 3\n",
    "#  3 + 3 = 6 \n",
    "# 4 + 6 = 10\n",
    "#5 + 10 = 15"
   ]
  },
  {
   "cell_type": "markdown",
   "id": "4142b276",
   "metadata": {},
   "source": [
    "\n",
    "\n",
    "---\n",
    "\n",
    "\n",
    "#### **Q4**.  \n",
    "\n",
    "Escreva uma função recursiva que recebe um inteiro `n` e verifica se `n`é um valor primo, ou seja, se é divisível apenas por si mesmo e por `1`."
   ]
  },
  {
   "cell_type": "code",
   "execution_count": 148,
   "id": "4c96eb2d",
   "metadata": {
    "scrolled": true
   },
   "outputs": [
    {
     "data": {
      "text/plain": [
       "'numero é primo'"
      ]
     },
     "execution_count": 148,
     "metadata": {},
     "output_type": "execute_result"
    }
   ],
   "source": [
    "def verificaPrimo(num):\n",
    "    if (num == 1):\n",
    "        return 'numero é primo'\n",
    "    if (num == numero):\n",
    "        return verificaPrimo(num - 1)\n",
    "    else:\n",
    "        verificacao = numero % num\n",
    "        if (verificacao == 0):\n",
    "            print('o número não é primo')\n",
    "        else:\n",
    "            return verificaPrimo(num - 1)\n",
    "        \n",
    "numero = 17\n",
    "verificaPrimo(numero)"
   ]
  },
  {
   "cell_type": "markdown",
   "id": "2a0ae81c",
   "metadata": {},
   "source": [
    "\n",
    "\n",
    "---\n",
    "\n",
    "\n",
    "#### **Q5**. \n",
    "Implemente uma função recursiva que recebe um número inteiro decimal e retorna sua representação binária como uma string. Para realizar essa conversão, utilize o método de divisão sucessiva, onde você divide o número decimal por 2 e coleta os restos até que o quociente seja zero. A ordem dos restos coletados, de baixo para cima, forma o número binário correspondente.\n",
    "\n",
    "**Exemplo de Conversão:**\n",
    "\n",
    "Para converter o número decimal 13 para binário:\n",
    "```\n",
    "13 ÷ 2 = 6, resto 1\n",
    "6 ÷ 2 = 3, resto 0\n",
    "3 ÷ 2 = 1, resto 1\n",
    "1 ÷ 2 = 0, resto 1\n",
    "```\n",
    "Lendo os restos de baixo para cima, obtemos o número binário `1101`."
   ]
  },
  {
   "cell_type": "code",
   "execution_count": 197,
   "id": "a7d954f0",
   "metadata": {},
   "outputs": [
    {
     "name": "stdout",
     "output_type": "stream",
     "text": [
      "1101\n"
     ]
    }
   ],
   "source": [
    "def numeroBinario (num):\n",
    "    if (num <= 0):\n",
    "        return ''\n",
    "    else:\n",
    "        resto = num % 2\n",
    "        num = num // 2\n",
    "        return numeroBinario(num) + str(resto)\n",
    "    \n",
    "\n",
    "binario = numeroBinario(13)\n",
    "print(binario)\n",
    "\n",
    "# 13 / 2 = 6 -> 1\n",
    "#  6 / 2 = 3 -> 0\n",
    "#   3 / 2 = 1 -> 1\n",
    "#    1 / 2 = 0 -> 1\n",
    "#      0 (caso base)\n",
    "#    \"1\" \n",
    "#   \"1\" + \"1\"\n",
    "#  \"1\" + \"1\" + \"0\"\n",
    "#\"1\" + \"1\" + \"0\" + \"1\""
   ]
  },
  {
   "cell_type": "markdown",
   "id": "0f500709",
   "metadata": {},
   "source": [
    "\n",
    "\n",
    "---\n",
    "\n",
    "\n",
    "#### **Extra**: \n",
    "\n",
    "Implemente uma função recursiva em Python que realiza a travessia em pré-ordem de uma árvore binária representada por listas aninhadas. Na travessia em pré-ordem (ou pré-fixada), o nó raiz é visitado primeiro, seguido pela subárvore esquerda e, por fim, pela subárvore direita. A questão fixa as constantes `RAIZ_IDX, ESQ_IDX, DIR_IDX` representando os índices da lista onde se encontra o valor raíz, o nó a esquerda e o nó a direita.\n",
    "\n",
    "```\n",
    "# Representação visual da árvore\n",
    "       4\n",
    "      / \\\n",
    "     2   5\n",
    "    / \\\n",
    "   1   3\n",
    "```"
   ]
  },
  {
   "cell_type": "markdown",
   "id": "6aea3a7a",
   "metadata": {},
   "source": [
    "4 -> 2 -> 1 -> 3 -> 5"
   ]
  },
  {
   "cell_type": "code",
   "execution_count": 55,
   "id": "10df4831",
   "metadata": {},
   "outputs": [
    {
     "data": {
      "text/plain": [
       "[4, 2, 1, 3, 5]"
      ]
     },
     "execution_count": 55,
     "metadata": {},
     "output_type": "execute_result"
    }
   ],
   "source": [
    "RAIZ_IDX, ESQ_IDX, DIR_IDX = 0, 1, 2\n",
    "\n",
    "arvore = [\n",
    "    4,              # raíz, nível 0\n",
    "    [               # ramo da esquerda, nível 1\n",
    "        2,          # valor filho esquerda\n",
    "        [1, None, None],   # ramo da esquerda, nível 2\n",
    "        [3, None, None]    # ramo da direita, nível 2\n",
    "    ],\n",
    "    [               # ramo da direita, nível 1\n",
    "        5,          # valor filho da direita\n",
    "        None,              # ramo da esquerda, nível 2\n",
    "        None               # ramo da direita, nível 2\n",
    "    ]\n",
    "]\n",
    "\n",
    "def pre_ordem(arvore):\n",
    "    \n",
    "    resultado = [arvore[RAIZ_IDX]]\n",
    "    \n",
    "    if len(arvore) > ESQ_IDX and arvore[ESQ_IDX] is not None:\n",
    "        resultado += pre_ordem(arvore[ESQ_IDX])\n",
    "    \n",
    "    if len(arvore) > DIR_IDX and arvore[DIR_IDX] is not None:\n",
    "        resultado += pre_ordem(arvore[DIR_IDX])\n",
    "    \n",
    "    return resultado\n",
    "\n",
    "pre_ordem(arvore)\n",
    "    "
   ]
  },
  {
   "cell_type": "code",
   "execution_count": null,
   "id": "c604a29a",
   "metadata": {},
   "outputs": [],
   "source": []
  }
 ],
 "metadata": {
  "kernelspec": {
   "display_name": "Python 3 (ipykernel)",
   "language": "python",
   "name": "python3"
  },
  "language_info": {
   "codemirror_mode": {
    "name": "ipython",
    "version": 3
   },
   "file_extension": ".py",
   "mimetype": "text/x-python",
   "name": "python",
   "nbconvert_exporter": "python",
   "pygments_lexer": "ipython3",
   "version": "3.12.3"
  }
 },
 "nbformat": 4,
 "nbformat_minor": 5
}
